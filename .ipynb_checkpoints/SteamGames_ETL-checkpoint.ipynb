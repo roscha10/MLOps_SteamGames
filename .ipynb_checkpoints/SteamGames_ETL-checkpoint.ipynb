{
 "cells": [
  {
   "cell_type": "code",
   "execution_count": 1,
   "id": "84bc8ae3",
   "metadata": {},
   "outputs": [],
   "source": [
    "import warnings\n",
    "warnings.filterwarnings(\"ignore\")"
   ]
  },
  {
   "cell_type": "markdown",
   "id": "2ffbfd67",
   "metadata": {},
   "source": [
    "# Inicialización\n",
    "\n",
    "Importamos las librerías que nos servirán para poder procesar, visualizar y explorar nuestros datos de manera efectiva, la librería `pandas`, `numpy`, `json`, `gzip`.\n"
   ]
  },
  {
   "cell_type": "code",
   "execution_count": 2,
   "id": "0df7be4c",
   "metadata": {},
   "outputs": [],
   "source": [
    "import pandas as pd\n",
    "import numpy as np\n",
    "import json\n",
    "import gzip\n",
    "\n",
    "%load_ext autoreload\n",
    "%autoreload 2"
   ]
  },
  {
   "cell_type": "markdown",
   "id": "178938a8",
   "metadata": {},
   "source": [
    "# Extracción de los datos Steam Games\n",
    "\n",
    "Extraer datos del archivo JSON \"steam_games.json.gz\", convertirlos en un DataFrame utilizando Pandas y explorar su contenido inicial.\n"
   ]
  },
  {
   "cell_type": "code",
   "execution_count": 3,
   "id": "7ec31e8a",
   "metadata": {},
   "outputs": [
    {
     "ename": "FileNotFoundError",
     "evalue": "[Errno 2] No such file or directory: 'steam_games.json.gz'",
     "output_type": "error",
     "traceback": [
      "\u001b[1;31m---------------------------------------------------------------------------\u001b[0m",
      "\u001b[1;31mFileNotFoundError\u001b[0m                         Traceback (most recent call last)",
      "Cell \u001b[1;32mIn[3], line 8\u001b[0m\n\u001b[0;32m      5\u001b[0m data_list \u001b[38;5;241m=\u001b[39m []\n\u001b[0;32m      7\u001b[0m \u001b[38;5;66;03m# Descomprime el archivo y lee línea por línea\u001b[39;00m\n\u001b[1;32m----> 8\u001b[0m \u001b[38;5;28;01mwith\u001b[39;00m \u001b[43mgzip\u001b[49m\u001b[38;5;241;43m.\u001b[39;49m\u001b[43mopen\u001b[49m\u001b[43m(\u001b[49m\u001b[43mfile_path\u001b[49m\u001b[43m,\u001b[49m\u001b[43m \u001b[49m\u001b[38;5;124;43m'\u001b[39;49m\u001b[38;5;124;43mrt\u001b[39;49m\u001b[38;5;124;43m'\u001b[39;49m\u001b[43m,\u001b[49m\u001b[43m \u001b[49m\u001b[43mencoding\u001b[49m\u001b[38;5;241;43m=\u001b[39;49m\u001b[38;5;124;43m'\u001b[39;49m\u001b[38;5;124;43mutf-8\u001b[39;49m\u001b[38;5;124;43m'\u001b[39;49m\u001b[43m)\u001b[49m \u001b[38;5;28;01mas\u001b[39;00m file:\n\u001b[0;32m      9\u001b[0m     \u001b[38;5;28;01mfor\u001b[39;00m line \u001b[38;5;129;01min\u001b[39;00m file:\n\u001b[0;32m     10\u001b[0m         \u001b[38;5;66;03m# Carga la línea como JSON\u001b[39;00m\n\u001b[0;32m     11\u001b[0m         data \u001b[38;5;241m=\u001b[39m json\u001b[38;5;241m.\u001b[39mloads(line)\n",
      "File \u001b[1;32m~\\AppData\\Local\\Programs\\Python\\Python311\\Lib\\gzip.py:58\u001b[0m, in \u001b[0;36mopen\u001b[1;34m(filename, mode, compresslevel, encoding, errors, newline)\u001b[0m\n\u001b[0;32m     56\u001b[0m gz_mode \u001b[38;5;241m=\u001b[39m mode\u001b[38;5;241m.\u001b[39mreplace(\u001b[38;5;124m\"\u001b[39m\u001b[38;5;124mt\u001b[39m\u001b[38;5;124m\"\u001b[39m, \u001b[38;5;124m\"\u001b[39m\u001b[38;5;124m\"\u001b[39m)\n\u001b[0;32m     57\u001b[0m \u001b[38;5;28;01mif\u001b[39;00m \u001b[38;5;28misinstance\u001b[39m(filename, (\u001b[38;5;28mstr\u001b[39m, \u001b[38;5;28mbytes\u001b[39m, os\u001b[38;5;241m.\u001b[39mPathLike)):\n\u001b[1;32m---> 58\u001b[0m     binary_file \u001b[38;5;241m=\u001b[39m \u001b[43mGzipFile\u001b[49m\u001b[43m(\u001b[49m\u001b[43mfilename\u001b[49m\u001b[43m,\u001b[49m\u001b[43m \u001b[49m\u001b[43mgz_mode\u001b[49m\u001b[43m,\u001b[49m\u001b[43m \u001b[49m\u001b[43mcompresslevel\u001b[49m\u001b[43m)\u001b[49m\n\u001b[0;32m     59\u001b[0m \u001b[38;5;28;01melif\u001b[39;00m \u001b[38;5;28mhasattr\u001b[39m(filename, \u001b[38;5;124m\"\u001b[39m\u001b[38;5;124mread\u001b[39m\u001b[38;5;124m\"\u001b[39m) \u001b[38;5;129;01mor\u001b[39;00m \u001b[38;5;28mhasattr\u001b[39m(filename, \u001b[38;5;124m\"\u001b[39m\u001b[38;5;124mwrite\u001b[39m\u001b[38;5;124m\"\u001b[39m):\n\u001b[0;32m     60\u001b[0m     binary_file \u001b[38;5;241m=\u001b[39m GzipFile(\u001b[38;5;28;01mNone\u001b[39;00m, gz_mode, compresslevel, filename)\n",
      "File \u001b[1;32m~\\AppData\\Local\\Programs\\Python\\Python311\\Lib\\gzip.py:174\u001b[0m, in \u001b[0;36mGzipFile.__init__\u001b[1;34m(self, filename, mode, compresslevel, fileobj, mtime)\u001b[0m\n\u001b[0;32m    172\u001b[0m     mode \u001b[38;5;241m+\u001b[39m\u001b[38;5;241m=\u001b[39m \u001b[38;5;124m'\u001b[39m\u001b[38;5;124mb\u001b[39m\u001b[38;5;124m'\u001b[39m\n\u001b[0;32m    173\u001b[0m \u001b[38;5;28;01mif\u001b[39;00m fileobj \u001b[38;5;129;01mis\u001b[39;00m \u001b[38;5;28;01mNone\u001b[39;00m:\n\u001b[1;32m--> 174\u001b[0m     fileobj \u001b[38;5;241m=\u001b[39m \u001b[38;5;28mself\u001b[39m\u001b[38;5;241m.\u001b[39mmyfileobj \u001b[38;5;241m=\u001b[39m \u001b[43mbuiltins\u001b[49m\u001b[38;5;241;43m.\u001b[39;49m\u001b[43mopen\u001b[49m\u001b[43m(\u001b[49m\u001b[43mfilename\u001b[49m\u001b[43m,\u001b[49m\u001b[43m \u001b[49m\u001b[43mmode\u001b[49m\u001b[43m \u001b[49m\u001b[38;5;129;43;01mor\u001b[39;49;00m\u001b[43m \u001b[49m\u001b[38;5;124;43m'\u001b[39;49m\u001b[38;5;124;43mrb\u001b[39;49m\u001b[38;5;124;43m'\u001b[39;49m\u001b[43m)\u001b[49m\n\u001b[0;32m    175\u001b[0m \u001b[38;5;28;01mif\u001b[39;00m filename \u001b[38;5;129;01mis\u001b[39;00m \u001b[38;5;28;01mNone\u001b[39;00m:\n\u001b[0;32m    176\u001b[0m     filename \u001b[38;5;241m=\u001b[39m \u001b[38;5;28mgetattr\u001b[39m(fileobj, \u001b[38;5;124m'\u001b[39m\u001b[38;5;124mname\u001b[39m\u001b[38;5;124m'\u001b[39m, \u001b[38;5;124m'\u001b[39m\u001b[38;5;124m'\u001b[39m)\n",
      "\u001b[1;31mFileNotFoundError\u001b[0m: [Errno 2] No such file or directory: 'steam_games.json.gz'"
     ]
    }
   ],
   "source": [
    "# Ruta al archivo comprimido\n",
    "file_path = 'steam_games.json.gz'\n",
    "\n",
    "# Lista para almacenar los datos\n",
    "data_list = []\n",
    "\n",
    "# Descomprime el archivo y lee línea por línea\n",
    "with gzip.open(file_path, 'rt', encoding='utf-8') as file:\n",
    "    for line in file:\n",
    "        # Carga la línea como JSON\n",
    "        data = json.loads(line)\n",
    "        data_list.append(data)\n",
    "\n",
    "# Crea un DataFrame a partir de la lista de datos\n",
    "data_games = pd.DataFrame(data_list)"
   ]
  },
  {
   "cell_type": "code",
   "execution_count": null,
   "id": "cf9a338c",
   "metadata": {},
   "outputs": [],
   "source": [
    "data_games"
   ]
  },
  {
   "cell_type": "markdown",
   "id": "b57cc5ca",
   "metadata": {},
   "source": [
    "# Dataset\n",
    "\n",
    "Para explorar nuestra base de datos vamos a llamar al atributo shape para saber el número total de filas y columnas, posteriormente utilizaremos los métodos head() y tail() para realizar un primer análisis de datos y familiarizarnos con nuestro dataframe. El dataset contiene los siguientes campos:\n",
    "\n",
    "**publisher:** Empresa publicadora del contenido.\n",
    "\n",
    "**genres:** Genero del juego. (lista de uno o mas géneros por registro)\n",
    "\n",
    "**app_name:** Nombre del juego.\n",
    "\n",
    "**title:** Titulo del contenido.\n",
    "\n",
    "**url:** URL de publicación del contenido.\n",
    "\n",
    "**release_date:** Fecha de lanzamiento.\n",
    "\n",
    "**tags:** Etiqueta del contenido. (lista de uno o mas etiquetas por registro)\n",
    "\n",
    "**reviews_url:** Reviews de contenido\n",
    "\n",
    "**specs:** Especificaciones (lista con una o mas especificaciones por registro).\n",
    "\n",
    "**price:**  Precio del videojuego.\n",
    "\n",
    "**early_access:** Acceso temprano (Booleano).\n",
    "\n",
    "**id:** Identificador único del juego.\n",
    "\n",
    "**developer:** Desarrollador del contenido."
   ]
  },
  {
   "cell_type": "code",
   "execution_count": null,
   "id": "fc1cd02a",
   "metadata": {},
   "outputs": [],
   "source": [
    "data_games.shape"
   ]
  },
  {
   "cell_type": "code",
   "execution_count": null,
   "id": "feecfb1e",
   "metadata": {},
   "outputs": [],
   "source": [
    "data_games.head(10)"
   ]
  },
  {
   "cell_type": "code",
   "execution_count": null,
   "id": "6fc345f6",
   "metadata": {},
   "outputs": [],
   "source": [
    "data_games.tail(10)"
   ]
  },
  {
   "cell_type": "markdown",
   "id": "5e60239e",
   "metadata": {},
   "source": [
    "En nuestro DataFrame, inicialmente registramos un total de 120445 filas y 13 columnas, hemos identificado que algunas filas contienen valores vacíos en todos los registros, y también hemos encontrado algunos valores nulos en otras áreas del conjunto de datos. "
   ]
  },
  {
   "cell_type": "markdown",
   "id": "3d585f6f",
   "metadata": {},
   "source": [
    "# Preparación y Limpieza de los Datos\n",
    "\n",
    "Antes de analizar y modelar los datos, es esencial asegurarnos de que estén limpios y bien preparados. Esto implica tratar valores faltantes, eliminar duplicados, corregir errores y convertir datos en formatos adecuados. Además, es fundamental revisar cada variable de manera inicial para detectar problemas y realizar las correcciones necesarias. Este proceso garantiza que los datos sean confiables y coherentes para análisis posteriores."
   ]
  },
  {
   "cell_type": "markdown",
   "id": "db7c9e5b",
   "metadata": {},
   "source": [
    "## Eliminación de Registros Vacíos\n",
    "\n",
    "En una primera vista, identificamos filas que contienen valores vacíos en todos los registros. Vamos a eliminar estas filas para asegurar que trabajemos con datos completos y significativos.\n"
   ]
  },
  {
   "cell_type": "code",
   "execution_count": null,
   "id": "a56e86a8",
   "metadata": {},
   "outputs": [],
   "source": [
    "# Eliminar filas con valores nulos en todo el registro\n",
    "data_games = data_games.dropna(how='all').reset_index(drop=True)"
   ]
  },
  {
   "cell_type": "code",
   "execution_count": null,
   "id": "9561ab77",
   "metadata": {},
   "outputs": [],
   "source": [
    "data_games.shape"
   ]
  },
  {
   "cell_type": "markdown",
   "id": "7f57ff68",
   "metadata": {},
   "source": [
    "hemos eliminado estas filas que contenían todos los datos nulos. El resultado es un DataFrame más limpio y eficiente, con un total de 32,135 filas y 13 columnas."
   ]
  },
  {
   "cell_type": "markdown",
   "id": "a5901026",
   "metadata": {},
   "source": [
    "cantidad de valores nulos por variable en el DataFrame `data_games`."
   ]
  },
  {
   "cell_type": "code",
   "execution_count": null,
   "id": "28535683",
   "metadata": {},
   "outputs": [],
   "source": [
    "data_games.isnull().sum()"
   ]
  },
  {
   "cell_type": "markdown",
   "id": "d5451b9d",
   "metadata": {},
   "source": [
    "# Conocer estructura de algunas de nuestras variables"
   ]
  },
  {
   "cell_type": "code",
   "execution_count": null,
   "id": "aa03724d",
   "metadata": {},
   "outputs": [],
   "source": [
    "unique_values = data_games['publisher'].unique()\n",
    "num_unique_values = len(unique_values)\n",
    "print(f'Variable: Publisher, Valores Únicos: {num_unique_values}')\n",
    "print('Valores Únicos:', unique_values)\n",
    "print('\\n')"
   ]
  },
  {
   "cell_type": "code",
   "execution_count": null,
   "id": "ab15c9b0",
   "metadata": {},
   "outputs": [],
   "source": [
    "unique_values = data_games['price'].unique()\n",
    "num_unique_values = len(unique_values)\n",
    "print(f'Variable: price, Valores Únicos: {num_unique_values}')\n",
    "print('Valores Únicos:', unique_values)\n",
    "print('\\n')"
   ]
  },
  {
   "cell_type": "code",
   "execution_count": null,
   "id": "c7802a9f",
   "metadata": {},
   "outputs": [],
   "source": [
    "unique_values = data_games['early_access'].unique()\n",
    "num_unique_values = len(unique_values)\n",
    "print(f'Variable: early_access, Valores Únicos: {num_unique_values}')\n",
    "print('Valores Únicos:', unique_values)\n",
    "print('\\n')"
   ]
  },
  {
   "cell_type": "code",
   "execution_count": 4,
   "id": "04407ed8",
   "metadata": {},
   "outputs": [
    {
     "ename": "NameError",
     "evalue": "name 'data_games' is not defined",
     "output_type": "error",
     "traceback": [
      "\u001b[1;31m---------------------------------------------------------------------------\u001b[0m",
      "\u001b[1;31mNameError\u001b[0m                                 Traceback (most recent call last)",
      "Cell \u001b[1;32mIn[4], line 1\u001b[0m\n\u001b[1;32m----> 1\u001b[0m \u001b[43mdata_games\u001b[49m[\u001b[38;5;124m'\u001b[39m\u001b[38;5;124mgenres\u001b[39m\u001b[38;5;124m'\u001b[39m]\n",
      "\u001b[1;31mNameError\u001b[0m: name 'data_games' is not defined"
     ]
    }
   ],
   "source": [
    "data_games['genres']"
   ]
  },
  {
   "cell_type": "code",
   "execution_count": null,
   "id": "7a6ed7b6",
   "metadata": {},
   "outputs": [],
   "source": [
    "data_games['tags']"
   ]
  },
  {
   "cell_type": "code",
   "execution_count": 5,
   "id": "57c7e74d",
   "metadata": {},
   "outputs": [
    {
     "ename": "NameError",
     "evalue": "name 'data_games' is not defined",
     "output_type": "error",
     "traceback": [
      "\u001b[1;31m---------------------------------------------------------------------------\u001b[0m",
      "\u001b[1;31mNameError\u001b[0m                                 Traceback (most recent call last)",
      "Cell \u001b[1;32mIn[5], line 1\u001b[0m\n\u001b[1;32m----> 1\u001b[0m \u001b[43mdata_games\u001b[49m[\u001b[38;5;124m'\u001b[39m\u001b[38;5;124mspecs\u001b[39m\u001b[38;5;124m'\u001b[39m]\n",
      "\u001b[1;31mNameError\u001b[0m: name 'data_games' is not defined"
     ]
    }
   ],
   "source": [
    "data_games['specs']"
   ]
  },
  {
   "cell_type": "markdown",
   "id": "6310af97",
   "metadata": {},
   "source": [
    "# Verificación de Datos Duplicados\n",
    "\n",
    "Llevaremos a cabo una verificación de datos duplicados en nuestra columna 'id' del DataFrame. El objetivo es determinar si existen registros duplicados en base a este identificador único. \n"
   ]
  },
  {
   "cell_type": "code",
   "execution_count": 6,
   "id": "c02dbb83",
   "metadata": {},
   "outputs": [
    {
     "ename": "NameError",
     "evalue": "name 'data_games' is not defined",
     "output_type": "error",
     "traceback": [
      "\u001b[1;31m---------------------------------------------------------------------------\u001b[0m",
      "\u001b[1;31mNameError\u001b[0m                                 Traceback (most recent call last)",
      "Cell \u001b[1;32mIn[6], line 1\u001b[0m\n\u001b[1;32m----> 1\u001b[0m duplicated_games \u001b[38;5;241m=\u001b[39m \u001b[43mdata_games\u001b[49m\u001b[38;5;241m.\u001b[39mloc[data_games[\u001b[38;5;124m'\u001b[39m\u001b[38;5;124mid\u001b[39m\u001b[38;5;124m'\u001b[39m]\u001b[38;5;241m.\u001b[39mduplicated(keep\u001b[38;5;241m=\u001b[39m\u001b[38;5;28;01mFalse\u001b[39;00m)]\n\u001b[0;32m      2\u001b[0m \u001b[38;5;28;01mif\u001b[39;00m \u001b[38;5;129;01mnot\u001b[39;00m duplicated_games\u001b[38;5;241m.\u001b[39mempty:\n\u001b[0;32m      3\u001b[0m     \u001b[38;5;28mprint\u001b[39m(\u001b[38;5;124m\"\u001b[39m\u001b[38;5;124mRegistros duplicados\u001b[39m\u001b[38;5;124m\"\u001b[39m)\n",
      "\u001b[1;31mNameError\u001b[0m: name 'data_games' is not defined"
     ]
    }
   ],
   "source": [
    "duplicated_games = data_games.loc[data_games['id'].duplicated(keep=False)]\n",
    "if not duplicated_games.empty:\n",
    "    print(\"Registros duplicados\")\n",
    "else:\n",
    "    print(\"No se encontraron registros duplicados en id. Total: 0\")\n",
    "duplicated_games"
   ]
  },
  {
   "cell_type": "markdown",
   "id": "dba78344",
   "metadata": {},
   "source": [
    "Podemos observar que se han detectado dos casos de datos duplicados en la columna 'id'. En el primer caso, el registro numero 13894 y 14573, el 'id' 612880 es idéntico en ambas instancias. Esto sugiere que uno de los registros duplicados puede eliminarse sin afectar la integridad de los datos.\n",
    "\n",
    "En el segundo caso, se observa que uno de los 'id' es NaN (valor nulo) y la primera aparición presenta más valores NaN que la segunda aparición. Esto puede requerir una revisión adicional para determinar si uno de los registros debe mantenerse o si ambos son redundantes.\n",
    "\n",
    "Procedemos a observar la columna 'developer', que nos proporcionará información sobre el desarrollador o creador del juego."
   ]
  },
  {
   "cell_type": "code",
   "execution_count": null,
   "id": "0cd86dab",
   "metadata": {},
   "outputs": [],
   "source": [
    "data_games[data_games['developer']=='Rocksteady Studios,Feral Interactive (Mac)']"
   ]
  },
  {
   "cell_type": "markdown",
   "id": "da0f34a4",
   "metadata": {},
   "source": [
    "Al observar la columna 'developer', que nos proporciona información sobre el desarrollador o creador del juego, notamos que el registro sin un valor 'id' (el 'id' 200260) está completo y no presenta faltantes de información.\n",
    "\n",
    "Por lo tanto, en este escenario, se sugiere eliminar ambas filas duplicadas, ya que el registro sin 'id' completo no afecta la integridad de los datos y puede considerarse redundante."
   ]
  },
  {
   "cell_type": "code",
   "execution_count": 7,
   "id": "77516353",
   "metadata": {},
   "outputs": [
    {
     "ename": "NameError",
     "evalue": "name 'data_games' is not defined",
     "output_type": "error",
     "traceback": [
      "\u001b[1;31m---------------------------------------------------------------------------\u001b[0m",
      "\u001b[1;31mNameError\u001b[0m                                 Traceback (most recent call last)",
      "Cell \u001b[1;32mIn[7], line 3\u001b[0m\n\u001b[0;32m      1\u001b[0m \u001b[38;5;66;03m# Eliminar filas con los índices 74, 14573, 30961\u001b[39;00m\n\u001b[1;32m----> 3\u001b[0m data_games \u001b[38;5;241m=\u001b[39m \u001b[43mdata_games\u001b[49m\u001b[38;5;241m.\u001b[39mdrop([ \u001b[38;5;241m74\u001b[39m, \u001b[38;5;241m14573\u001b[39m, \u001b[38;5;241m30961\u001b[39m])\n",
      "\u001b[1;31mNameError\u001b[0m: name 'data_games' is not defined"
     ]
    }
   ],
   "source": [
    "# Eliminar filas con los índices 74, 14573, 30961\n",
    "\n",
    "data_games = data_games.drop([ 74, 14573, 30961])"
   ]
  },
  {
   "cell_type": "code",
   "execution_count": 8,
   "id": "bf20896b",
   "metadata": {},
   "outputs": [
    {
     "ename": "NameError",
     "evalue": "name 'data_games' is not defined",
     "output_type": "error",
     "traceback": [
      "\u001b[1;31m---------------------------------------------------------------------------\u001b[0m",
      "\u001b[1;31mNameError\u001b[0m                                 Traceback (most recent call last)",
      "Cell \u001b[1;32mIn[8], line 4\u001b[0m\n\u001b[0;32m      1\u001b[0m \u001b[38;5;66;03m# Nos aseguramos que no hay datos duplicados en nuestra columna 'id' del DataFrame\u001b[39;00m\n\u001b[1;32m----> 4\u001b[0m duplicated_games \u001b[38;5;241m=\u001b[39m \u001b[43mdata_games\u001b[49m\u001b[38;5;241m.\u001b[39mloc[data_games[\u001b[38;5;124m'\u001b[39m\u001b[38;5;124mid\u001b[39m\u001b[38;5;124m'\u001b[39m]\u001b[38;5;241m.\u001b[39mduplicated(keep\u001b[38;5;241m=\u001b[39m\u001b[38;5;28;01mFalse\u001b[39;00m)]\n\u001b[0;32m      5\u001b[0m \u001b[38;5;28;01mif\u001b[39;00m \u001b[38;5;129;01mnot\u001b[39;00m duplicated_games\u001b[38;5;241m.\u001b[39mempty:\n\u001b[0;32m      6\u001b[0m     \u001b[38;5;28mprint\u001b[39m(\u001b[38;5;124m\"\u001b[39m\u001b[38;5;124mRegistros duplicados\u001b[39m\u001b[38;5;124m\"\u001b[39m)\n",
      "\u001b[1;31mNameError\u001b[0m: name 'data_games' is not defined"
     ]
    }
   ],
   "source": [
    "# Nos aseguramos que no hay datos duplicados en nuestra columna 'id' del DataFrame\n",
    "\n",
    "\n",
    "duplicated_games = data_games.loc[data_games['id'].duplicated(keep=False)]\n",
    "if not duplicated_games.empty:\n",
    "    print(\"Registros duplicados\")\n",
    "else:\n",
    "    print(\"No se encontraron registros duplicados en id. Total: 0\")\n"
   ]
  },
  {
   "cell_type": "markdown",
   "id": "c5d4765e",
   "metadata": {},
   "source": [
    "# Eliminación de Columnas no Relevantes \n",
    "\n",
    "En esta fase del proceso, nos encontramos con la necesidad de simplificar nuestro DataFrame para centrarnos en las variables clave que serán utilizadas en consultas futuras a la API y en la construcción de nuestro modelo de recomendación. Por lo tanto, hemos decidido eliminar las columnas `url`, `tags`, `reviews_url` y `specs` en esta primera instancia.\n",
    "\n",
    "Es importante destacar que esta eliminación no se realiza debido a que estas variables carezcan de importancia, sino más bien porque esta información no será utilizada en las consultas a la API ni en la generación del modelo de recomendación. Este enfoque contribuirá a simplificar nuestro conjunto de datos y nos permitirá concentrarnos en las variables que son esenciales para nuestras tareas de análisis y recomendación.\n"
   ]
  },
  {
   "cell_type": "code",
   "execution_count": 21,
   "id": "30d39db9",
   "metadata": {},
   "outputs": [
    {
     "data": {
      "text/html": [
       "<div>\n",
       "<style scoped>\n",
       "    .dataframe tbody tr th:only-of-type {\n",
       "        vertical-align: middle;\n",
       "    }\n",
       "\n",
       "    .dataframe tbody tr th {\n",
       "        vertical-align: top;\n",
       "    }\n",
       "\n",
       "    .dataframe thead th {\n",
       "        text-align: right;\n",
       "    }\n",
       "</style>\n",
       "<table border=\"1\" class=\"dataframe\">\n",
       "  <thead>\n",
       "    <tr style=\"text-align: right;\">\n",
       "      <th></th>\n",
       "      <th>publisher</th>\n",
       "      <th>genres</th>\n",
       "      <th>app_name</th>\n",
       "      <th>title</th>\n",
       "      <th>release_date</th>\n",
       "      <th>price</th>\n",
       "      <th>early_access</th>\n",
       "      <th>id</th>\n",
       "      <th>developer</th>\n",
       "    </tr>\n",
       "  </thead>\n",
       "  <tbody>\n",
       "    <tr>\n",
       "      <th>0</th>\n",
       "      <td>Kotoshiro</td>\n",
       "      <td>[Action, Casual, Indie, Simulation, Strategy]</td>\n",
       "      <td>Lost Summoner Kitty</td>\n",
       "      <td>Lost Summoner Kitty</td>\n",
       "      <td>2018-01-04</td>\n",
       "      <td>4.99</td>\n",
       "      <td>False</td>\n",
       "      <td>761140</td>\n",
       "      <td>Kotoshiro</td>\n",
       "    </tr>\n",
       "    <tr>\n",
       "      <th>1</th>\n",
       "      <td>Making Fun, Inc.</td>\n",
       "      <td>[Free to Play, Indie, RPG, Strategy]</td>\n",
       "      <td>Ironbound</td>\n",
       "      <td>Ironbound</td>\n",
       "      <td>2018-01-04</td>\n",
       "      <td>Free To Play</td>\n",
       "      <td>False</td>\n",
       "      <td>643980</td>\n",
       "      <td>Secret Level SRL</td>\n",
       "    </tr>\n",
       "    <tr>\n",
       "      <th>2</th>\n",
       "      <td>Poolians.com</td>\n",
       "      <td>[Casual, Free to Play, Indie, Simulation, Sports]</td>\n",
       "      <td>Real Pool 3D - Poolians</td>\n",
       "      <td>Real Pool 3D - Poolians</td>\n",
       "      <td>2017-07-24</td>\n",
       "      <td>Free to Play</td>\n",
       "      <td>False</td>\n",
       "      <td>670290</td>\n",
       "      <td>Poolians.com</td>\n",
       "    </tr>\n",
       "    <tr>\n",
       "      <th>3</th>\n",
       "      <td>彼岸领域</td>\n",
       "      <td>[Action, Adventure, Casual]</td>\n",
       "      <td>弹炸人2222</td>\n",
       "      <td>弹炸人2222</td>\n",
       "      <td>2017-12-07</td>\n",
       "      <td>0.99</td>\n",
       "      <td>False</td>\n",
       "      <td>767400</td>\n",
       "      <td>彼岸领域</td>\n",
       "    </tr>\n",
       "    <tr>\n",
       "      <th>4</th>\n",
       "      <td>NaN</td>\n",
       "      <td>NaN</td>\n",
       "      <td>Log Challenge</td>\n",
       "      <td>NaN</td>\n",
       "      <td>NaN</td>\n",
       "      <td>2.99</td>\n",
       "      <td>False</td>\n",
       "      <td>773570</td>\n",
       "      <td>NaN</td>\n",
       "    </tr>\n",
       "    <tr>\n",
       "      <th>5</th>\n",
       "      <td>Trickjump Games Ltd</td>\n",
       "      <td>[Action, Adventure, Simulation]</td>\n",
       "      <td>Battle Royale Trainer</td>\n",
       "      <td>Battle Royale Trainer</td>\n",
       "      <td>2018-01-04</td>\n",
       "      <td>3.99</td>\n",
       "      <td>False</td>\n",
       "      <td>772540</td>\n",
       "      <td>Trickjump Games Ltd</td>\n",
       "    </tr>\n",
       "    <tr>\n",
       "      <th>6</th>\n",
       "      <td>NaN</td>\n",
       "      <td>[Free to Play, Indie, Simulation, Sports]</td>\n",
       "      <td>SNOW - All Access Basic Pass</td>\n",
       "      <td>SNOW - All Access Basic Pass</td>\n",
       "      <td>2018-01-04</td>\n",
       "      <td>9.99</td>\n",
       "      <td>False</td>\n",
       "      <td>774276</td>\n",
       "      <td>Poppermost Productions</td>\n",
       "    </tr>\n",
       "    <tr>\n",
       "      <th>7</th>\n",
       "      <td>Poppermost Productions</td>\n",
       "      <td>[Free to Play, Indie, Simulation, Sports]</td>\n",
       "      <td>SNOW - All Access Pro Pass</td>\n",
       "      <td>SNOW - All Access Pro Pass</td>\n",
       "      <td>2018-01-04</td>\n",
       "      <td>18.99</td>\n",
       "      <td>False</td>\n",
       "      <td>774277</td>\n",
       "      <td>Poppermost Productions</td>\n",
       "    </tr>\n",
       "    <tr>\n",
       "      <th>8</th>\n",
       "      <td>Poppermost Productions</td>\n",
       "      <td>[Free to Play, Indie, Simulation, Sports]</td>\n",
       "      <td>SNOW - All Access Legend Pass</td>\n",
       "      <td>SNOW - All Access Legend Pass</td>\n",
       "      <td>2018-01-04</td>\n",
       "      <td>29.99</td>\n",
       "      <td>False</td>\n",
       "      <td>774278</td>\n",
       "      <td>Poppermost Productions</td>\n",
       "    </tr>\n",
       "    <tr>\n",
       "      <th>9</th>\n",
       "      <td>RewindApp</td>\n",
       "      <td>[Casual, Indie, Racing, Simulation]</td>\n",
       "      <td>Race</td>\n",
       "      <td>Race</td>\n",
       "      <td>2018-01-04</td>\n",
       "      <td>NaN</td>\n",
       "      <td>False</td>\n",
       "      <td>768800</td>\n",
       "      <td>RewindApp</td>\n",
       "    </tr>\n",
       "  </tbody>\n",
       "</table>\n",
       "</div>"
      ],
      "text/plain": [
       "                publisher                                             genres  \\\n",
       "0               Kotoshiro      [Action, Casual, Indie, Simulation, Strategy]   \n",
       "1        Making Fun, Inc.               [Free to Play, Indie, RPG, Strategy]   \n",
       "2            Poolians.com  [Casual, Free to Play, Indie, Simulation, Sports]   \n",
       "3                    彼岸领域                        [Action, Adventure, Casual]   \n",
       "4                     NaN                                                NaN   \n",
       "5     Trickjump Games Ltd                    [Action, Adventure, Simulation]   \n",
       "6                     NaN          [Free to Play, Indie, Simulation, Sports]   \n",
       "7  Poppermost Productions          [Free to Play, Indie, Simulation, Sports]   \n",
       "8  Poppermost Productions          [Free to Play, Indie, Simulation, Sports]   \n",
       "9               RewindApp                [Casual, Indie, Racing, Simulation]   \n",
       "\n",
       "                        app_name                          title release_date  \\\n",
       "0            Lost Summoner Kitty            Lost Summoner Kitty   2018-01-04   \n",
       "1                      Ironbound                      Ironbound   2018-01-04   \n",
       "2        Real Pool 3D - Poolians        Real Pool 3D - Poolians   2017-07-24   \n",
       "3                        弹炸人2222                        弹炸人2222   2017-12-07   \n",
       "4                  Log Challenge                            NaN          NaN   \n",
       "5          Battle Royale Trainer          Battle Royale Trainer   2018-01-04   \n",
       "6   SNOW - All Access Basic Pass   SNOW - All Access Basic Pass   2018-01-04   \n",
       "7     SNOW - All Access Pro Pass     SNOW - All Access Pro Pass   2018-01-04   \n",
       "8  SNOW - All Access Legend Pass  SNOW - All Access Legend Pass   2018-01-04   \n",
       "9                           Race                           Race   2018-01-04   \n",
       "\n",
       "          price early_access      id               developer  \n",
       "0          4.99        False  761140               Kotoshiro  \n",
       "1  Free To Play        False  643980        Secret Level SRL  \n",
       "2  Free to Play        False  670290            Poolians.com  \n",
       "3          0.99        False  767400                    彼岸领域  \n",
       "4          2.99        False  773570                     NaN  \n",
       "5          3.99        False  772540     Trickjump Games Ltd  \n",
       "6          9.99        False  774276  Poppermost Productions  \n",
       "7         18.99        False  774277  Poppermost Productions  \n",
       "8         29.99        False  774278  Poppermost Productions  \n",
       "9           NaN        False  768800               RewindApp  "
      ]
     },
     "execution_count": 21,
     "metadata": {},
     "output_type": "execute_result"
    }
   ],
   "source": [
    "data_games = data_games.drop(['tags', 'specs', 'url', 'reviews_url'], axis=1)\n",
    "data_games.head(10)"
   ]
  },
  {
   "cell_type": "markdown",
   "id": "32e9c9f6",
   "metadata": {},
   "source": [
    "# Transformación de Columnas y Gestión de Valores Nulos\n",
    "\n",
    "Continuando con nuestra preparación de datos, nos enfocamos en las columnas `publisher`, `app_name`, `title` y `developer`. Al revisar estas columnas, observamos la presencia de valores nulos en algunos registros. Para asegurarnos de que las variables sean consistentes y manejar adecuadamente los datos faltantes, decidimos completar los valores nulos con la etiqueta 'Dato no disponible'.\n"
   ]
  },
  {
   "cell_type": "code",
   "execution_count": 22,
   "id": "80497716",
   "metadata": {},
   "outputs": [],
   "source": [
    "# Reemplazo de valores nulos en las columnas 'publisher', 'app_name', 'title' y 'developer'\n",
    "data_games['publisher'].fillna('Dato no disponible', inplace=True)\n",
    "data_games['app_name'].fillna('Dato no disponible', inplace=True)\n",
    "data_games['title'].fillna('Dato no disponible', inplace=True)\n",
    "data_games['developer'].fillna('Dato no disponible', inplace=True)\n"
   ]
  },
  {
   "cell_type": "code",
   "execution_count": 23,
   "id": "72d02a66",
   "metadata": {},
   "outputs": [
    {
     "data": {
      "text/html": [
       "<div>\n",
       "<style scoped>\n",
       "    .dataframe tbody tr th:only-of-type {\n",
       "        vertical-align: middle;\n",
       "    }\n",
       "\n",
       "    .dataframe tbody tr th {\n",
       "        vertical-align: top;\n",
       "    }\n",
       "\n",
       "    .dataframe thead th {\n",
       "        text-align: right;\n",
       "    }\n",
       "</style>\n",
       "<table border=\"1\" class=\"dataframe\">\n",
       "  <thead>\n",
       "    <tr style=\"text-align: right;\">\n",
       "      <th></th>\n",
       "      <th>publisher</th>\n",
       "      <th>genres</th>\n",
       "      <th>app_name</th>\n",
       "      <th>title</th>\n",
       "      <th>release_date</th>\n",
       "      <th>price</th>\n",
       "      <th>early_access</th>\n",
       "      <th>id</th>\n",
       "      <th>developer</th>\n",
       "    </tr>\n",
       "  </thead>\n",
       "  <tbody>\n",
       "    <tr>\n",
       "      <th>0</th>\n",
       "      <td>Kotoshiro</td>\n",
       "      <td>[Action, Casual, Indie, Simulation, Strategy]</td>\n",
       "      <td>Lost Summoner Kitty</td>\n",
       "      <td>Lost Summoner Kitty</td>\n",
       "      <td>2018-01-04</td>\n",
       "      <td>4.99</td>\n",
       "      <td>False</td>\n",
       "      <td>761140</td>\n",
       "      <td>Kotoshiro</td>\n",
       "    </tr>\n",
       "    <tr>\n",
       "      <th>1</th>\n",
       "      <td>Making Fun, Inc.</td>\n",
       "      <td>[Free to Play, Indie, RPG, Strategy]</td>\n",
       "      <td>Ironbound</td>\n",
       "      <td>Ironbound</td>\n",
       "      <td>2018-01-04</td>\n",
       "      <td>Free To Play</td>\n",
       "      <td>False</td>\n",
       "      <td>643980</td>\n",
       "      <td>Secret Level SRL</td>\n",
       "    </tr>\n",
       "    <tr>\n",
       "      <th>2</th>\n",
       "      <td>Poolians.com</td>\n",
       "      <td>[Casual, Free to Play, Indie, Simulation, Sports]</td>\n",
       "      <td>Real Pool 3D - Poolians</td>\n",
       "      <td>Real Pool 3D - Poolians</td>\n",
       "      <td>2017-07-24</td>\n",
       "      <td>Free to Play</td>\n",
       "      <td>False</td>\n",
       "      <td>670290</td>\n",
       "      <td>Poolians.com</td>\n",
       "    </tr>\n",
       "    <tr>\n",
       "      <th>3</th>\n",
       "      <td>彼岸领域</td>\n",
       "      <td>[Action, Adventure, Casual]</td>\n",
       "      <td>弹炸人2222</td>\n",
       "      <td>弹炸人2222</td>\n",
       "      <td>2017-12-07</td>\n",
       "      <td>0.99</td>\n",
       "      <td>False</td>\n",
       "      <td>767400</td>\n",
       "      <td>彼岸领域</td>\n",
       "    </tr>\n",
       "    <tr>\n",
       "      <th>4</th>\n",
       "      <td>Dato no disponible</td>\n",
       "      <td>NaN</td>\n",
       "      <td>Log Challenge</td>\n",
       "      <td>Dato no disponible</td>\n",
       "      <td>NaN</td>\n",
       "      <td>2.99</td>\n",
       "      <td>False</td>\n",
       "      <td>773570</td>\n",
       "      <td>Dato no disponible</td>\n",
       "    </tr>\n",
       "  </tbody>\n",
       "</table>\n",
       "</div>"
      ],
      "text/plain": [
       "            publisher                                             genres  \\\n",
       "0           Kotoshiro      [Action, Casual, Indie, Simulation, Strategy]   \n",
       "1    Making Fun, Inc.               [Free to Play, Indie, RPG, Strategy]   \n",
       "2        Poolians.com  [Casual, Free to Play, Indie, Simulation, Sports]   \n",
       "3                彼岸领域                        [Action, Adventure, Casual]   \n",
       "4  Dato no disponible                                                NaN   \n",
       "\n",
       "                  app_name                    title release_date  \\\n",
       "0      Lost Summoner Kitty      Lost Summoner Kitty   2018-01-04   \n",
       "1                Ironbound                Ironbound   2018-01-04   \n",
       "2  Real Pool 3D - Poolians  Real Pool 3D - Poolians   2017-07-24   \n",
       "3                  弹炸人2222                  弹炸人2222   2017-12-07   \n",
       "4            Log Challenge       Dato no disponible          NaN   \n",
       "\n",
       "          price early_access      id           developer  \n",
       "0          4.99        False  761140           Kotoshiro  \n",
       "1  Free To Play        False  643980    Secret Level SRL  \n",
       "2  Free to Play        False  670290        Poolians.com  \n",
       "3          0.99        False  767400                彼岸领域  \n",
       "4          2.99        False  773570  Dato no disponible  "
      ]
     },
     "execution_count": 23,
     "metadata": {},
     "output_type": "execute_result"
    }
   ],
   "source": [
    "data_games.head()"
   ]
  },
  {
   "cell_type": "markdown",
   "id": "91be108b",
   "metadata": {},
   "source": [
    "\n",
    "\n",
    "# Transformación de la Columna 'genres'\n",
    "\n",
    "A partir de la columna 'genres', aplicaremos una transformación específica para descomponer las listas de géneros de videojuegos en registros individuales. "
   ]
  },
  {
   "cell_type": "code",
   "execution_count": 24,
   "id": "cb128c76",
   "metadata": {},
   "outputs": [],
   "source": [
    "# Usar explode para descomponer la columna 'genres'\n",
    "data_games = data_games.explode('genres')\n",
    "\n",
    "# Eliminar filas con valores nulos en la columna 'genres'\n",
    "data_games = data_games.dropna(subset=['genres'])\n"
   ]
  },
  {
   "cell_type": "code",
   "execution_count": 25,
   "id": "5225372d",
   "metadata": {
    "scrolled": true
   },
   "outputs": [
    {
     "data": {
      "text/html": [
       "<div>\n",
       "<style scoped>\n",
       "    .dataframe tbody tr th:only-of-type {\n",
       "        vertical-align: middle;\n",
       "    }\n",
       "\n",
       "    .dataframe tbody tr th {\n",
       "        vertical-align: top;\n",
       "    }\n",
       "\n",
       "    .dataframe thead th {\n",
       "        text-align: right;\n",
       "    }\n",
       "</style>\n",
       "<table border=\"1\" class=\"dataframe\">\n",
       "  <thead>\n",
       "    <tr style=\"text-align: right;\">\n",
       "      <th></th>\n",
       "      <th>publisher</th>\n",
       "      <th>genres</th>\n",
       "      <th>app_name</th>\n",
       "      <th>title</th>\n",
       "      <th>release_date</th>\n",
       "      <th>price</th>\n",
       "      <th>early_access</th>\n",
       "      <th>id</th>\n",
       "      <th>developer</th>\n",
       "    </tr>\n",
       "  </thead>\n",
       "  <tbody>\n",
       "    <tr>\n",
       "      <th>0</th>\n",
       "      <td>Kotoshiro</td>\n",
       "      <td>Action</td>\n",
       "      <td>Lost Summoner Kitty</td>\n",
       "      <td>Lost Summoner Kitty</td>\n",
       "      <td>2018-01-04</td>\n",
       "      <td>4.99</td>\n",
       "      <td>False</td>\n",
       "      <td>761140</td>\n",
       "      <td>Kotoshiro</td>\n",
       "    </tr>\n",
       "    <tr>\n",
       "      <th>0</th>\n",
       "      <td>Kotoshiro</td>\n",
       "      <td>Casual</td>\n",
       "      <td>Lost Summoner Kitty</td>\n",
       "      <td>Lost Summoner Kitty</td>\n",
       "      <td>2018-01-04</td>\n",
       "      <td>4.99</td>\n",
       "      <td>False</td>\n",
       "      <td>761140</td>\n",
       "      <td>Kotoshiro</td>\n",
       "    </tr>\n",
       "    <tr>\n",
       "      <th>0</th>\n",
       "      <td>Kotoshiro</td>\n",
       "      <td>Indie</td>\n",
       "      <td>Lost Summoner Kitty</td>\n",
       "      <td>Lost Summoner Kitty</td>\n",
       "      <td>2018-01-04</td>\n",
       "      <td>4.99</td>\n",
       "      <td>False</td>\n",
       "      <td>761140</td>\n",
       "      <td>Kotoshiro</td>\n",
       "    </tr>\n",
       "    <tr>\n",
       "      <th>0</th>\n",
       "      <td>Kotoshiro</td>\n",
       "      <td>Simulation</td>\n",
       "      <td>Lost Summoner Kitty</td>\n",
       "      <td>Lost Summoner Kitty</td>\n",
       "      <td>2018-01-04</td>\n",
       "      <td>4.99</td>\n",
       "      <td>False</td>\n",
       "      <td>761140</td>\n",
       "      <td>Kotoshiro</td>\n",
       "    </tr>\n",
       "    <tr>\n",
       "      <th>0</th>\n",
       "      <td>Kotoshiro</td>\n",
       "      <td>Strategy</td>\n",
       "      <td>Lost Summoner Kitty</td>\n",
       "      <td>Lost Summoner Kitty</td>\n",
       "      <td>2018-01-04</td>\n",
       "      <td>4.99</td>\n",
       "      <td>False</td>\n",
       "      <td>761140</td>\n",
       "      <td>Kotoshiro</td>\n",
       "    </tr>\n",
       "    <tr>\n",
       "      <th>1</th>\n",
       "      <td>Making Fun, Inc.</td>\n",
       "      <td>Free to Play</td>\n",
       "      <td>Ironbound</td>\n",
       "      <td>Ironbound</td>\n",
       "      <td>2018-01-04</td>\n",
       "      <td>Free To Play</td>\n",
       "      <td>False</td>\n",
       "      <td>643980</td>\n",
       "      <td>Secret Level SRL</td>\n",
       "    </tr>\n",
       "    <tr>\n",
       "      <th>1</th>\n",
       "      <td>Making Fun, Inc.</td>\n",
       "      <td>Indie</td>\n",
       "      <td>Ironbound</td>\n",
       "      <td>Ironbound</td>\n",
       "      <td>2018-01-04</td>\n",
       "      <td>Free To Play</td>\n",
       "      <td>False</td>\n",
       "      <td>643980</td>\n",
       "      <td>Secret Level SRL</td>\n",
       "    </tr>\n",
       "    <tr>\n",
       "      <th>1</th>\n",
       "      <td>Making Fun, Inc.</td>\n",
       "      <td>RPG</td>\n",
       "      <td>Ironbound</td>\n",
       "      <td>Ironbound</td>\n",
       "      <td>2018-01-04</td>\n",
       "      <td>Free To Play</td>\n",
       "      <td>False</td>\n",
       "      <td>643980</td>\n",
       "      <td>Secret Level SRL</td>\n",
       "    </tr>\n",
       "    <tr>\n",
       "      <th>1</th>\n",
       "      <td>Making Fun, Inc.</td>\n",
       "      <td>Strategy</td>\n",
       "      <td>Ironbound</td>\n",
       "      <td>Ironbound</td>\n",
       "      <td>2018-01-04</td>\n",
       "      <td>Free To Play</td>\n",
       "      <td>False</td>\n",
       "      <td>643980</td>\n",
       "      <td>Secret Level SRL</td>\n",
       "    </tr>\n",
       "    <tr>\n",
       "      <th>2</th>\n",
       "      <td>Poolians.com</td>\n",
       "      <td>Casual</td>\n",
       "      <td>Real Pool 3D - Poolians</td>\n",
       "      <td>Real Pool 3D - Poolians</td>\n",
       "      <td>2017-07-24</td>\n",
       "      <td>Free to Play</td>\n",
       "      <td>False</td>\n",
       "      <td>670290</td>\n",
       "      <td>Poolians.com</td>\n",
       "    </tr>\n",
       "  </tbody>\n",
       "</table>\n",
       "</div>"
      ],
      "text/plain": [
       "          publisher        genres                 app_name  \\\n",
       "0         Kotoshiro        Action      Lost Summoner Kitty   \n",
       "0         Kotoshiro        Casual      Lost Summoner Kitty   \n",
       "0         Kotoshiro         Indie      Lost Summoner Kitty   \n",
       "0         Kotoshiro    Simulation      Lost Summoner Kitty   \n",
       "0         Kotoshiro      Strategy      Lost Summoner Kitty   \n",
       "1  Making Fun, Inc.  Free to Play                Ironbound   \n",
       "1  Making Fun, Inc.         Indie                Ironbound   \n",
       "1  Making Fun, Inc.           RPG                Ironbound   \n",
       "1  Making Fun, Inc.      Strategy                Ironbound   \n",
       "2      Poolians.com        Casual  Real Pool 3D - Poolians   \n",
       "\n",
       "                     title release_date         price early_access      id  \\\n",
       "0      Lost Summoner Kitty   2018-01-04          4.99        False  761140   \n",
       "0      Lost Summoner Kitty   2018-01-04          4.99        False  761140   \n",
       "0      Lost Summoner Kitty   2018-01-04          4.99        False  761140   \n",
       "0      Lost Summoner Kitty   2018-01-04          4.99        False  761140   \n",
       "0      Lost Summoner Kitty   2018-01-04          4.99        False  761140   \n",
       "1                Ironbound   2018-01-04  Free To Play        False  643980   \n",
       "1                Ironbound   2018-01-04  Free To Play        False  643980   \n",
       "1                Ironbound   2018-01-04  Free To Play        False  643980   \n",
       "1                Ironbound   2018-01-04  Free To Play        False  643980   \n",
       "2  Real Pool 3D - Poolians   2017-07-24  Free to Play        False  670290   \n",
       "\n",
       "          developer  \n",
       "0         Kotoshiro  \n",
       "0         Kotoshiro  \n",
       "0         Kotoshiro  \n",
       "0         Kotoshiro  \n",
       "0         Kotoshiro  \n",
       "1  Secret Level SRL  \n",
       "1  Secret Level SRL  \n",
       "1  Secret Level SRL  \n",
       "1  Secret Level SRL  \n",
       "2      Poolians.com  "
      ]
     },
     "execution_count": 25,
     "metadata": {},
     "output_type": "execute_result"
    }
   ],
   "source": [
    "data_games.head(10)"
   ]
  },
  {
   "cell_type": "code",
   "execution_count": 26,
   "id": "8bf2511c",
   "metadata": {},
   "outputs": [
    {
     "data": {
      "text/html": [
       "<div>\n",
       "<style scoped>\n",
       "    .dataframe tbody tr th:only-of-type {\n",
       "        vertical-align: middle;\n",
       "    }\n",
       "\n",
       "    .dataframe tbody tr th {\n",
       "        vertical-align: top;\n",
       "    }\n",
       "\n",
       "    .dataframe thead th {\n",
       "        text-align: right;\n",
       "    }\n",
       "</style>\n",
       "<table border=\"1\" class=\"dataframe\">\n",
       "  <thead>\n",
       "    <tr style=\"text-align: right;\">\n",
       "      <th></th>\n",
       "      <th>publisher</th>\n",
       "      <th>genres</th>\n",
       "      <th>app_name</th>\n",
       "      <th>title</th>\n",
       "      <th>release_date</th>\n",
       "      <th>price</th>\n",
       "      <th>early_access</th>\n",
       "      <th>id</th>\n",
       "      <th>developer</th>\n",
       "    </tr>\n",
       "  </thead>\n",
       "  <tbody>\n",
       "    <tr>\n",
       "      <th>5219</th>\n",
       "      <td>Individual Software</td>\n",
       "      <td>Accounting</td>\n",
       "      <td>Quicken Legal Business Pro</td>\n",
       "      <td>Quicken Legal Business Pro</td>\n",
       "      <td>2015-10-15</td>\n",
       "      <td>44.99</td>\n",
       "      <td>False</td>\n",
       "      <td>411350</td>\n",
       "      <td>Nolo</td>\n",
       "    </tr>\n",
       "    <tr>\n",
       "      <th>8499</th>\n",
       "      <td>Individual Software</td>\n",
       "      <td>Accounting</td>\n",
       "      <td>Quicken WillMaker Plus 2017</td>\n",
       "      <td>Quicken WillMaker Plus 2017</td>\n",
       "      <td>2016-11-08</td>\n",
       "      <td>54.99</td>\n",
       "      <td>False</td>\n",
       "      <td>555810</td>\n",
       "      <td>Nolo</td>\n",
       "    </tr>\n",
       "    <tr>\n",
       "      <th>11751</th>\n",
       "      <td>MING-CHIEN LEE</td>\n",
       "      <td>Accounting</td>\n",
       "      <td>MyMoney</td>\n",
       "      <td>MyMoney</td>\n",
       "      <td>2017-09-30</td>\n",
       "      <td>Free</td>\n",
       "      <td>False</td>\n",
       "      <td>677310</td>\n",
       "      <td>MING-CHIEN LEE</td>\n",
       "    </tr>\n",
       "    <tr>\n",
       "      <th>12296</th>\n",
       "      <td>Individual Software</td>\n",
       "      <td>Accounting</td>\n",
       "      <td>Quicken WillMaker Plus 2018</td>\n",
       "      <td>Quicken WillMaker Plus 2018</td>\n",
       "      <td>2017-11-10</td>\n",
       "      <td>69.99</td>\n",
       "      <td>False</td>\n",
       "      <td>732710</td>\n",
       "      <td>Nolo</td>\n",
       "    </tr>\n",
       "    <tr>\n",
       "      <th>15811</th>\n",
       "      <td>Stardock</td>\n",
       "      <td>Accounting</td>\n",
       "      <td>Multiplicity</td>\n",
       "      <td>Multiplicity</td>\n",
       "      <td>2017-09-07</td>\n",
       "      <td>19.99</td>\n",
       "      <td>False</td>\n",
       "      <td>620040</td>\n",
       "      <td>Stardock</td>\n",
       "    </tr>\n",
       "    <tr>\n",
       "      <th>17192</th>\n",
       "      <td>Individual Software</td>\n",
       "      <td>Accounting</td>\n",
       "      <td>Professor Teaches QuickBooks 2017</td>\n",
       "      <td>Professor Teaches QuickBooks 2017</td>\n",
       "      <td>2017-04-03</td>\n",
       "      <td>14.99</td>\n",
       "      <td>False</td>\n",
       "      <td>623590</td>\n",
       "      <td>Individual Software</td>\n",
       "    </tr>\n",
       "    <tr>\n",
       "      <th>24387</th>\n",
       "      <td>Individual Software</td>\n",
       "      <td>Accounting</td>\n",
       "      <td>Quicken WillMaker Plus 2016</td>\n",
       "      <td>Quicken WillMaker Plus 2016</td>\n",
       "      <td>2015-10-15</td>\n",
       "      <td>59.99</td>\n",
       "      <td>False</td>\n",
       "      <td>411340</td>\n",
       "      <td>Nolo</td>\n",
       "    </tr>\n",
       "  </tbody>\n",
       "</table>\n",
       "</div>"
      ],
      "text/plain": [
       "                 publisher      genres                           app_name  \\\n",
       "5219   Individual Software  Accounting         Quicken Legal Business Pro   \n",
       "8499   Individual Software  Accounting        Quicken WillMaker Plus 2017   \n",
       "11751       MING-CHIEN LEE  Accounting                            MyMoney   \n",
       "12296  Individual Software  Accounting        Quicken WillMaker Plus 2018   \n",
       "15811             Stardock  Accounting                       Multiplicity   \n",
       "17192  Individual Software  Accounting  Professor Teaches QuickBooks 2017   \n",
       "24387  Individual Software  Accounting        Quicken WillMaker Plus 2016   \n",
       "\n",
       "                                   title release_date  price early_access  \\\n",
       "5219          Quicken Legal Business Pro   2015-10-15  44.99        False   \n",
       "8499         Quicken WillMaker Plus 2017   2016-11-08  54.99        False   \n",
       "11751                            MyMoney   2017-09-30   Free        False   \n",
       "12296        Quicken WillMaker Plus 2018   2017-11-10  69.99        False   \n",
       "15811                       Multiplicity   2017-09-07  19.99        False   \n",
       "17192  Professor Teaches QuickBooks 2017   2017-04-03  14.99        False   \n",
       "24387        Quicken WillMaker Plus 2016   2015-10-15  59.99        False   \n",
       "\n",
       "           id            developer  \n",
       "5219   411350                 Nolo  \n",
       "8499   555810                 Nolo  \n",
       "11751  677310       MING-CHIEN LEE  \n",
       "12296  732710                 Nolo  \n",
       "15811  620040             Stardock  \n",
       "17192  623590  Individual Software  \n",
       "24387  411340                 Nolo  "
      ]
     },
     "execution_count": 26,
     "metadata": {},
     "output_type": "execute_result"
    }
   ],
   "source": [
    "data_games[data_games['genres']=='Accounting']"
   ]
  },
  {
   "cell_type": "markdown",
   "id": "8683287e",
   "metadata": {},
   "source": [
    "# Transformación de la Columna 'release_date'\n",
    "A partir de la columna 'release_date', extraeremos el año de lanzamiento y crearemos una nueva columna para almacenar este dato. En caso de que la fecha esté ausente, se marcará como \"Dato no disponible\".\n"
   ]
  },
  {
   "cell_type": "code",
   "execution_count": 27,
   "id": "acc20e41",
   "metadata": {},
   "outputs": [],
   "source": [
    "# Convertir la columna 'release_date' al tipo datetime\n",
    "data_games['release_date'] = pd.to_datetime(data_games['release_date'], errors='coerce')\n",
    "\n",
    "# Extraer el año y crear la columna 'release_year', asignando -1 a los valores no válidos\n",
    "data_games['release_year'] = data_games['release_date'].dt.year.fillna(-1).astype(int)\n",
    "\n",
    "# Reemplazar los valores -1 por \"Dato no disponible\" en la columna 'release_year'\n",
    "data_games['release_year'] = data_games['release_year'].replace(-1, \"Dato no disponible\")\n",
    "\n",
    "# Eliminar la columna 'release_date' original\n",
    "data_games.drop('release_date', axis=1, inplace=True)"
   ]
  },
  {
   "cell_type": "markdown",
   "id": "dd3f2e3a",
   "metadata": {},
   "source": [
    "# Transformación de la Columna 'price'\n",
    "\n",
    "En la columna 'price' Reemplazaremos los valores de texto, como promociones o juegos gratuitos, por 0 para facilitar futuros análisis. También imputaremos los valores nulos como 0 para mantener coherencia en el conjunto de datos."
   ]
  },
  {
   "cell_type": "code",
   "execution_count": 28,
   "id": "da2ac582",
   "metadata": {},
   "outputs": [],
   "source": [
    "# Reemplazar cualquier valor de texto por 0, formatear a dos decimales y asignar 0 a los valores nulos en la columna 'price'\n",
    "data_games['price'] = data_games['price'].apply(lambda x: 0 if isinstance(x, str) else round(float(x), 2)).fillna(0)\n"
   ]
  },
  {
   "cell_type": "code",
   "execution_count": 31,
   "id": "c9870b36",
   "metadata": {},
   "outputs": [
    {
     "data": {
      "text/html": [
       "<div>\n",
       "<style scoped>\n",
       "    .dataframe tbody tr th:only-of-type {\n",
       "        vertical-align: middle;\n",
       "    }\n",
       "\n",
       "    .dataframe tbody tr th {\n",
       "        vertical-align: top;\n",
       "    }\n",
       "\n",
       "    .dataframe thead th {\n",
       "        text-align: right;\n",
       "    }\n",
       "</style>\n",
       "<table border=\"1\" class=\"dataframe\">\n",
       "  <thead>\n",
       "    <tr style=\"text-align: right;\">\n",
       "      <th></th>\n",
       "      <th>publisher</th>\n",
       "      <th>genres</th>\n",
       "      <th>app_name</th>\n",
       "      <th>title</th>\n",
       "      <th>price</th>\n",
       "      <th>early_access</th>\n",
       "      <th>id</th>\n",
       "      <th>developer</th>\n",
       "      <th>release_year</th>\n",
       "    </tr>\n",
       "  </thead>\n",
       "  <tbody>\n",
       "    <tr>\n",
       "      <th>0</th>\n",
       "      <td>Kotoshiro</td>\n",
       "      <td>Action</td>\n",
       "      <td>Lost Summoner Kitty</td>\n",
       "      <td>Lost Summoner Kitty</td>\n",
       "      <td>4.99</td>\n",
       "      <td>False</td>\n",
       "      <td>761140</td>\n",
       "      <td>Kotoshiro</td>\n",
       "      <td>2018</td>\n",
       "    </tr>\n",
       "    <tr>\n",
       "      <th>0</th>\n",
       "      <td>Kotoshiro</td>\n",
       "      <td>Casual</td>\n",
       "      <td>Lost Summoner Kitty</td>\n",
       "      <td>Lost Summoner Kitty</td>\n",
       "      <td>4.99</td>\n",
       "      <td>False</td>\n",
       "      <td>761140</td>\n",
       "      <td>Kotoshiro</td>\n",
       "      <td>2018</td>\n",
       "    </tr>\n",
       "    <tr>\n",
       "      <th>0</th>\n",
       "      <td>Kotoshiro</td>\n",
       "      <td>Indie</td>\n",
       "      <td>Lost Summoner Kitty</td>\n",
       "      <td>Lost Summoner Kitty</td>\n",
       "      <td>4.99</td>\n",
       "      <td>False</td>\n",
       "      <td>761140</td>\n",
       "      <td>Kotoshiro</td>\n",
       "      <td>2018</td>\n",
       "    </tr>\n",
       "    <tr>\n",
       "      <th>0</th>\n",
       "      <td>Kotoshiro</td>\n",
       "      <td>Simulation</td>\n",
       "      <td>Lost Summoner Kitty</td>\n",
       "      <td>Lost Summoner Kitty</td>\n",
       "      <td>4.99</td>\n",
       "      <td>False</td>\n",
       "      <td>761140</td>\n",
       "      <td>Kotoshiro</td>\n",
       "      <td>2018</td>\n",
       "    </tr>\n",
       "    <tr>\n",
       "      <th>0</th>\n",
       "      <td>Kotoshiro</td>\n",
       "      <td>Strategy</td>\n",
       "      <td>Lost Summoner Kitty</td>\n",
       "      <td>Lost Summoner Kitty</td>\n",
       "      <td>4.99</td>\n",
       "      <td>False</td>\n",
       "      <td>761140</td>\n",
       "      <td>Kotoshiro</td>\n",
       "      <td>2018</td>\n",
       "    </tr>\n",
       "  </tbody>\n",
       "</table>\n",
       "</div>"
      ],
      "text/plain": [
       "   publisher      genres             app_name                title  price  \\\n",
       "0  Kotoshiro      Action  Lost Summoner Kitty  Lost Summoner Kitty   4.99   \n",
       "0  Kotoshiro      Casual  Lost Summoner Kitty  Lost Summoner Kitty   4.99   \n",
       "0  Kotoshiro       Indie  Lost Summoner Kitty  Lost Summoner Kitty   4.99   \n",
       "0  Kotoshiro  Simulation  Lost Summoner Kitty  Lost Summoner Kitty   4.99   \n",
       "0  Kotoshiro    Strategy  Lost Summoner Kitty  Lost Summoner Kitty   4.99   \n",
       "\n",
       "  early_access      id  developer release_year  \n",
       "0        False  761140  Kotoshiro         2018  \n",
       "0        False  761140  Kotoshiro         2018  \n",
       "0        False  761140  Kotoshiro         2018  \n",
       "0        False  761140  Kotoshiro         2018  \n",
       "0        False  761140  Kotoshiro         2018  "
      ]
     },
     "execution_count": 31,
     "metadata": {},
     "output_type": "execute_result"
    }
   ],
   "source": [
    "data_games.head()"
   ]
  },
  {
   "cell_type": "code",
   "execution_count": null,
   "id": "600283e4",
   "metadata": {},
   "outputs": [],
   "source": []
  },
  {
   "cell_type": "code",
   "execution_count": null,
   "id": "fa45ed4e",
   "metadata": {},
   "outputs": [],
   "source": [
    "# Reemplazar 'Dato no disponible' con NaN\n",
    "data_items['release_year'] = data_items['release_year'].replace('Dato no disponible', np.nan)\n",
    "\n",
    "# Eliminar filas con NaN en la columna 'release_year'\n",
    "data_items.dropna(subset=['release_year'], inplace=True)"
   ]
  },
  {
   "cell_type": "code",
   "execution_count": 32,
   "id": "4402f8cb",
   "metadata": {},
   "outputs": [
    {
     "data": {
      "text/plain": [
       "publisher       0\n",
       "genres          0\n",
       "app_name        0\n",
       "title           0\n",
       "price           0\n",
       "early_access    0\n",
       "id              0\n",
       "developer       0\n",
       "release_year    0\n",
       "dtype: int64"
      ]
     },
     "execution_count": 32,
     "metadata": {},
     "output_type": "execute_result"
    }
   ],
   "source": [
    "data_games.isnull().sum()"
   ]
  },
  {
   "cell_type": "markdown",
   "id": "8eea11cc",
   "metadata": {},
   "source": [
    "# Carga del Conjunto de Datos Transformado\n",
    "\n",
    "En esta etapa, cargaremos el conjunto de datos transformado y depurado, el cual hemos nombrado `\"data_games_cleaned.csv\"`. Este archivo refleja nuestro conjunto de datos preparado y optimizado para análisis y modelado de datos"
   ]
  },
  {
   "cell_type": "code",
   "execution_count": 286,
   "id": "b9b700ea",
   "metadata": {},
   "outputs": [
    {
     "name": "stdout",
     "output_type": "stream",
     "text": [
      "Se ha guardado el archivo data_games_cleaned.csv en la misma carpeta.\n"
     ]
    }
   ],
   "source": [
    "# Especifica el nombre del archivo\n",
    "nombre_del_archivo = 'data_games_cleaned.csv'\n",
    "\n",
    "# Guarda el DataFrame en el archivo CSV\n",
    "data_games.to_csv(nombre_del_archivo, index=False, encoding='utf-8')\n",
    "print(f'Se ha guardado el archivo {nombre_del_archivo} en la misma carpeta.')\n",
    "\n"
   ]
  }
 ],
 "metadata": {
  "kernelspec": {
   "display_name": "Python 3 (ipykernel)",
   "language": "python",
   "name": "python3"
  },
  "language_info": {
   "codemirror_mode": {
    "name": "ipython",
    "version": 3
   },
   "file_extension": ".py",
   "mimetype": "text/x-python",
   "name": "python",
   "nbconvert_exporter": "python",
   "pygments_lexer": "ipython3",
   "version": "3.11.4"
  }
 },
 "nbformat": 4,
 "nbformat_minor": 5
}
