{
 "cells": [
  {
   "cell_type": "markdown",
   "id": "e51af346",
   "metadata": {},
   "source": [
    "# **Análisis Exploratorio de Datos (EDA)**\n",
    "\n",
    "Examinaremos minuciosamente tres conjuntos de datos previamente limpios: reseñas de usuarios(`data_reviews`), información de juegos (`data_games`) e interacciones entre ellos (`data_items`). \n",
    "A través de estadísticas descriptivas y visualizaciones, buscamos comprender las distribuciones, preferencias y tendencias a lo largo del tiempo, identificando las variables más relevantes. Este proceso nos permite elegir con precisión las características clave que impulsarán nuestro modelo de recomendación, optimizando los recursos y asegurando recomendaciones de alta calidad para los usuarios en el despliegue del proyecto. El EDA sirve como la brújula esencial en la creación de un sistema de recomendación efectivo."
   ]
  },
  {
   "cell_type": "code",
   "execution_count": 1,
   "id": "05054ef8",
   "metadata": {},
   "outputs": [],
   "source": [
    "import warnings\n",
    "warnings.filterwarnings(\"ignore\")"
   ]
  },
  {
   "cell_type": "markdown",
   "id": "8da0fac3",
   "metadata": {},
   "source": [
    "# Inicialización\n",
    "\n",
    "Importamos las librerías que nos servirán para poder procesar, visualizar y explorar nuestros datos de manera efectiva, la librería `pandas`, `seaborn`, `matplotlib`."
   ]
  },
  {
   "cell_type": "code",
   "execution_count": 2,
   "id": "503bfae6",
   "metadata": {},
   "outputs": [],
   "source": [
    "import pandas as pd\n",
    "import matplotlib.pyplot as plt\n",
    "import seaborn as sns\n",
    "\n",
    "%load_ext autoreload\n",
    "%autoreload 2"
   ]
  },
  {
   "cell_type": "markdown",
   "id": "056a47f8",
   "metadata": {},
   "source": [
    "# Extracción de los datos\n",
    "\n",
    "Para realizar los análisis requeridos, extraeremos los datos esenciales de los conjuntos `data_games`, `data_reviews`, y `data_items`. Estos datos nos permitirán realizar los análisis requeridos."
   ]
  },
  {
   "cell_type": "code",
   "execution_count": 3,
   "id": "7632e7e9",
   "metadata": {},
   "outputs": [
    {
     "ename": "FileNotFoundError",
     "evalue": "[Errno 2] No such file or directory: 'data_games_cleaned.csv'",
     "output_type": "error",
     "traceback": [
      "\u001b[1;31m---------------------------------------------------------------------------\u001b[0m",
      "\u001b[1;31mFileNotFoundError\u001b[0m                         Traceback (most recent call last)",
      "Cell \u001b[1;32mIn[3], line 2\u001b[0m\n\u001b[0;32m      1\u001b[0m \u001b[38;5;66;03m# extraccion de los datos de data_games\u001b[39;00m\n\u001b[1;32m----> 2\u001b[0m data_games \u001b[38;5;241m=\u001b[39m \u001b[43mpd\u001b[49m\u001b[38;5;241;43m.\u001b[39;49m\u001b[43mread_csv\u001b[49m\u001b[43m(\u001b[49m\u001b[38;5;124;43m'\u001b[39;49m\u001b[38;5;124;43mdata_games_cleaned.csv\u001b[39;49m\u001b[38;5;124;43m'\u001b[39;49m\u001b[43m)\u001b[49m\n",
      "File \u001b[1;32m~\\AppData\\Local\\Programs\\Python\\Python311\\Lib\\site-packages\\pandas\\util\\_decorators.py:211\u001b[0m, in \u001b[0;36mdeprecate_kwarg.<locals>._deprecate_kwarg.<locals>.wrapper\u001b[1;34m(*args, **kwargs)\u001b[0m\n\u001b[0;32m    209\u001b[0m     \u001b[38;5;28;01melse\u001b[39;00m:\n\u001b[0;32m    210\u001b[0m         kwargs[new_arg_name] \u001b[38;5;241m=\u001b[39m new_arg_value\n\u001b[1;32m--> 211\u001b[0m \u001b[38;5;28;01mreturn\u001b[39;00m \u001b[43mfunc\u001b[49m\u001b[43m(\u001b[49m\u001b[38;5;241;43m*\u001b[39;49m\u001b[43margs\u001b[49m\u001b[43m,\u001b[49m\u001b[43m \u001b[49m\u001b[38;5;241;43m*\u001b[39;49m\u001b[38;5;241;43m*\u001b[39;49m\u001b[43mkwargs\u001b[49m\u001b[43m)\u001b[49m\n",
      "File \u001b[1;32m~\\AppData\\Local\\Programs\\Python\\Python311\\Lib\\site-packages\\pandas\\util\\_decorators.py:331\u001b[0m, in \u001b[0;36mdeprecate_nonkeyword_arguments.<locals>.decorate.<locals>.wrapper\u001b[1;34m(*args, **kwargs)\u001b[0m\n\u001b[0;32m    325\u001b[0m \u001b[38;5;28;01mif\u001b[39;00m \u001b[38;5;28mlen\u001b[39m(args) \u001b[38;5;241m>\u001b[39m num_allow_args:\n\u001b[0;32m    326\u001b[0m     warnings\u001b[38;5;241m.\u001b[39mwarn(\n\u001b[0;32m    327\u001b[0m         msg\u001b[38;5;241m.\u001b[39mformat(arguments\u001b[38;5;241m=\u001b[39m_format_argument_list(allow_args)),\n\u001b[0;32m    328\u001b[0m         \u001b[38;5;167;01mFutureWarning\u001b[39;00m,\n\u001b[0;32m    329\u001b[0m         stacklevel\u001b[38;5;241m=\u001b[39mfind_stack_level(),\n\u001b[0;32m    330\u001b[0m     )\n\u001b[1;32m--> 331\u001b[0m \u001b[38;5;28;01mreturn\u001b[39;00m \u001b[43mfunc\u001b[49m\u001b[43m(\u001b[49m\u001b[38;5;241;43m*\u001b[39;49m\u001b[43margs\u001b[49m\u001b[43m,\u001b[49m\u001b[43m \u001b[49m\u001b[38;5;241;43m*\u001b[39;49m\u001b[38;5;241;43m*\u001b[39;49m\u001b[43mkwargs\u001b[49m\u001b[43m)\u001b[49m\n",
      "File \u001b[1;32m~\\AppData\\Local\\Programs\\Python\\Python311\\Lib\\site-packages\\pandas\\io\\parsers\\readers.py:950\u001b[0m, in \u001b[0;36mread_csv\u001b[1;34m(filepath_or_buffer, sep, delimiter, header, names, index_col, usecols, squeeze, prefix, mangle_dupe_cols, dtype, engine, converters, true_values, false_values, skipinitialspace, skiprows, skipfooter, nrows, na_values, keep_default_na, na_filter, verbose, skip_blank_lines, parse_dates, infer_datetime_format, keep_date_col, date_parser, dayfirst, cache_dates, iterator, chunksize, compression, thousands, decimal, lineterminator, quotechar, quoting, doublequote, escapechar, comment, encoding, encoding_errors, dialect, error_bad_lines, warn_bad_lines, on_bad_lines, delim_whitespace, low_memory, memory_map, float_precision, storage_options)\u001b[0m\n\u001b[0;32m    935\u001b[0m kwds_defaults \u001b[38;5;241m=\u001b[39m _refine_defaults_read(\n\u001b[0;32m    936\u001b[0m     dialect,\n\u001b[0;32m    937\u001b[0m     delimiter,\n\u001b[1;32m   (...)\u001b[0m\n\u001b[0;32m    946\u001b[0m     defaults\u001b[38;5;241m=\u001b[39m{\u001b[38;5;124m\"\u001b[39m\u001b[38;5;124mdelimiter\u001b[39m\u001b[38;5;124m\"\u001b[39m: \u001b[38;5;124m\"\u001b[39m\u001b[38;5;124m,\u001b[39m\u001b[38;5;124m\"\u001b[39m},\n\u001b[0;32m    947\u001b[0m )\n\u001b[0;32m    948\u001b[0m kwds\u001b[38;5;241m.\u001b[39mupdate(kwds_defaults)\n\u001b[1;32m--> 950\u001b[0m \u001b[38;5;28;01mreturn\u001b[39;00m \u001b[43m_read\u001b[49m\u001b[43m(\u001b[49m\u001b[43mfilepath_or_buffer\u001b[49m\u001b[43m,\u001b[49m\u001b[43m \u001b[49m\u001b[43mkwds\u001b[49m\u001b[43m)\u001b[49m\n",
      "File \u001b[1;32m~\\AppData\\Local\\Programs\\Python\\Python311\\Lib\\site-packages\\pandas\\io\\parsers\\readers.py:605\u001b[0m, in \u001b[0;36m_read\u001b[1;34m(filepath_or_buffer, kwds)\u001b[0m\n\u001b[0;32m    602\u001b[0m _validate_names(kwds\u001b[38;5;241m.\u001b[39mget(\u001b[38;5;124m\"\u001b[39m\u001b[38;5;124mnames\u001b[39m\u001b[38;5;124m\"\u001b[39m, \u001b[38;5;28;01mNone\u001b[39;00m))\n\u001b[0;32m    604\u001b[0m \u001b[38;5;66;03m# Create the parser.\u001b[39;00m\n\u001b[1;32m--> 605\u001b[0m parser \u001b[38;5;241m=\u001b[39m \u001b[43mTextFileReader\u001b[49m\u001b[43m(\u001b[49m\u001b[43mfilepath_or_buffer\u001b[49m\u001b[43m,\u001b[49m\u001b[43m \u001b[49m\u001b[38;5;241;43m*\u001b[39;49m\u001b[38;5;241;43m*\u001b[39;49m\u001b[43mkwds\u001b[49m\u001b[43m)\u001b[49m\n\u001b[0;32m    607\u001b[0m \u001b[38;5;28;01mif\u001b[39;00m chunksize \u001b[38;5;129;01mor\u001b[39;00m iterator:\n\u001b[0;32m    608\u001b[0m     \u001b[38;5;28;01mreturn\u001b[39;00m parser\n",
      "File \u001b[1;32m~\\AppData\\Local\\Programs\\Python\\Python311\\Lib\\site-packages\\pandas\\io\\parsers\\readers.py:1442\u001b[0m, in \u001b[0;36mTextFileReader.__init__\u001b[1;34m(self, f, engine, **kwds)\u001b[0m\n\u001b[0;32m   1439\u001b[0m     \u001b[38;5;28mself\u001b[39m\u001b[38;5;241m.\u001b[39moptions[\u001b[38;5;124m\"\u001b[39m\u001b[38;5;124mhas_index_names\u001b[39m\u001b[38;5;124m\"\u001b[39m] \u001b[38;5;241m=\u001b[39m kwds[\u001b[38;5;124m\"\u001b[39m\u001b[38;5;124mhas_index_names\u001b[39m\u001b[38;5;124m\"\u001b[39m]\n\u001b[0;32m   1441\u001b[0m \u001b[38;5;28mself\u001b[39m\u001b[38;5;241m.\u001b[39mhandles: IOHandles \u001b[38;5;241m|\u001b[39m \u001b[38;5;28;01mNone\u001b[39;00m \u001b[38;5;241m=\u001b[39m \u001b[38;5;28;01mNone\u001b[39;00m\n\u001b[1;32m-> 1442\u001b[0m \u001b[38;5;28mself\u001b[39m\u001b[38;5;241m.\u001b[39m_engine \u001b[38;5;241m=\u001b[39m \u001b[38;5;28;43mself\u001b[39;49m\u001b[38;5;241;43m.\u001b[39;49m\u001b[43m_make_engine\u001b[49m\u001b[43m(\u001b[49m\u001b[43mf\u001b[49m\u001b[43m,\u001b[49m\u001b[43m \u001b[49m\u001b[38;5;28;43mself\u001b[39;49m\u001b[38;5;241;43m.\u001b[39;49m\u001b[43mengine\u001b[49m\u001b[43m)\u001b[49m\n",
      "File \u001b[1;32m~\\AppData\\Local\\Programs\\Python\\Python311\\Lib\\site-packages\\pandas\\io\\parsers\\readers.py:1735\u001b[0m, in \u001b[0;36mTextFileReader._make_engine\u001b[1;34m(self, f, engine)\u001b[0m\n\u001b[0;32m   1733\u001b[0m     \u001b[38;5;28;01mif\u001b[39;00m \u001b[38;5;124m\"\u001b[39m\u001b[38;5;124mb\u001b[39m\u001b[38;5;124m\"\u001b[39m \u001b[38;5;129;01mnot\u001b[39;00m \u001b[38;5;129;01min\u001b[39;00m mode:\n\u001b[0;32m   1734\u001b[0m         mode \u001b[38;5;241m+\u001b[39m\u001b[38;5;241m=\u001b[39m \u001b[38;5;124m\"\u001b[39m\u001b[38;5;124mb\u001b[39m\u001b[38;5;124m\"\u001b[39m\n\u001b[1;32m-> 1735\u001b[0m \u001b[38;5;28mself\u001b[39m\u001b[38;5;241m.\u001b[39mhandles \u001b[38;5;241m=\u001b[39m \u001b[43mget_handle\u001b[49m\u001b[43m(\u001b[49m\n\u001b[0;32m   1736\u001b[0m \u001b[43m    \u001b[49m\u001b[43mf\u001b[49m\u001b[43m,\u001b[49m\n\u001b[0;32m   1737\u001b[0m \u001b[43m    \u001b[49m\u001b[43mmode\u001b[49m\u001b[43m,\u001b[49m\n\u001b[0;32m   1738\u001b[0m \u001b[43m    \u001b[49m\u001b[43mencoding\u001b[49m\u001b[38;5;241;43m=\u001b[39;49m\u001b[38;5;28;43mself\u001b[39;49m\u001b[38;5;241;43m.\u001b[39;49m\u001b[43moptions\u001b[49m\u001b[38;5;241;43m.\u001b[39;49m\u001b[43mget\u001b[49m\u001b[43m(\u001b[49m\u001b[38;5;124;43m\"\u001b[39;49m\u001b[38;5;124;43mencoding\u001b[39;49m\u001b[38;5;124;43m\"\u001b[39;49m\u001b[43m,\u001b[49m\u001b[43m \u001b[49m\u001b[38;5;28;43;01mNone\u001b[39;49;00m\u001b[43m)\u001b[49m\u001b[43m,\u001b[49m\n\u001b[0;32m   1739\u001b[0m \u001b[43m    \u001b[49m\u001b[43mcompression\u001b[49m\u001b[38;5;241;43m=\u001b[39;49m\u001b[38;5;28;43mself\u001b[39;49m\u001b[38;5;241;43m.\u001b[39;49m\u001b[43moptions\u001b[49m\u001b[38;5;241;43m.\u001b[39;49m\u001b[43mget\u001b[49m\u001b[43m(\u001b[49m\u001b[38;5;124;43m\"\u001b[39;49m\u001b[38;5;124;43mcompression\u001b[39;49m\u001b[38;5;124;43m\"\u001b[39;49m\u001b[43m,\u001b[49m\u001b[43m \u001b[49m\u001b[38;5;28;43;01mNone\u001b[39;49;00m\u001b[43m)\u001b[49m\u001b[43m,\u001b[49m\n\u001b[0;32m   1740\u001b[0m \u001b[43m    \u001b[49m\u001b[43mmemory_map\u001b[49m\u001b[38;5;241;43m=\u001b[39;49m\u001b[38;5;28;43mself\u001b[39;49m\u001b[38;5;241;43m.\u001b[39;49m\u001b[43moptions\u001b[49m\u001b[38;5;241;43m.\u001b[39;49m\u001b[43mget\u001b[49m\u001b[43m(\u001b[49m\u001b[38;5;124;43m\"\u001b[39;49m\u001b[38;5;124;43mmemory_map\u001b[39;49m\u001b[38;5;124;43m\"\u001b[39;49m\u001b[43m,\u001b[49m\u001b[43m \u001b[49m\u001b[38;5;28;43;01mFalse\u001b[39;49;00m\u001b[43m)\u001b[49m\u001b[43m,\u001b[49m\n\u001b[0;32m   1741\u001b[0m \u001b[43m    \u001b[49m\u001b[43mis_text\u001b[49m\u001b[38;5;241;43m=\u001b[39;49m\u001b[43mis_text\u001b[49m\u001b[43m,\u001b[49m\n\u001b[0;32m   1742\u001b[0m \u001b[43m    \u001b[49m\u001b[43merrors\u001b[49m\u001b[38;5;241;43m=\u001b[39;49m\u001b[38;5;28;43mself\u001b[39;49m\u001b[38;5;241;43m.\u001b[39;49m\u001b[43moptions\u001b[49m\u001b[38;5;241;43m.\u001b[39;49m\u001b[43mget\u001b[49m\u001b[43m(\u001b[49m\u001b[38;5;124;43m\"\u001b[39;49m\u001b[38;5;124;43mencoding_errors\u001b[39;49m\u001b[38;5;124;43m\"\u001b[39;49m\u001b[43m,\u001b[49m\u001b[43m \u001b[49m\u001b[38;5;124;43m\"\u001b[39;49m\u001b[38;5;124;43mstrict\u001b[39;49m\u001b[38;5;124;43m\"\u001b[39;49m\u001b[43m)\u001b[49m\u001b[43m,\u001b[49m\n\u001b[0;32m   1743\u001b[0m \u001b[43m    \u001b[49m\u001b[43mstorage_options\u001b[49m\u001b[38;5;241;43m=\u001b[39;49m\u001b[38;5;28;43mself\u001b[39;49m\u001b[38;5;241;43m.\u001b[39;49m\u001b[43moptions\u001b[49m\u001b[38;5;241;43m.\u001b[39;49m\u001b[43mget\u001b[49m\u001b[43m(\u001b[49m\u001b[38;5;124;43m\"\u001b[39;49m\u001b[38;5;124;43mstorage_options\u001b[39;49m\u001b[38;5;124;43m\"\u001b[39;49m\u001b[43m,\u001b[49m\u001b[43m \u001b[49m\u001b[38;5;28;43;01mNone\u001b[39;49;00m\u001b[43m)\u001b[49m\u001b[43m,\u001b[49m\n\u001b[0;32m   1744\u001b[0m \u001b[43m\u001b[49m\u001b[43m)\u001b[49m\n\u001b[0;32m   1745\u001b[0m \u001b[38;5;28;01massert\u001b[39;00m \u001b[38;5;28mself\u001b[39m\u001b[38;5;241m.\u001b[39mhandles \u001b[38;5;129;01mis\u001b[39;00m \u001b[38;5;129;01mnot\u001b[39;00m \u001b[38;5;28;01mNone\u001b[39;00m\n\u001b[0;32m   1746\u001b[0m f \u001b[38;5;241m=\u001b[39m \u001b[38;5;28mself\u001b[39m\u001b[38;5;241m.\u001b[39mhandles\u001b[38;5;241m.\u001b[39mhandle\n",
      "File \u001b[1;32m~\\AppData\\Local\\Programs\\Python\\Python311\\Lib\\site-packages\\pandas\\io\\common.py:856\u001b[0m, in \u001b[0;36mget_handle\u001b[1;34m(path_or_buf, mode, encoding, compression, memory_map, is_text, errors, storage_options)\u001b[0m\n\u001b[0;32m    851\u001b[0m \u001b[38;5;28;01melif\u001b[39;00m \u001b[38;5;28misinstance\u001b[39m(handle, \u001b[38;5;28mstr\u001b[39m):\n\u001b[0;32m    852\u001b[0m     \u001b[38;5;66;03m# Check whether the filename is to be opened in binary mode.\u001b[39;00m\n\u001b[0;32m    853\u001b[0m     \u001b[38;5;66;03m# Binary mode does not support 'encoding' and 'newline'.\u001b[39;00m\n\u001b[0;32m    854\u001b[0m     \u001b[38;5;28;01mif\u001b[39;00m ioargs\u001b[38;5;241m.\u001b[39mencoding \u001b[38;5;129;01mand\u001b[39;00m \u001b[38;5;124m\"\u001b[39m\u001b[38;5;124mb\u001b[39m\u001b[38;5;124m\"\u001b[39m \u001b[38;5;129;01mnot\u001b[39;00m \u001b[38;5;129;01min\u001b[39;00m ioargs\u001b[38;5;241m.\u001b[39mmode:\n\u001b[0;32m    855\u001b[0m         \u001b[38;5;66;03m# Encoding\u001b[39;00m\n\u001b[1;32m--> 856\u001b[0m         handle \u001b[38;5;241m=\u001b[39m \u001b[38;5;28;43mopen\u001b[39;49m\u001b[43m(\u001b[49m\n\u001b[0;32m    857\u001b[0m \u001b[43m            \u001b[49m\u001b[43mhandle\u001b[49m\u001b[43m,\u001b[49m\n\u001b[0;32m    858\u001b[0m \u001b[43m            \u001b[49m\u001b[43mioargs\u001b[49m\u001b[38;5;241;43m.\u001b[39;49m\u001b[43mmode\u001b[49m\u001b[43m,\u001b[49m\n\u001b[0;32m    859\u001b[0m \u001b[43m            \u001b[49m\u001b[43mencoding\u001b[49m\u001b[38;5;241;43m=\u001b[39;49m\u001b[43mioargs\u001b[49m\u001b[38;5;241;43m.\u001b[39;49m\u001b[43mencoding\u001b[49m\u001b[43m,\u001b[49m\n\u001b[0;32m    860\u001b[0m \u001b[43m            \u001b[49m\u001b[43merrors\u001b[49m\u001b[38;5;241;43m=\u001b[39;49m\u001b[43merrors\u001b[49m\u001b[43m,\u001b[49m\n\u001b[0;32m    861\u001b[0m \u001b[43m            \u001b[49m\u001b[43mnewline\u001b[49m\u001b[38;5;241;43m=\u001b[39;49m\u001b[38;5;124;43m\"\u001b[39;49m\u001b[38;5;124;43m\"\u001b[39;49m\u001b[43m,\u001b[49m\n\u001b[0;32m    862\u001b[0m \u001b[43m        \u001b[49m\u001b[43m)\u001b[49m\n\u001b[0;32m    863\u001b[0m     \u001b[38;5;28;01melse\u001b[39;00m:\n\u001b[0;32m    864\u001b[0m         \u001b[38;5;66;03m# Binary mode\u001b[39;00m\n\u001b[0;32m    865\u001b[0m         handle \u001b[38;5;241m=\u001b[39m \u001b[38;5;28mopen\u001b[39m(handle, ioargs\u001b[38;5;241m.\u001b[39mmode)\n",
      "\u001b[1;31mFileNotFoundError\u001b[0m: [Errno 2] No such file or directory: 'data_games_cleaned.csv'"
     ]
    }
   ],
   "source": [
    "# extraccion de los datos de data_games\n",
    "data_games = pd.read_csv('data_games_cleaned.csv')"
   ]
  },
  {
   "cell_type": "code",
   "execution_count": 33,
   "id": "39b64a24",
   "metadata": {},
   "outputs": [],
   "source": [
    "# extraccion de los datos de data_reviews (analisis de sentimiento)\n",
    "data_reviews = pd.read_csv('data_reviews_sentiment_analysis.csv')"
   ]
  },
  {
   "cell_type": "code",
   "execution_count": 34,
   "id": "7f054b1a",
   "metadata": {},
   "outputs": [],
   "source": [
    "# extraccion de los datos de data_items\n",
    "data_items = pd.read_csv('data_items_cleaned.csv')"
   ]
  },
  {
   "cell_type": "markdown",
   "id": "c48f9d0d",
   "metadata": {},
   "source": [
    "# **EDA dataset `steam_games`**\n",
    "\n",
    "El análisis exploratorio de datos (EDA) del conjunto \"steam_games\", que ha sido sometido previamente a procesos de extracción, transformación y carga (ETL), se centra en el examen detallado de las características y patrones presentes en este conjunto de datos.\n",
    "\n",
    "Hacemos una revision de la estructura, datos y valores nulos."
   ]
  },
  {
   "cell_type": "code",
   "execution_count": 35,
   "id": "e76d9333",
   "metadata": {},
   "outputs": [
    {
     "data": {
      "text/html": [
       "<div>\n",
       "<style scoped>\n",
       "    .dataframe tbody tr th:only-of-type {\n",
       "        vertical-align: middle;\n",
       "    }\n",
       "\n",
       "    .dataframe tbody tr th {\n",
       "        vertical-align: top;\n",
       "    }\n",
       "\n",
       "    .dataframe thead th {\n",
       "        text-align: right;\n",
       "    }\n",
       "</style>\n",
       "<table border=\"1\" class=\"dataframe\">\n",
       "  <thead>\n",
       "    <tr style=\"text-align: right;\">\n",
       "      <th></th>\n",
       "      <th>publisher</th>\n",
       "      <th>genres</th>\n",
       "      <th>app_name</th>\n",
       "      <th>title</th>\n",
       "      <th>price</th>\n",
       "      <th>early_access</th>\n",
       "      <th>id</th>\n",
       "      <th>developer</th>\n",
       "      <th>release_year</th>\n",
       "    </tr>\n",
       "  </thead>\n",
       "  <tbody>\n",
       "    <tr>\n",
       "      <th>0</th>\n",
       "      <td>Kotoshiro</td>\n",
       "      <td>Action</td>\n",
       "      <td>Lost Summoner Kitty</td>\n",
       "      <td>Lost Summoner Kitty</td>\n",
       "      <td>4.99</td>\n",
       "      <td>False</td>\n",
       "      <td>761140</td>\n",
       "      <td>Kotoshiro</td>\n",
       "      <td>2018</td>\n",
       "    </tr>\n",
       "    <tr>\n",
       "      <th>1</th>\n",
       "      <td>Kotoshiro</td>\n",
       "      <td>Casual</td>\n",
       "      <td>Lost Summoner Kitty</td>\n",
       "      <td>Lost Summoner Kitty</td>\n",
       "      <td>4.99</td>\n",
       "      <td>False</td>\n",
       "      <td>761140</td>\n",
       "      <td>Kotoshiro</td>\n",
       "      <td>2018</td>\n",
       "    </tr>\n",
       "    <tr>\n",
       "      <th>2</th>\n",
       "      <td>Kotoshiro</td>\n",
       "      <td>Indie</td>\n",
       "      <td>Lost Summoner Kitty</td>\n",
       "      <td>Lost Summoner Kitty</td>\n",
       "      <td>4.99</td>\n",
       "      <td>False</td>\n",
       "      <td>761140</td>\n",
       "      <td>Kotoshiro</td>\n",
       "      <td>2018</td>\n",
       "    </tr>\n",
       "  </tbody>\n",
       "</table>\n",
       "</div>"
      ],
      "text/plain": [
       "   publisher  genres             app_name                title  price  \\\n",
       "0  Kotoshiro  Action  Lost Summoner Kitty  Lost Summoner Kitty   4.99   \n",
       "1  Kotoshiro  Casual  Lost Summoner Kitty  Lost Summoner Kitty   4.99   \n",
       "2  Kotoshiro   Indie  Lost Summoner Kitty  Lost Summoner Kitty   4.99   \n",
       "\n",
       "   early_access      id  developer release_year  \n",
       "0         False  761140  Kotoshiro         2018  \n",
       "1         False  761140  Kotoshiro         2018  \n",
       "2         False  761140  Kotoshiro         2018  "
      ]
     },
     "execution_count": 35,
     "metadata": {},
     "output_type": "execute_result"
    }
   ],
   "source": [
    "data_games.head(3)"
   ]
  },
  {
   "cell_type": "code",
   "execution_count": 36,
   "id": "4e4a8ce5",
   "metadata": {},
   "outputs": [
    {
     "data": {
      "text/plain": [
       "publisher       22\n",
       "genres           0\n",
       "app_name         0\n",
       "title            0\n",
       "price            0\n",
       "early_access     0\n",
       "id               0\n",
       "developer        0\n",
       "release_year     0\n",
       "dtype: int64"
      ]
     },
     "execution_count": 36,
     "metadata": {},
     "output_type": "execute_result"
    }
   ],
   "source": [
    "data_games.isnull().sum()"
   ]
  },
  {
   "cell_type": "code",
   "execution_count": 37,
   "id": "d44ce55b",
   "metadata": {},
   "outputs": [
    {
     "data": {
      "text/plain": [
       "(71551, 9)"
      ]
     },
     "execution_count": 37,
     "metadata": {},
     "output_type": "execute_result"
    }
   ],
   "source": [
    "data_games.shape"
   ]
  },
  {
   "cell_type": "code",
   "execution_count": 38,
   "id": "a7ef5302",
   "metadata": {},
   "outputs": [
    {
     "name": "stdout",
     "output_type": "stream",
     "text": [
      "<class 'pandas.core.frame.DataFrame'>\n",
      "RangeIndex: 71551 entries, 0 to 71550\n",
      "Data columns (total 9 columns):\n",
      " #   Column        Non-Null Count  Dtype  \n",
      "---  ------        --------------  -----  \n",
      " 0   publisher     71529 non-null  object \n",
      " 1   genres        71551 non-null  object \n",
      " 2   app_name      71551 non-null  object \n",
      " 3   title         71551 non-null  object \n",
      " 4   price         71551 non-null  float64\n",
      " 5   early_access  71551 non-null  bool   \n",
      " 6   id            71551 non-null  int64  \n",
      " 7   developer     71551 non-null  object \n",
      " 8   release_year  71551 non-null  object \n",
      "dtypes: bool(1), float64(1), int64(1), object(6)\n",
      "memory usage: 4.4+ MB\n"
     ]
    }
   ],
   "source": [
    "data_games.info()"
   ]
  },
  {
   "cell_type": "markdown",
   "id": "9bc4b490",
   "metadata": {},
   "source": [
    "En base a la exploración de datos realizada en el conjunto \"data_games,\" podemos concluir lo siguiente:\n",
    "\n",
    "- **Estructura del Conjunto de Datos:** El conjunto de datos contiene un total de 71,551 registros y 9 columnas que proporcionan información detallada sobre los juegos de Steam.  \n",
    "\n",
    "\n",
    "- **Presencia de Datos Nulos:** Se observa que hay valores nulos presentes en la columna \"publisher.\" Es importante abordar la gestión de estos valores nulos para un análisis más preciso.  \n",
    "\n",
    "\n",
    "- **Tipos de Datos:** El conjunto de datos contiene una variedad de tipos de datos, incluyendo tipos de datos booleanos, enteros, flotantes y objetos. Esta diversidad en los tipos de datos es fundamental para comprender las diferentes características de los juegos.  \n",
    "\n",
    "\n",
    "- **Distribución de Géneros:** En la columna \"genres,\" hemos observado que no hay valores faltantes, lo que es un aspecto positivo. Sin embargo, es importante destacar que un juego puede estar catalogado en más de un género.  \n",
    "\n",
    "\n",
    "- **Distribución de Años de Lanzamiento:** La columna \"release_year\" proporciona información sobre el año de lanzamiento de los juegos, lo que será fundamental para el análisis temporal en el modelo."
   ]
  },
  {
   "cell_type": "markdown",
   "id": "8bacc8b8",
   "metadata": {},
   "source": [
    "### Columnas 'publisher' y 'developer'\n",
    "\n",
    "Vamos a analizar las variables \"publisher\" y \"developer\" juntas. \n",
    "\n",
    "En esta sección, analizaremos tanto la variable \"publisher\" como la variable \"developer\" para identificar las empresas que han tenido un impacto significativo en la plataforma Steam. Esto nos permitirá comprender quiénes son los principales actores en la creación y publicación de juegos en Steam"
   ]
  },
  {
   "cell_type": "code",
   "execution_count": 39,
   "id": "21d828a4",
   "metadata": {},
   "outputs": [
    {
     "data": {
      "image/png": "[encoded data removed]",
      "text/plain": [
       "<Figure size 1200x700 with 2 Axes>"
      ]
     },
     "metadata": {},
     "output_type": "display_data"
    }
   ],
   "source": [
    "# Identificar a los 10 principales publicadores y desarrolladores por cantidad de juegos\n",
    "top_10_publishers = data_games['publisher'].value_counts().head(10)\n",
    "top_10_developers = data_games['developer'].value_counts().head(10)\n",
    "\n",
    "# Crear una figura con dos subplots uno al lado del otro\n",
    "plt.figure(figsize=(12, 7))\n",
    "\n",
    "# Primer subplot para los publishers\n",
    "plt.subplot(1, 2, 1)\n",
    "top_10_publishers.plot(kind='bar', color='skyblue')\n",
    "plt.xlabel('Publisher') ; \n",
    "plt.ylabel('Cantidad de Juegos') ; \n",
    "plt.title('Top 10 Publishers')\n",
    "\n",
    "# Segundo subplot para los developers\n",
    "plt.subplot(1, 2, 2)\n",
    "top_10_developers.plot(kind='bar', color='orange')\n",
    "plt.xlabel('Developer') ; \n",
    "plt.ylabel('Cantidad de Juegos') ; \n",
    "plt.title('Top 10 Developers')\n",
    "\n",
    "# Muestra y ajustar el espaciado entre subplots\n",
    "plt.tight_layout()\n",
    "plt.show()\n"
   ]
  },
  {
   "cell_type": "markdown",
   "id": "6f14ef58",
   "metadata": {},
   "source": [
    "La mayoría de los registros en la variable \"publisher\" no disponen del dato, lo que puede ser una limitación en el análisis. \n",
    "Por otro lado, en la variable \"developer,\" Ubisoft - San Francisco y SmiteWorks USA LLC sobresalen claramente como los desarrolladores más prolíficos en Steam."
   ]
  },
  {
   "cell_type": "markdown",
   "id": "a2ce13a9",
   "metadata": {},
   "source": [
    "### Columnas 'genres'\n",
    "\n",
    "La variable \"genres\" nos proporciona información sobre los géneros a los que pertenecen los juegos en el conjunto de datos. Realizaremos un análisis exploratorio de esta variable para comprender mejor la distribución de géneros en la plataforma Steam."
   ]
  },
  {
   "cell_type": "code",
   "execution_count": 40,
   "id": "7d194a94",
   "metadata": {},
   "outputs": [
    {
     "data": {
      "image/png": "[encoded data removed]",
      "text/plain": [
       "<Figure size 600x500 with 1 Axes>"
      ]
     },
     "metadata": {},
     "output_type": "display_data"
    }
   ],
   "source": [
    "# Conteo de juegos por género\n",
    "genre_counts = data_games['genres'].value_counts()\n",
    "\n",
    "# Gráfico de barras\n",
    "plt.figure(figsize=(6, 5))\n",
    "sns.countplot(data=data_games, y='genres', orient='h')\n",
    "plt.title('Distribución de Géneros en Steam')\n",
    "plt.ylabel('Género')\n",
    "plt.xlabel('Número de Juegos')\n",
    "plt.xticks(rotation=45)\n",
    "plt.show()\n"
   ]
  },
  {
   "cell_type": "markdown",
   "id": "27fef3cc",
   "metadata": {},
   "source": [
    "También es útil calcular los porcentajes de cada género en el conjunto de datos para obtener una visión más detallada. Creamos una tabla que muestra el porcentaje de juegos que pertenecen a cada género."
   ]
  },
  {
   "cell_type": "code",
   "execution_count": 41,
   "id": "f2bed896",
   "metadata": {},
   "outputs": [],
   "source": [
    "# Cálculo de porcentajes por género\n",
    "genre_percentages = (data_games['genres'].value_counts() / len(data_games)) * 100\n",
    "\n",
    "# Mostrar los 10 géneros principales con sus porcentajes\n",
    "top_genres_percentages = genre_percentages.head(10)\n"
   ]
  },
  {
   "cell_type": "code",
   "execution_count": 42,
   "id": "ba5b037e",
   "metadata": {},
   "outputs": [
    {
     "data": {
      "text/plain": [
       "Indie           22.163212\n",
       "Action          15.819485\n",
       "Casual          11.574961\n",
       "Adventure       11.519056\n",
       "Strategy         9.723135\n",
       "Simulation       9.362553\n",
       "RPG              7.657475\n",
       "Free to Play     2.838535\n",
       "Early Access     2.043298\n",
       "Sports           1.756789\n",
       "Name: genres, dtype: float64"
      ]
     },
     "execution_count": 42,
     "metadata": {},
     "output_type": "execute_result"
    }
   ],
   "source": [
    "top_genres_percentages"
   ]
  },
  {
   "cell_type": "markdown",
   "id": "c3d8abc7",
   "metadata": {},
   "source": [
    "El análisis de la variable \"genres\" revela que los juegos en la plataforma Steam se encuentran principalmente en las siguientes categorías:\n",
    "\n",
    "***Indie:*** 22.16%\n",
    "***Action:*** 15.82%\n",
    "***Casual:*** 11.57%\n",
    "***Adventure:*** 11.52%\n",
    "***Strategy:*** 9.72%\n",
    "***Simulation:*** 9.36%\n",
    "\n",
    "Es importante destacar que un juego puede tener múltiples géneros asociados. Estos géneros predominantes representan una parte significativa de la oferta de juegos en Steam y reflejan la diversidad de experiencias de juego disponibles en la plataforma."
   ]
  },
  {
   "cell_type": "markdown",
   "id": "7485c563",
   "metadata": {},
   "source": [
    "### Columnas 'id', 'app_name' y 'title'\n",
    "\n",
    "Las columnas 'id', 'app_name' y 'title' son esenciales para identificar y nombrar los juegos en Steam. En general, el 'id' sirve como identificador único, y 'app_name' y 'title' a menudo comparten el nombre del juego. Esta consistencia facilita la búsqueda y organización de juegos en la plataforma. Realizaremos un conteo de la cantidad de juegos a apartir del 'id'.\n"
   ]
  },
  {
   "cell_type": "code",
   "execution_count": 43,
   "id": "d7ad01c3",
   "metadata": {},
   "outputs": [
    {
     "name": "stdout",
     "output_type": "stream",
     "text": [
      "Total de juegos únicos registrados en el dataset: 28850\n"
     ]
    }
   ],
   "source": [
    "# Contar la cantidad de juegos únicos por ID\n",
    "total_games_count = data_games['id'].nunique()\n",
    "print(f\"Total de juegos únicos registrados en el dataset: {total_games_count}\")\n"
   ]
  },
  {
   "cell_type": "markdown",
   "id": "3306abe4",
   "metadata": {},
   "source": [
    "# **EDA dataset `user_reviews`**\n",
    "\n",
    "El análisis exploratorio de datos (EDA) del conjunto \"user_reviews\" se centra en el examen en profundidad de las reseñas y comentarios proporcionados por los usuarios de la plataforma Steam. Estos datos han sido previamente sometidos al proceso de extracción, transformación y carga (ETL).\n",
    "\n",
    "Hacemos una revision de la estructura, datos y valores nulos."
   ]
  },
  {
   "cell_type": "code",
   "execution_count": 44,
   "id": "b3c80fa9",
   "metadata": {},
   "outputs": [
    {
     "data": {
      "text/html": [
       "<div>\n",
       "<style scoped>\n",
       "    .dataframe tbody tr th:only-of-type {\n",
       "        vertical-align: middle;\n",
       "    }\n",
       "\n",
       "    .dataframe tbody tr th {\n",
       "        vertical-align: top;\n",
       "    }\n",
       "\n",
       "    .dataframe thead th {\n",
       "        text-align: right;\n",
       "    }\n",
       "</style>\n",
       "<table border=\"1\" class=\"dataframe\">\n",
       "  <thead>\n",
       "    <tr style=\"text-align: right;\">\n",
       "      <th></th>\n",
       "      <th>user_id</th>\n",
       "      <th>user_url</th>\n",
       "      <th>reviews_posted</th>\n",
       "      <th>reviews_item_id</th>\n",
       "      <th>reviews_helpful</th>\n",
       "      <th>reviews_recommend</th>\n",
       "      <th>reviews_year</th>\n",
       "      <th>sentiment_analysis</th>\n",
       "    </tr>\n",
       "  </thead>\n",
       "  <tbody>\n",
       "    <tr>\n",
       "      <th>0</th>\n",
       "      <td>76561197970982479</td>\n",
       "      <td>http://steamcommunity.com/profiles/76561197970...</td>\n",
       "      <td>2011-11-05</td>\n",
       "      <td>1250</td>\n",
       "      <td>No ratings yet</td>\n",
       "      <td>True</td>\n",
       "      <td>2011</td>\n",
       "      <td>2</td>\n",
       "    </tr>\n",
       "    <tr>\n",
       "      <th>1</th>\n",
       "      <td>js41637</td>\n",
       "      <td>http://steamcommunity.com/id/js41637</td>\n",
       "      <td>2014-06-24</td>\n",
       "      <td>251610</td>\n",
       "      <td>15 of 20 people (75%) found this review helpful</td>\n",
       "      <td>True</td>\n",
       "      <td>2014</td>\n",
       "      <td>2</td>\n",
       "    </tr>\n",
       "    <tr>\n",
       "      <th>2</th>\n",
       "      <td>evcentric</td>\n",
       "      <td>http://steamcommunity.com/id/evcentric</td>\n",
       "      <td>NaN</td>\n",
       "      <td>248820</td>\n",
       "      <td>No ratings yet</td>\n",
       "      <td>True</td>\n",
       "      <td>Dato no disponible</td>\n",
       "      <td>2</td>\n",
       "    </tr>\n",
       "  </tbody>\n",
       "</table>\n",
       "</div>"
      ],
      "text/plain": [
       "             user_id                                           user_url  \\\n",
       "0  76561197970982479  http://steamcommunity.com/profiles/76561197970...   \n",
       "1            js41637               http://steamcommunity.com/id/js41637   \n",
       "2          evcentric             http://steamcommunity.com/id/evcentric   \n",
       "\n",
       "  reviews_posted  reviews_item_id  \\\n",
       "0     2011-11-05             1250   \n",
       "1     2014-06-24           251610   \n",
       "2            NaN           248820   \n",
       "\n",
       "                                   reviews_helpful  reviews_recommend  \\\n",
       "0                                   No ratings yet               True   \n",
       "1  15 of 20 people (75%) found this review helpful               True   \n",
       "2                                   No ratings yet               True   \n",
       "\n",
       "         reviews_year  sentiment_analysis  \n",
       "0                2011                   2  \n",
       "1                2014                   2  \n",
       "2  Dato no disponible                   2  "
      ]
     },
     "execution_count": 44,
     "metadata": {},
     "output_type": "execute_result"
    }
   ],
   "source": [
    "data_reviews.head(3)"
   ]
  },
  {
   "cell_type": "code",
   "execution_count": 45,
   "id": "30d0b33c",
   "metadata": {},
   "outputs": [
    {
     "data": {
      "text/plain": [
       "user_id                  0\n",
       "user_url                 0\n",
       "reviews_posted        9916\n",
       "reviews_item_id          0\n",
       "reviews_helpful          0\n",
       "reviews_recommend        0\n",
       "reviews_year             0\n",
       "sentiment_analysis       0\n",
       "dtype: int64"
      ]
     },
     "execution_count": 45,
     "metadata": {},
     "output_type": "execute_result"
    }
   ],
   "source": [
    "data_reviews.isnull().sum()"
   ]
  },
  {
   "cell_type": "code",
   "execution_count": 46,
   "id": "0e23cb7b",
   "metadata": {},
   "outputs": [
    {
     "data": {
      "text/plain": [
       "(58169, 8)"
      ]
     },
     "execution_count": 46,
     "metadata": {},
     "output_type": "execute_result"
    }
   ],
   "source": [
    "data_reviews.shape"
   ]
  },
  {
   "cell_type": "code",
   "execution_count": 47,
   "id": "6557f372",
   "metadata": {},
   "outputs": [
    {
     "name": "stdout",
     "output_type": "stream",
     "text": [
      "<class 'pandas.core.frame.DataFrame'>\n",
      "RangeIndex: 58169 entries, 0 to 58168\n",
      "Data columns (total 8 columns):\n",
      " #   Column              Non-Null Count  Dtype \n",
      "---  ------              --------------  ----- \n",
      " 0   user_id             58169 non-null  object\n",
      " 1   user_url            58169 non-null  object\n",
      " 2   reviews_posted      48253 non-null  object\n",
      " 3   reviews_item_id     58169 non-null  int64 \n",
      " 4   reviews_helpful     58169 non-null  object\n",
      " 5   reviews_recommend   58169 non-null  bool  \n",
      " 6   reviews_year        58169 non-null  object\n",
      " 7   sentiment_analysis  58169 non-null  int64 \n",
      "dtypes: bool(1), int64(2), object(5)\n",
      "memory usage: 3.2+ MB\n"
     ]
    }
   ],
   "source": [
    "data_reviews.info()"
   ]
  },
  {
   "cell_type": "markdown",
   "id": "487174b6",
   "metadata": {},
   "source": [
    "Luego de un análisis inicial de los datos en el conjunto data_reviews, se puede destacar que este conjunto contiene un total de 57,397 registros y 8 columnas, que incluyen información valiosa sobre las revisiones de usuarios en la plataforma Steam.\n",
    "\n",
    "Al observar los datos, notamos que hay 9,771 registros en el conjunto data_reviews que no contienen la fecha de publicación de las revisiones. Estos valores faltantes en la columna 'reviews_posted' podrían deberse a diferentes razones, como posiblemente usuarios que no proporcionaron una fecha de publicación en sus revisiones o algún error en la recopilación de datos. Para abordar esta limitación, se creó una nueva variable llamada 'reviews_year', en la cual se obtuvo el año de publicación y se asignó 'Dato no disponible' a los registros con valores faltantes en la fecha de publicación. Sin embargo, a pesar de estos valores faltantes, las demás columnas parecen estar completas, lo que proporciona una base sólida para el análisis de las recomendaciones y el análisis de sentimiento de los usuarios en Steam."
   ]
  },
  {
   "cell_type": "markdown",
   "id": "13f63738",
   "metadata": {},
   "source": [
    "En esta sección, calcularemos la cantidad de juegos únicos en nuestro conjunto de datos mediante la identificación de registros únicos por su ID. Esto nos permitirá conocer el número total de juegos registrados en nuestro dataset."
   ]
  },
  {
   "cell_type": "code",
   "execution_count": 48,
   "id": "39248d82",
   "metadata": {},
   "outputs": [
    {
     "name": "stdout",
     "output_type": "stream",
     "text": [
      "Total de juegos únicos registrados en el dataset: 3677\n"
     ]
    }
   ],
   "source": [
    "# Contar la cantidad de juegos únicos por ID\n",
    "reviews_count = data_reviews['reviews_item_id'].nunique()\n",
    "print(f\"Total de juegos únicos registrados en el dataset: {reviews_count}\")"
   ]
  },
  {
   "cell_type": "markdown",
   "id": "10b69a0a",
   "metadata": {},
   "source": [
    "### Columna 'reviews_year'\n",
    "\n",
    "Realizaremos un análisis estadístico de la variable 'reviews_year' después de filtrar los valores 'Dato no disponible' (recordemos son 9.771 datos) . Esto nos permite obtener una visión detallada de la distribución temporal de las revisiones de videojuegos en nuestro conjunto de datos. Calculamos estadísticas clave, como la cantidad total de registros, la media y la mediana de los años de revisión, proporcionando información esencial sobre la distribución temporal de las revisiones en nuestra muestra."
   ]
  },
  {
   "cell_type": "code",
   "execution_count": 49,
   "id": "d42a243e",
   "metadata": {},
   "outputs": [
    {
     "name": "stdout",
     "output_type": "stream",
     "text": [
      "Total de registros: 48253\n",
      "Media de años: 2014.15\n",
      "Mediana de años: 2014.0\n",
      "Año mínimo: 2010\n",
      "Año máximo: 2015\n"
     ]
    }
   ],
   "source": [
    "# Filtrar los valores 'Dato no disponible' en 'reviews_year'\n",
    "data_reviews_cleaned = data_reviews[data_reviews['reviews_year'] != 'Dato no disponible']\n",
    "\n",
    "# Calcular la cantidad total de registros\n",
    "total_registros = data_reviews_cleaned['reviews_year'].count()\n",
    "\n",
    "# Calcular la media de 'reviews_year'\n",
    "media_anios = data_reviews_cleaned['reviews_year'].astype(int).mean()\n",
    "\n",
    "# Calcular la mediana de 'reviews_year'\n",
    "mediana_anios = data_reviews_cleaned['reviews_year'].astype(int).median()\n",
    "\n",
    "# Otras estadísticas descriptivas\n",
    "# Puedes agregar más estadísticas según tu necesidad, como min, max, desviación estándar, etc.\n",
    "estadisticas_descriptivas = data_reviews_cleaned['reviews_year'].astype(int).describe()\n",
    "\n",
    "# Calcular el mínimo de 'reviews_year'\n",
    "min_anio = data_reviews_cleaned['reviews_year'].astype(int).min()\n",
    "\n",
    "# Calcular el máximo de 'reviews_year'\n",
    "max_anio = data_reviews_cleaned['reviews_year'].astype(int).max()\n",
    "\n",
    "# Imprimir los resultados, incluyendo el mínimo y el máximo\n",
    "print(f\"Total de registros: {total_registros}\")\n",
    "print(f\"Media de años: {media_anios:.2f}\")\n",
    "print(f\"Mediana de años: {mediana_anios}\")\n",
    "print(f\"Año mínimo: {min_anio}\")\n",
    "print(f\"Año máximo: {max_anio}\")\n",
    "\n"
   ]
  },
  {
   "cell_type": "markdown",
   "id": "214750b9",
   "metadata": {},
   "source": [
    "- Total de registros: 47,626\n",
    "- Media de años: 2014.15\n",
    "- Mediana de años: 2014.0\n",
    "\n",
    "\n",
    "La mayoría de las reseñas se encuentran en el rango de los años 2014 y 2015, con una mediana en 2014. Esto sugiere que la mayoría de las reseñas se realizaron en esos años, y la distribución es bastante centrada alrededor de 2014. La desviación estándar de 0.841 indica que los años varían muy poco de este valor central, y el mínimo y máximo son 2010 y 2015, respectivamente, lo que confirma que la mayoría de las reseñas se concentran en este período de tiempo."
   ]
  },
  {
   "cell_type": "markdown",
   "id": "ab44cc82",
   "metadata": {},
   "source": [
    "En el siguiente gráfico, realizaremos un análisis exploratorio de los reviews de videojuegos, centrándonos en visualizar la distribución de revisiones a lo largo de los años. Esto nos permitirá identificar los años en los que se realizaron la mayor cantidad de reviews, proporcionando una visión general de la actividad de revisión a lo largo del tiempo para los diferentes juegos."
   ]
  },
  {
   "cell_type": "code",
   "execution_count": 50,
   "id": "be2c5229",
   "metadata": {},
   "outputs": [
    {
     "data": {
      "image/png": "[encoded data removed]",
      "text/plain": [
       "<Figure size 640x480 with 1 Axes>"
      ]
     },
     "metadata": {},
     "output_type": "display_data"
    }
   ],
   "source": [
    "# Filtra las filas con 'Dato no disponible' en la columna 'reviews_year'\n",
    "data_reviews = data_reviews[data_reviews['reviews_year'] != 'Dato no disponible']\n",
    "\n",
    "# Convierte la columna 'reviews_year' a tipo numérico (entero) para que sea más fácil graficar\n",
    "data_reviews['reviews_year'] = data_reviews['reviews_year'].astype(int)\n",
    "\n",
    "# Cuenta la cantidad de videojuegos en cada año\n",
    "year_counts = data_reviews['reviews_year'].value_counts().sort_index()\n",
    "\n",
    "# Crea el histograma\n",
    "plt.bar(year_counts.index, year_counts.values)\n",
    "plt.xlabel('Año de Review')\n",
    "plt.ylabel('Cantidad de Videojuegos')\n",
    "plt.title('Histograma de Reviews por Año')\n",
    "plt.xticks(year_counts.index)\n",
    "plt.show()\n"
   ]
  },
  {
   "cell_type": "markdown",
   "id": "288873d4",
   "metadata": {},
   "source": [
    "En el histograma, podemos observar que la mayoría de los datos de reviews se concentran en el año 2014, seguido de cerca por el año 2015. Esto nos proporciona una clara indicación de los años en los que se ha registrado la mayor cantidad de reviews de videojuegos en nuestra muestra de datos."
   ]
  },
  {
   "cell_type": "markdown",
   "id": "f0a8b061",
   "metadata": {},
   "source": [
    "### Columnas 'sentiment_analysis' y 'reviews_recommend'\n",
    "\n",
    "\n",
    "Haremos un análisis más detallado de dos columnas fundamentales en nuestro conjunto de datos: 'sentiment_analysis' y 'reviews_recommend'. Estas columnas proporcionan información valiosa sobre el sentimiento y las recomendaciones expresadas en las revisiones de los videojuegos. Exploraremos cómo estos datos están distribuidos, lo que nos permitirá comprender mejor las opiniones de los usuarios sobre los juegos y si tienden a recomendarlos o no."
   ]
  },
  {
   "cell_type": "code",
   "execution_count": 51,
   "id": "f48b2f1b",
   "metadata": {},
   "outputs": [
    {
     "name": "stdout",
     "output_type": "stream",
     "text": [
      "Cantidad de usuarios únicos que dieron reviews: 22795\n",
      "Cantidad total de reviews: 48253\n"
     ]
    }
   ],
   "source": [
    "# Cantidad de usuarios únicos que dieron reviews\n",
    "unique_users_count = data_reviews['user_id'].nunique()\n",
    "\n",
    "# Cantidad total de reviews\n",
    "total_reviews_count = data_reviews['sentiment_analysis'].count()\n",
    "\n",
    "print(f\"Cantidad de usuarios únicos que dieron reviews: {unique_users_count}\")\n",
    "print(f\"Cantidad total de reviews: {total_reviews_count}\")\n"
   ]
  },
  {
   "cell_type": "markdown",
   "id": "455e5360",
   "metadata": {},
   "source": [
    "Realizamos un análisis detallado de los sentimientos expresados en las reviews, presentando la distribución de sentimientos en un nuevo DataFrame. Este nuevo DataFrame, llamado 'sentiment_df', proporciona información sobre la cantidad y los porcentajes de cada categoría de sentimiento"
   ]
  },
  {
   "cell_type": "code",
   "execution_count": 52,
   "id": "63a4930f",
   "metadata": {},
   "outputs": [],
   "source": [
    "# Calcular la cantidad de ocurrencias para cada sentimiento\n",
    "sentiment_counts = data_reviews['sentiment_analysis'].value_counts()\n",
    "\n",
    "# Calcular los porcentajes\n",
    "sentiment_percentages = (sentiment_counts / sentiment_counts.sum()) * 100\n",
    "\n",
    "# Crear un nuevo DataFrame con los datos\n",
    "sentiment_df = pd.DataFrame({\n",
    "    'Sentimiento': sentiment_counts.index,\n",
    "    'Cantidad': sentiment_counts.values,\n",
    "    'Porcentaje': sentiment_percentages\n",
    "})\n",
    "\n",
    "# Ordenar el DataFrame por la columna 'Sentimiento'\n",
    "sentiment_df = sentiment_df.sort_values(by='Sentimiento')\n",
    "\n",
    "# Restablecer el índice\n",
    "sentiment_df.reset_index(drop=True, inplace=True)"
   ]
  },
  {
   "cell_type": "code",
   "execution_count": 53,
   "id": "b41f98b1",
   "metadata": {},
   "outputs": [
    {
     "data": {
      "text/html": [
       "<div>\n",
       "<style scoped>\n",
       "    .dataframe tbody tr th:only-of-type {\n",
       "        vertical-align: middle;\n",
       "    }\n",
       "\n",
       "    .dataframe tbody tr th {\n",
       "        vertical-align: top;\n",
       "    }\n",
       "\n",
       "    .dataframe thead th {\n",
       "        text-align: right;\n",
       "    }\n",
       "</style>\n",
       "<table border=\"1\" class=\"dataframe\">\n",
       "  <thead>\n",
       "    <tr style=\"text-align: right;\">\n",
       "      <th></th>\n",
       "      <th>Sentimiento</th>\n",
       "      <th>Cantidad</th>\n",
       "      <th>Porcentaje</th>\n",
       "    </tr>\n",
       "  </thead>\n",
       "  <tbody>\n",
       "    <tr>\n",
       "      <th>0</th>\n",
       "      <td>0</td>\n",
       "      <td>5694</td>\n",
       "      <td>11.800303</td>\n",
       "    </tr>\n",
       "    <tr>\n",
       "      <th>1</th>\n",
       "      <td>1</td>\n",
       "      <td>14148</td>\n",
       "      <td>29.320457</td>\n",
       "    </tr>\n",
       "    <tr>\n",
       "      <th>2</th>\n",
       "      <td>2</td>\n",
       "      <td>28411</td>\n",
       "      <td>58.879241</td>\n",
       "    </tr>\n",
       "  </tbody>\n",
       "</table>\n",
       "</div>"
      ],
      "text/plain": [
       "   Sentimiento  Cantidad  Porcentaje\n",
       "0            0      5694   11.800303\n",
       "1            1     14148   29.320457\n",
       "2            2     28411   58.879241"
      ]
     },
     "execution_count": 53,
     "metadata": {},
     "output_type": "execute_result"
    }
   ],
   "source": [
    "sentiment_df"
   ]
  },
  {
   "cell_type": "markdown",
   "id": "496421c3",
   "metadata": {},
   "source": [
    "En base al análisis de los sentimientos expresados en las revisiones, observamos una distribución en tres categorías principales:\n",
    "\n",
    "- **El sentimiento '0'** (negativo) se presenta en 7.058 reviews, lo que representa aproximadamente el 12.30% del total.\n",
    "- **El sentimiento '1'** (neutral)  es el más común, con 17.041 reviews, abarcando alrededor del 29.69% de las opiniones.\n",
    "- **El sentimiento '2'** (positivo) es el más predominante, con 33.298 reviews, lo que equivale al 58.01% del total.\n",
    "Estos resultados indican que la mayoría de las revisiones tienen un sentimiento positivo ('2'), seguido por revisiones con un sentimiento neutral ('1'), y un menor número de revisiones con un sentimiento negativo o neutral ('0')."
   ]
  },
  {
   "cell_type": "markdown",
   "id": "ebf756cf",
   "metadata": {},
   "source": [
    "Realizamos el mismo análisis detallado en este caso de los `reviews_recommend`"
   ]
  },
  {
   "cell_type": "code",
   "execution_count": 54,
   "id": "6feea49c",
   "metadata": {},
   "outputs": [],
   "source": [
    "# Calcular la cantidad de ocurrencias para True y False\n",
    "recommend_counts = data_reviews['reviews_recommend'].value_counts()\n",
    "\n",
    "# Calcular los porcentajes\n",
    "recommend_percentages = (recommend_counts / recommend_counts.sum()) * 100\n",
    "\n",
    "# Crear un nuevo DataFrame con los datos\n",
    "recommend_df = pd.DataFrame({\n",
    "    'Recomendado': recommend_counts.index,\n",
    "    'Cantidad': recommend_counts.values,\n",
    "    'Porcentaje': recommend_percentages\n",
    "})\n",
    "\n",
    "# Ordenar el DataFrame por la columna 'Recomendado'\n",
    "recommend_df = recommend_df.sort_values(by='Recomendado')\n",
    "\n",
    "# Restablecer el índice\n",
    "recommend_df.reset_index(drop=True, inplace=True)"
   ]
  },
  {
   "cell_type": "code",
   "execution_count": 55,
   "id": "a0f90d33",
   "metadata": {},
   "outputs": [
    {
     "data": {
      "text/html": [
       "<div>\n",
       "<style scoped>\n",
       "    .dataframe tbody tr th:only-of-type {\n",
       "        vertical-align: middle;\n",
       "    }\n",
       "\n",
       "    .dataframe tbody tr th {\n",
       "        vertical-align: top;\n",
       "    }\n",
       "\n",
       "    .dataframe thead th {\n",
       "        text-align: right;\n",
       "    }\n",
       "</style>\n",
       "<table border=\"1\" class=\"dataframe\">\n",
       "  <thead>\n",
       "    <tr style=\"text-align: right;\">\n",
       "      <th></th>\n",
       "      <th>Recomendado</th>\n",
       "      <th>Cantidad</th>\n",
       "      <th>Porcentaje</th>\n",
       "    </tr>\n",
       "  </thead>\n",
       "  <tbody>\n",
       "    <tr>\n",
       "      <th>0</th>\n",
       "      <td>False</td>\n",
       "      <td>4918</td>\n",
       "      <td>10.192112</td>\n",
       "    </tr>\n",
       "    <tr>\n",
       "      <th>1</th>\n",
       "      <td>True</td>\n",
       "      <td>43335</td>\n",
       "      <td>89.807888</td>\n",
       "    </tr>\n",
       "  </tbody>\n",
       "</table>\n",
       "</div>"
      ],
      "text/plain": [
       "   Recomendado  Cantidad  Porcentaje\n",
       "0        False      4918   10.192112\n",
       "1         True     43335   89.807888"
      ]
     },
     "execution_count": 55,
     "metadata": {},
     "output_type": "execute_result"
    }
   ],
   "source": [
    "recommend_df"
   ]
  },
  {
   "cell_type": "markdown",
   "id": "41dee3d2",
   "metadata": {},
   "source": [
    "Basado en los datos presentados en la tabla:\n",
    "\n",
    "La mayoría de las revisiones de videojuegos expresan una recomendación positiva ('True'), representando aproximadamente el 88.47% del total.\n",
    "\n",
    "Un número significativo de revisiones también señala que no se recomienda el videojuego ('False'), con un 11.53% del total.\n",
    "\n",
    "Esta conclusión indica que la mayoría de los usuarios que realizaron revisiones en tu conjunto de datos expresan opiniones positivas y recomiendan los videojuegos que han revisado"
   ]
  },
  {
   "cell_type": "markdown",
   "id": "3bd4a873",
   "metadata": {},
   "source": [
    "Profundizaremos en el análisis de la relación entre el análisis de sentimiento y las recomendaciones en las revisiones de videojuegos. Para lograrlo, agruparemos los datos por `'sentiment_analysis'` y `'reviews_recommend'`, contaremos la cantidad de reviews en cada grupo y calcularemos los porcentajes relativos. La creación de un nuevo DataFrame de resumen nos permitirá obtener una visión detallada de cómo las recomendaciones se relacionan con los sentimientos expresados en las revisiones."
   ]
  },
  {
   "cell_type": "code",
   "execution_count": 56,
   "id": "4488da27",
   "metadata": {},
   "outputs": [],
   "source": [
    "# Calcular la cantidad total\n",
    "# total_reviews = summary_df['Cantidad'].sum()\n",
    "\n",
    "# Calcular los porcentajes en función de la cantidad total\n",
    "# summary_df['Porcentaje'] = (summary_df['Cantidad'] / total_reviews) * 100"
   ]
  },
  {
   "cell_type": "code",
   "execution_count": 57,
   "id": "1b9eecdd",
   "metadata": {},
   "outputs": [],
   "source": [
    "# summary_df"
   ]
  },
  {
   "cell_type": "markdown",
   "id": "6898c075",
   "metadata": {},
   "source": [
    "Los resultados muestran una relación interesante entre el análisis de sentimiento y las recomendaciones en las revisiones de videojuegos. Se observa que, en general, la gran mayoría de las revisiones con sentimiento '2' (positivo) recomiendan el juego, con un impresionante 56.03%. Esto sugiere que un sentimiento positivo a menudo se asocia con revisiones que respaldan la recomendación del juego. Por otro lado, las revisiones con sentimiento '0' (negativo) tienen un porcentaje bajo de recomendación, aproximadamente el 8.28%, lo que indica que la negatividad en las revisiones tiende a disuadir la recomendación. Sin embargo, es interesante notar que alrededor del 25.51% de las revisiones con sentimiento '1' (neutral) aún recomiendan el juego, lo que podría sugerir que, a pesar de la neutralidad, estos usuarios todavía ven méritos en el juego para hacer una recomendación. Estos resultados reflejan cómo los sentimientos expresados en las revisiones influyen en las recomendaciones, y en algunos casos, los usuarios aún recomiendan juegos a pesar de sentimientos menos entusiastas."
   ]
  },
  {
   "cell_type": "markdown",
   "id": "a4a25737",
   "metadata": {},
   "source": [
    "# **EDA dataset `users_items`**\n",
    "\n",
    "El análisis exploratorio de datos (EDA) del conjunto \"users_items\", que ha sido previamente sometido al proceso de extracción, transformación y carga (ETL), tiene como objetivo examinar y comprender a fondo la relación entre los usuarios y los elementos (o juegos) que han adquirido o interactuado en la plataforma de Steam."
   ]
  },
  {
   "cell_type": "code",
   "execution_count": 58,
   "id": "d05ffc35",
   "metadata": {},
   "outputs": [
    {
     "data": {
      "text/html": [
       "<div>\n",
       "<style scoped>\n",
       "    .dataframe tbody tr th:only-of-type {\n",
       "        vertical-align: middle;\n",
       "    }\n",
       "\n",
       "    .dataframe tbody tr th {\n",
       "        vertical-align: top;\n",
       "    }\n",
       "\n",
       "    .dataframe thead th {\n",
       "        text-align: right;\n",
       "    }\n",
       "</style>\n",
       "<table border=\"1\" class=\"dataframe\">\n",
       "  <thead>\n",
       "    <tr style=\"text-align: right;\">\n",
       "      <th></th>\n",
       "      <th>user_id</th>\n",
       "      <th>items_count</th>\n",
       "      <th>steam_id</th>\n",
       "      <th>user_url</th>\n",
       "      <th>item_id</th>\n",
       "      <th>item_name</th>\n",
       "      <th>playtime_forever</th>\n",
       "      <th>playtime_2weeks</th>\n",
       "    </tr>\n",
       "  </thead>\n",
       "  <tbody>\n",
       "    <tr>\n",
       "      <th>0</th>\n",
       "      <td>76561197970982479</td>\n",
       "      <td>277</td>\n",
       "      <td>76561197970982479</td>\n",
       "      <td>http://steamcommunity.com/profiles/76561197970...</td>\n",
       "      <td>10</td>\n",
       "      <td>Counter-Strike</td>\n",
       "      <td>6</td>\n",
       "      <td>0</td>\n",
       "    </tr>\n",
       "    <tr>\n",
       "      <th>1</th>\n",
       "      <td>76561197970982479</td>\n",
       "      <td>277</td>\n",
       "      <td>76561197970982479</td>\n",
       "      <td>http://steamcommunity.com/profiles/76561197970...</td>\n",
       "      <td>20</td>\n",
       "      <td>Team Fortress Classic</td>\n",
       "      <td>0</td>\n",
       "      <td>0</td>\n",
       "    </tr>\n",
       "    <tr>\n",
       "      <th>2</th>\n",
       "      <td>76561197970982479</td>\n",
       "      <td>277</td>\n",
       "      <td>76561197970982479</td>\n",
       "      <td>http://steamcommunity.com/profiles/76561197970...</td>\n",
       "      <td>30</td>\n",
       "      <td>Day of Defeat</td>\n",
       "      <td>7</td>\n",
       "      <td>0</td>\n",
       "    </tr>\n",
       "  </tbody>\n",
       "</table>\n",
       "</div>"
      ],
      "text/plain": [
       "             user_id  items_count           steam_id  \\\n",
       "0  76561197970982479          277  76561197970982479   \n",
       "1  76561197970982479          277  76561197970982479   \n",
       "2  76561197970982479          277  76561197970982479   \n",
       "\n",
       "                                            user_url  item_id  \\\n",
       "0  http://steamcommunity.com/profiles/76561197970...       10   \n",
       "1  http://steamcommunity.com/profiles/76561197970...       20   \n",
       "2  http://steamcommunity.com/profiles/76561197970...       30   \n",
       "\n",
       "               item_name  playtime_forever  playtime_2weeks  \n",
       "0         Counter-Strike                 6                0  \n",
       "1  Team Fortress Classic                 0                0  \n",
       "2          Day of Defeat                 7                0  "
      ]
     },
     "execution_count": 58,
     "metadata": {},
     "output_type": "execute_result"
    }
   ],
   "source": [
    "data_items.head(3)"
   ]
  },
  {
   "cell_type": "code",
   "execution_count": 59,
   "id": "1bdf03c9",
   "metadata": {},
   "outputs": [
    {
     "data": {
      "text/plain": [
       "user_id             0\n",
       "items_count         0\n",
       "steam_id            0\n",
       "user_url            0\n",
       "item_id             0\n",
       "item_name           0\n",
       "playtime_forever    0\n",
       "playtime_2weeks     0\n",
       "dtype: int64"
      ]
     },
     "execution_count": 59,
     "metadata": {},
     "output_type": "execute_result"
    }
   ],
   "source": [
    "data_items.isnull().sum()"
   ]
  },
  {
   "cell_type": "code",
   "execution_count": 60,
   "id": "0791346f",
   "metadata": {},
   "outputs": [
    {
     "data": {
      "text/plain": [
       "(5094105, 8)"
      ]
     },
     "execution_count": 60,
     "metadata": {},
     "output_type": "execute_result"
    }
   ],
   "source": [
    "data_items.shape"
   ]
  },
  {
   "cell_type": "markdown",
   "id": "c5b6c05b",
   "metadata": {},
   "source": [
    "\n",
    "Este conjunto de datos consta de 8 columnas y un total de 5.094.105 registros."
   ]
  },
  {
   "cell_type": "markdown",
   "id": "83cf79af",
   "metadata": {},
   "source": [
    "### Columna 'items_count'\n",
    "\n",
    "Indica la cantidad de juegos consumidos o comprados por los usuarios.\n"
   ]
  },
  {
   "cell_type": "code",
   "execution_count": 61,
   "id": "e9333682",
   "metadata": {},
   "outputs": [
    {
     "name": "stdout",
     "output_type": "stream",
     "text": [
      "Total de registros: 5094105\n",
      "Media de 'items_count': 315.73\n",
      "Mediana de 'items_count': 137.0\n",
      "Mínimo de 'items_count': 1\n",
      "Máximo de 'items_count': 7762\n"
     ]
    }
   ],
   "source": [
    "# Filtrar los valores 'Dato no disponible' en 'items_count'\n",
    "data_items_cleaned = data_items[data_items['items_count'] != 'Dato no disponible']\n",
    "\n",
    "# Calcular la cantidad total de registros\n",
    "total_registros = data_items_cleaned['items_count'].count()\n",
    "\n",
    "# Calcular la media de 'items_count'\n",
    "media_items = data_items_cleaned['items_count'].astype(int).mean()\n",
    "\n",
    "# Calcular la mediana de 'items_count'\n",
    "mediana_items = data_items_cleaned['items_count'].astype(int).median()\n",
    "\n",
    "# Otras estadísticas descriptivas\n",
    "# Puedes agregar más estadísticas según tu necesidad, como min, max, desviación estándar, etc.\n",
    "estadisticas_descriptivas = data_items_cleaned['items_count'].astype(int).describe()\n",
    "\n",
    "# Calcular el mínimo de 'items_count'\n",
    "min_items = data_items_cleaned['items_count'].astype(int).min()\n",
    "\n",
    "# Calcular el máximo de 'items_count'\n",
    "max_items = data_items_cleaned['items_count'].astype(int).max()\n",
    "\n",
    "# Imprimir los resultados, incluyendo el mínimo y el máximo\n",
    "print(f\"Total de registros: {total_registros}\")\n",
    "print(f\"Media de 'items_count': {media_items:.2f}\")\n",
    "print(f\"Mediana de 'items_count': {mediana_items}\")\n",
    "print(f\"Mínimo de 'items_count': {min_items}\")\n",
    "print(f\"Máximo de 'items_count': {max_items}\")\n"
   ]
  },
  {
   "cell_type": "markdown",
   "id": "157670bd",
   "metadata": {},
   "source": [
    "- **Total de registros:** El conjunto de datos 'data_items' consta de un total de 5,094,105 registros.\n",
    "\n",
    "- **Media de 'items_count':** La media de 'items_count' es de aproximadamente 315.73.\n",
    "\n",
    "- **Mediana de 'items_count':** La mediana de 'items_count' es de 137.0, indicando que la mitad de los usuarios tienen un consumo igual o inferior a 137.\n",
    "\n",
    "\n",
    "La variabilidad en los consumos de juegos es notable, con usuarios que tienen un rango de consumos que va desde muy bajos hasta extremadamente altos. Este rango amplio de consumos puede deberse a diferentes perfiles de usuarios, incluyendo aquellos que ocasionalmente adquieren juegos y aquellos que son ávidos consumidores. La mediana de 137 sugiere que la mayoría de los usuarios tienen un consumo moderado, pero la alta media de 315.73 señala que algunos usuarios tienen consumos muy por encima de este valor. Esto indica la existencia de una distribución sesgada hacia usuarios con un alto consumo de juegos. \n",
    "Es por eso que hemos decidido visualizar de manera efectiva cómo se distribuye el consumo de juegos entre los usuarios. Para lograrlo, hemos creado un gráfico de caja ('boxplot') que destaca estadísticas clave. Estas visualizaciones nos permiten explorar con mayor detalle la relación entre los usuarios y la cantidad de juegos que consumen o compran"
   ]
  },
  {
   "cell_type": "markdown",
   "id": "398aedcc",
   "metadata": {},
   "source": [
    "Primero procedemos a crear un dataframe con los usuarios `'user_id'` y la cantidad de juegos consumidos o comprados por los usuarios `'items_count'`."
   ]
  },
  {
   "cell_type": "code",
   "execution_count": 62,
   "id": "f94bc312",
   "metadata": {},
   "outputs": [],
   "source": [
    "items_user = data_items.groupby('user_id')['items_count'].unique().explode()\n",
    "items_user = pd.DataFrame(items_user)\n",
    "items_user_count = items_user.sort_values('items_count', ascending=False)\n"
   ]
  },
  {
   "cell_type": "code",
   "execution_count": 63,
   "id": "c4054215",
   "metadata": {},
   "outputs": [
    {
     "data": {
      "text/html": [
       "<div>\n",
       "<style scoped>\n",
       "    .dataframe tbody tr th:only-of-type {\n",
       "        vertical-align: middle;\n",
       "    }\n",
       "\n",
       "    .dataframe tbody tr th {\n",
       "        vertical-align: top;\n",
       "    }\n",
       "\n",
       "    .dataframe thead th {\n",
       "        text-align: right;\n",
       "    }\n",
       "</style>\n",
       "<table border=\"1\" class=\"dataframe\">\n",
       "  <thead>\n",
       "    <tr style=\"text-align: right;\">\n",
       "      <th></th>\n",
       "      <th>items_count</th>\n",
       "    </tr>\n",
       "    <tr>\n",
       "      <th>user_id</th>\n",
       "      <th></th>\n",
       "    </tr>\n",
       "  </thead>\n",
       "  <tbody>\n",
       "    <tr>\n",
       "      <th>phrostb</th>\n",
       "      <td>7762</td>\n",
       "    </tr>\n",
       "    <tr>\n",
       "      <th>thugnificent</th>\n",
       "      <td>6700</td>\n",
       "    </tr>\n",
       "    <tr>\n",
       "      <th>chidvd</th>\n",
       "      <td>6410</td>\n",
       "    </tr>\n",
       "  </tbody>\n",
       "</table>\n",
       "</div>"
      ],
      "text/plain": [
       "             items_count\n",
       "user_id                 \n",
       "phrostb             7762\n",
       "thugnificent        6700\n",
       "chidvd              6410"
      ]
     },
     "execution_count": 63,
     "metadata": {},
     "output_type": "execute_result"
    }
   ],
   "source": [
    "items_user_count.head(3)"
   ]
  },
  {
   "cell_type": "code",
   "execution_count": 64,
   "id": "e98edb14",
   "metadata": {},
   "outputs": [
    {
     "data": {
      "image/png": "[encoded data removed]",
      "text/plain": [
       "<Figure size 1200x500 with 1 Axes>"
      ]
     },
     "metadata": {},
     "output_type": "display_data"
    }
   ],
   "source": [
    "plt.figure(figsize=(12, 5))\n",
    "\n",
    "# Crea el boxplot\n",
    "sns.boxplot(data=items_user_count, x='items_count')\n",
    "\n",
    "# Personaliza el título y etiquetas de los ejes\n",
    "plt.title('Distribución de la Cantidad de Juegos Consumidos por Usuario')\n",
    "plt.xlabel('Cantidad de Juegos')\n",
    "plt.ylabel('')\n",
    "\n",
    "# Muestra el boxplot\n",
    "plt.show()\n"
   ]
  },
  {
   "cell_type": "markdown",
   "id": "6a4fe97e",
   "metadata": {},
   "source": [
    "Observamos que la mayoría de los usuarios tienen un número relativamente bajo de juegos consumidos, ya que hay un gran número de usuarios con valores bajos en el eje x. Esto sugiere que la mayoría de los usuarios tienen un consumo moderado de juegos.\n",
    "\n",
    "Sin embargo, hay algunos usuarios que se destacan significativamente en términos de la cantidad de juegos consumidos. Los valores extremadamente altos, como el usuario 'phrostb' con 7762 juegos, 'thugnificent' con 6700 juegos, y otros con cantidades considerables, indican que un pequeño grupo de usuarios ha consumido una cantidad sustancial de juegos.\n",
    "\n",
    "El boxplot también sugiere la presencia de valores atípicos, ya que hay puntos por encima del \"bigote\" superior del boxplot. Esto significa que hay usuarios extremadamente atípicos con un consumo muy alto de juegos. Estos valores atípicos podrían ser de interés para un análisis más detenido.\n",
    "\n",
    "Es importante destacar que no consideramos buena práctica eliminar ninguno de los datos de esta variable, ya que consideramos que estos datos pueden ser importantes para futuros análisis."
   ]
  },
  {
   "cell_type": "markdown",
   "id": "e48565a1",
   "metadata": {},
   "source": [
    "Hemos decidido crear un \"Gráfico de Distribución de la Cantidad de Juegos Consumidos\" para visualizar cómo se distribuye la cantidad de juegos consumidos por los usuarios en nuestro conjunto de datos."
   ]
  },
  {
   "cell_type": "code",
   "execution_count": 65,
   "id": "1a986344",
   "metadata": {},
   "outputs": [
    {
     "data": {
      "image/png": "[encoded data removed]",
      "text/plain": [
       "<Figure size 1000x500 with 1 Axes>"
      ]
     },
     "metadata": {},
     "output_type": "display_data"
    }
   ],
   "source": [
    "import matplotlib.pyplot as plt\n",
    "import seaborn as sns\n",
    "\n",
    "# Crear un histograma de la cantidad de juegos consumidos\n",
    "plt.figure(figsize=(10, 5))\n",
    "sns.histplot(data_items['items_count'], bins=50, kde=True, color='blue')\n",
    "plt.title('Distribución de la Cantidad de Juegos Consumidos')\n",
    "plt.xlabel('Cantidad de Juegos Consumidos')\n",
    "plt.ylabel('Número de Usuarios')\n",
    "plt.show()\n"
   ]
  },
  {
   "cell_type": "code",
   "execution_count": 66,
   "id": "91234847",
   "metadata": {},
   "outputs": [
    {
     "data": {
      "image/png": "[encoded data removed]",
      "text/plain": [
       "<Figure size 1000x600 with 1 Axes>"
      ]
     },
     "metadata": {},
     "output_type": "display_data"
    }
   ],
   "source": [
    "# Definir los rangos de consumo\n",
    "bins = [0, 100, 500, 1000, 2000, 5000, 10000]\n",
    "labels = ['0-100', '101-500', '501-1000', '1001-2000', '2001-5000', '5001+']\n",
    "\n",
    "# Crear una nueva columna en el DataFrame para asignar rangos\n",
    "data_items['consumption_range'] = pd.cut(data_items['items_count'], bins=bins, labels=labels, include_lowest=True)\n",
    "\n",
    "# Contar la cantidad de usuarios en cada rango\n",
    "consumption_counts = data_items['consumption_range'].value_counts().sort_index()\n",
    "\n",
    "# Calcular los porcentajes\n",
    "consumption_percentages = (consumption_counts / consumption_counts.sum()) * 100\n",
    "\n",
    "# Crear el gráfico de barras\n",
    "plt.figure(figsize=(10, 6))\n",
    "bars = plt.bar(consumption_percentages.index, consumption_percentages)\n",
    "plt.xlabel('Rango de Consumo de Juegos')\n",
    "plt.ylabel('Porcentaje de Usuarios')\n",
    "plt.title('Distribución de Usuarios por Rango de Consumo de Juegos')\n",
    "plt.xticks(rotation=45)\n",
    "\n",
    "# Agregar porcentajes en la parte superior de las barras\n",
    "for bar, percentage in zip(bars, consumption_percentages):\n",
    "    plt.text(bar.get_x() + bar.get_width() / 2, bar.get_height(), f'{percentage:.2f}%', ha='center', va='bottom', color='black')\n",
    "\n",
    "plt.show()"
   ]
  },
  {
   "cell_type": "markdown",
   "id": "9aa33481",
   "metadata": {},
   "source": [
    "Al observar la distribución de usuarios por rango de consumo de juegos, es evidente que la gran mayoría se concentra en los dos primeros rangos. El rango de 1 a 100 juegos representa un 37.35% de los usuarios, mientras que el rango de 101 a 500 juegos abarca un considerable 50.85%. Al sumar estos dos rangos, encontramos que el 88.20% de los usuarios se encuentra en esta zona, lo que indica una tendencia común o promedio en el consumo de juegos para la mayoría de los usuarios.\n",
    "\n",
    "Un grupo más reducido de usuarios se encuentra en los rangos de 501 a 1000 juegos (6.48%) y 1001 a 2000 juegos (2.76%). Estos rangos reflejan a aquellos usuarios que presentan un nivel de interacción superior con la plataforma, aunque siguen siendo una minoría en comparación con los dos primeros rangos.\n",
    "\n",
    "La cantidad de usuarios con consumos más elevados, como 2001 a 5000 juegos y más de 5000 juegos, es limitada, representando el 1.93% y el 0.63%, respectivamente, del total de usuarios. Estos rangos superiores señalan a usuarios con un alto grado de compromiso y una participación significativa en la plataforma.\n",
    "\n",
    "En resumen, la distribución de usuarios revela que la mayoría de ellos tiene un consumo moderado de juegos, lo que es común o promedio en la comunidad. Sin embargo, existen segmentos de usuarios con niveles de interacción más altos, indicando la presencia de una diversidad de perfiles de usuarios en la plataforma."
   ]
  },
  {
   "cell_type": "markdown",
   "id": "ccf4dda8",
   "metadata": {},
   "source": [
    "### Columna 'playtime_forever'"
   ]
  },
  {
   "cell_type": "markdown",
   "id": "6fd02ff1",
   "metadata": {},
   "source": [
    "Los valores en la columna \"playtime_forever\" están en minutos y se requieren en horas, es fundamental realizar esta conversión para que los análisis y resultados sean coherentes y comprensibles. Es esencial identificar y estudiar los datos atípicos o valores inusuales en la columna \"playtime_forever\" (horas jugadas). Estos datos atípicos, a veces llamados outliers, pueden proporcionar información valiosa sobre patrones inesperados o problemas en los datos. En esta sección, nos enfocaremos en detectar y explorar estos datos inusuales en la columna \"playtime_forever\" y considerar cómo pueden afectar nuestros análisis y resultados."
   ]
  },
  {
   "cell_type": "code",
   "execution_count": 67,
   "id": "56ded30a",
   "metadata": {},
   "outputs": [],
   "source": [
    "# Convertir \"playtime_forever\" de minutos a horas\n",
    "\n",
    "data_items['playtime_forever'] = data_items['playtime_forever'] / 60"
   ]
  },
  {
   "cell_type": "code",
   "execution_count": 68,
   "id": "8c4857f3",
   "metadata": {},
   "outputs": [],
   "source": [
    "import numpy as np\n",
    "\n",
    "# Calcula Q1 y Q3 a partir de los datos en horas\n",
    "Q1 = np.percentile(data_items['playtime_forever'], 25)\n",
    "Q3 = np.percentile(data_items['playtime_forever'], 75)\n",
    "\n",
    "# Calcula el IQR\n",
    "IQR = Q3 - Q1\n",
    "\n",
    "# Define el umbral para valores atípicos\n",
    "umbral = 3 * IQR\n",
    "\n",
    "# Encuentra los valores atípicos\n",
    "valores_atipicos = data_items[(data_items['playtime_forever'] < Q1 - umbral) | (data_items['playtime_forever'] > Q3 + umbral)]"
   ]
  },
  {
   "cell_type": "code",
   "execution_count": 69,
   "id": "2b9f649d",
   "metadata": {},
   "outputs": [
    {
     "data": {
      "text/html": [
       "<div>\n",
       "<style scoped>\n",
       "    .dataframe tbody tr th:only-of-type {\n",
       "        vertical-align: middle;\n",
       "    }\n",
       "\n",
       "    .dataframe tbody tr th {\n",
       "        vertical-align: top;\n",
       "    }\n",
       "\n",
       "    .dataframe thead th {\n",
       "        text-align: right;\n",
       "    }\n",
       "</style>\n",
       "<table border=\"1\" class=\"dataframe\">\n",
       "  <thead>\n",
       "    <tr style=\"text-align: right;\">\n",
       "      <th></th>\n",
       "      <th>user_id</th>\n",
       "      <th>items_count</th>\n",
       "      <th>steam_id</th>\n",
       "      <th>user_url</th>\n",
       "      <th>item_id</th>\n",
       "      <th>item_name</th>\n",
       "      <th>playtime_forever</th>\n",
       "      <th>playtime_2weeks</th>\n",
       "      <th>consumption_range</th>\n",
       "    </tr>\n",
       "  </thead>\n",
       "  <tbody>\n",
       "    <tr>\n",
       "      <th>8</th>\n",
       "      <td>76561197970982479</td>\n",
       "      <td>277</td>\n",
       "      <td>76561197970982479</td>\n",
       "      <td>http://steamcommunity.com/profiles/76561197970...</td>\n",
       "      <td>300</td>\n",
       "      <td>Day of Defeat: Source</td>\n",
       "      <td>78.883333</td>\n",
       "      <td>0</td>\n",
       "      <td>101-500</td>\n",
       "    </tr>\n",
       "    <tr>\n",
       "      <th>9</th>\n",
       "      <td>76561197970982479</td>\n",
       "      <td>277</td>\n",
       "      <td>76561197970982479</td>\n",
       "      <td>http://steamcommunity.com/profiles/76561197970...</td>\n",
       "      <td>240</td>\n",
       "      <td>Counter-Strike: Source</td>\n",
       "      <td>30.883333</td>\n",
       "      <td>0</td>\n",
       "      <td>101-500</td>\n",
       "    </tr>\n",
       "    <tr>\n",
       "      <th>16</th>\n",
       "      <td>76561197970982479</td>\n",
       "      <td>277</td>\n",
       "      <td>76561197970982479</td>\n",
       "      <td>http://steamcommunity.com/profiles/76561197970...</td>\n",
       "      <td>6910</td>\n",
       "      <td>Deus Ex: Game of the Year Edition</td>\n",
       "      <td>44.750000</td>\n",
       "      <td>0</td>\n",
       "      <td>101-500</td>\n",
       "    </tr>\n",
       "    <tr>\n",
       "      <th>41</th>\n",
       "      <td>76561197970982479</td>\n",
       "      <td>277</td>\n",
       "      <td>76561197970982479</td>\n",
       "      <td>http://steamcommunity.com/profiles/76561197970...</td>\n",
       "      <td>17460</td>\n",
       "      <td>Mass Effect</td>\n",
       "      <td>26.883333</td>\n",
       "      <td>0</td>\n",
       "      <td>101-500</td>\n",
       "    </tr>\n",
       "    <tr>\n",
       "      <th>46</th>\n",
       "      <td>76561197970982479</td>\n",
       "      <td>277</td>\n",
       "      <td>76561197970982479</td>\n",
       "      <td>http://steamcommunity.com/profiles/76561197970...</td>\n",
       "      <td>1250</td>\n",
       "      <td>Killing Floor</td>\n",
       "      <td>166.766667</td>\n",
       "      <td>0</td>\n",
       "      <td>101-500</td>\n",
       "    </tr>\n",
       "    <tr>\n",
       "      <th>...</th>\n",
       "      <td>...</td>\n",
       "      <td>...</td>\n",
       "      <td>...</td>\n",
       "      <td>...</td>\n",
       "      <td>...</td>\n",
       "      <td>...</td>\n",
       "      <td>...</td>\n",
       "      <td>...</td>\n",
       "      <td>...</td>\n",
       "    </tr>\n",
       "    <tr>\n",
       "      <th>5093534</th>\n",
       "      <td>76561198312638244</td>\n",
       "      <td>36</td>\n",
       "      <td>76561198312638244</td>\n",
       "      <td>http://steamcommunity.com/profiles/76561198312...</td>\n",
       "      <td>362890</td>\n",
       "      <td>Black Mesa</td>\n",
       "      <td>36.400000</td>\n",
       "      <td>0</td>\n",
       "      <td>0-100</td>\n",
       "    </tr>\n",
       "    <tr>\n",
       "      <th>5093547</th>\n",
       "      <td>76561198313357718</td>\n",
       "      <td>7</td>\n",
       "      <td>76561198313357718</td>\n",
       "      <td>http://steamcommunity.com/profiles/76561198313...</td>\n",
       "      <td>730</td>\n",
       "      <td>Counter-Strike: Global Offensive</td>\n",
       "      <td>38.616667</td>\n",
       "      <td>0</td>\n",
       "      <td>0-100</td>\n",
       "    </tr>\n",
       "    <tr>\n",
       "      <th>5093548</th>\n",
       "      <td>POMFP0MF</td>\n",
       "      <td>1</td>\n",
       "      <td>76561198313471778</td>\n",
       "      <td>http://steamcommunity.com/id/POMFP0MF</td>\n",
       "      <td>730</td>\n",
       "      <td>Counter-Strike: Global Offensive</td>\n",
       "      <td>49.783333</td>\n",
       "      <td>0</td>\n",
       "      <td>0-100</td>\n",
       "    </tr>\n",
       "    <tr>\n",
       "      <th>5093567</th>\n",
       "      <td>76561198319916652</td>\n",
       "      <td>4</td>\n",
       "      <td>76561198319916652</td>\n",
       "      <td>http://steamcommunity.com/profiles/76561198319...</td>\n",
       "      <td>370240</td>\n",
       "      <td>NBA 2K16</td>\n",
       "      <td>25.550000</td>\n",
       "      <td>19</td>\n",
       "      <td>0-100</td>\n",
       "    </tr>\n",
       "    <tr>\n",
       "      <th>5093896</th>\n",
       "      <td>ArkPlays7</td>\n",
       "      <td>4</td>\n",
       "      <td>76561198321542621</td>\n",
       "      <td>http://steamcommunity.com/id/ArkPlays7</td>\n",
       "      <td>730</td>\n",
       "      <td>Counter-Strike: Global Offensive</td>\n",
       "      <td>75.950000</td>\n",
       "      <td>1698</td>\n",
       "      <td>0-100</td>\n",
       "    </tr>\n",
       "  </tbody>\n",
       "</table>\n",
       "<p>550419 rows × 9 columns</p>\n",
       "</div>"
      ],
      "text/plain": [
       "                   user_id  items_count           steam_id  \\\n",
       "8        76561197970982479          277  76561197970982479   \n",
       "9        76561197970982479          277  76561197970982479   \n",
       "16       76561197970982479          277  76561197970982479   \n",
       "41       76561197970982479          277  76561197970982479   \n",
       "46       76561197970982479          277  76561197970982479   \n",
       "...                    ...          ...                ...   \n",
       "5093534  76561198312638244           36  76561198312638244   \n",
       "5093547  76561198313357718            7  76561198313357718   \n",
       "5093548           POMFP0MF            1  76561198313471778   \n",
       "5093567  76561198319916652            4  76561198319916652   \n",
       "5093896          ArkPlays7            4  76561198321542621   \n",
       "\n",
       "                                                  user_url  item_id  \\\n",
       "8        http://steamcommunity.com/profiles/76561197970...      300   \n",
       "9        http://steamcommunity.com/profiles/76561197970...      240   \n",
       "16       http://steamcommunity.com/profiles/76561197970...     6910   \n",
       "41       http://steamcommunity.com/profiles/76561197970...    17460   \n",
       "46       http://steamcommunity.com/profiles/76561197970...     1250   \n",
       "...                                                    ...      ...   \n",
       "5093534  http://steamcommunity.com/profiles/76561198312...   362890   \n",
       "5093547  http://steamcommunity.com/profiles/76561198313...      730   \n",
       "5093548              http://steamcommunity.com/id/POMFP0MF      730   \n",
       "5093567  http://steamcommunity.com/profiles/76561198319...   370240   \n",
       "5093896             http://steamcommunity.com/id/ArkPlays7      730   \n",
       "\n",
       "                                 item_name  playtime_forever  playtime_2weeks  \\\n",
       "8                    Day of Defeat: Source         78.883333                0   \n",
       "9                   Counter-Strike: Source         30.883333                0   \n",
       "16       Deus Ex: Game of the Year Edition         44.750000                0   \n",
       "41                             Mass Effect         26.883333                0   \n",
       "46                           Killing Floor        166.766667                0   \n",
       "...                                    ...               ...              ...   \n",
       "5093534                         Black Mesa         36.400000                0   \n",
       "5093547   Counter-Strike: Global Offensive         38.616667                0   \n",
       "5093548   Counter-Strike: Global Offensive         49.783333                0   \n",
       "5093567                           NBA 2K16         25.550000               19   \n",
       "5093896   Counter-Strike: Global Offensive         75.950000             1698   \n",
       "\n",
       "        consumption_range  \n",
       "8                 101-500  \n",
       "9                 101-500  \n",
       "16                101-500  \n",
       "41                101-500  \n",
       "46                101-500  \n",
       "...                   ...  \n",
       "5093534             0-100  \n",
       "5093547             0-100  \n",
       "5093548             0-100  \n",
       "5093567             0-100  \n",
       "5093896             0-100  \n",
       "\n",
       "[550419 rows x 9 columns]"
      ]
     },
     "execution_count": 69,
     "metadata": {},
     "output_type": "execute_result"
    }
   ],
   "source": [
    "valores_atipicos "
   ]
  },
  {
   "cell_type": "code",
   "execution_count": 70,
   "id": "ab941357",
   "metadata": {},
   "outputs": [
    {
     "name": "stdout",
     "output_type": "stream",
     "text": [
      "Rango del primer cuartil (Q1): 0.0\n",
      "Rango del tercer cuartil (Q3): 5.916666666666667\n",
      "Rango intercuartil (IQR): 5.916666666666667\n"
     ]
    }
   ],
   "source": [
    "# rangos\n",
    "print(\"Rango del primer cuartil (Q1):\", Q1)\n",
    "print(\"Rango del tercer cuartil (Q3):\", Q3)\n",
    "print(\"Rango intercuartil (IQR):\", IQR)"
   ]
  },
  {
   "cell_type": "markdown",
   "id": "f48e0c62",
   "metadata": {},
   "source": [
    "Aunque identificamos jugadores con una alta acumulación de horas jugadas, es fundamental tener en cuenta que estas cifras representan la totalidad del tiempo de juego a lo largo de la vida de los usuarios, lo que podría explicar las diferencias significativas. Sin embargo, con el fin de profundizar en la evaluación de nuestras cifras y detectar posibles anomalías, hemos aplicado el método IQR (Rango Intercuartil). Este enfoque nos permitió identificar valores que se desvían de la norma en función de un umbral de 3 veces el IQR. Aunque no hemos encontrado inconsistencias evidentes en los datos, continuamos nuestra exploración de posibles valores atípicos utilizando el método del Z-score definiendo un umbral aun mas alto. Al comparar nuestros hallazgos con datos de usuarios de videojuegos disponibles en internet, buscamos determinar si existen datos significativamente alejados de la realidad que requieran una mayor atención y análisis."
   ]
  },
  {
   "cell_type": "code",
   "execution_count": 71,
   "id": "b364e20d",
   "metadata": {},
   "outputs": [],
   "source": [
    "from scipy import stats\n",
    "\n",
    "# Calcula el Z-score para cada valor\n",
    "z_scores = np.abs(stats.zscore(data_items['playtime_forever']))\n",
    "\n",
    "# Define un umbral de Z-score más alto \n",
    "umbral_z = 5\n",
    "\n",
    "# Encuentra los valores atípicos\n",
    "valores_atipicos_zscore = data_items[z_scores > umbral_z]"
   ]
  },
  {
   "cell_type": "code",
   "execution_count": 72,
   "id": "fb5a1f24",
   "metadata": {},
   "outputs": [
    {
     "data": {
      "text/html": [
       "<div>\n",
       "<style scoped>\n",
       "    .dataframe tbody tr th:only-of-type {\n",
       "        vertical-align: middle;\n",
       "    }\n",
       "\n",
       "    .dataframe tbody tr th {\n",
       "        vertical-align: top;\n",
       "    }\n",
       "\n",
       "    .dataframe thead th {\n",
       "        text-align: right;\n",
       "    }\n",
       "</style>\n",
       "<table border=\"1\" class=\"dataframe\">\n",
       "  <thead>\n",
       "    <tr style=\"text-align: right;\">\n",
       "      <th></th>\n",
       "      <th>user_id</th>\n",
       "      <th>items_count</th>\n",
       "      <th>steam_id</th>\n",
       "      <th>user_url</th>\n",
       "      <th>item_id</th>\n",
       "      <th>item_name</th>\n",
       "      <th>playtime_forever</th>\n",
       "      <th>playtime_2weeks</th>\n",
       "      <th>consumption_range</th>\n",
       "    </tr>\n",
       "  </thead>\n",
       "  <tbody>\n",
       "    <tr>\n",
       "      <th>1301</th>\n",
       "      <td>evcentric</td>\n",
       "      <td>137</td>\n",
       "      <td>76561198007712555</td>\n",
       "      <td>http://steamcommunity.com/id/evcentric</td>\n",
       "      <td>466170</td>\n",
       "      <td>Idling to Rule the Gods</td>\n",
       "      <td>475.750000</td>\n",
       "      <td>1554</td>\n",
       "      <td>101-500</td>\n",
       "    </tr>\n",
       "    <tr>\n",
       "      <th>1354</th>\n",
       "      <td>Riot-Punch</td>\n",
       "      <td>328</td>\n",
       "      <td>76561197963445855</td>\n",
       "      <td>http://steamcommunity.com/id/Riot-Punch</td>\n",
       "      <td>12210</td>\n",
       "      <td>Grand Theft Auto IV</td>\n",
       "      <td>867.700000</td>\n",
       "      <td>0</td>\n",
       "      <td>101-500</td>\n",
       "    </tr>\n",
       "    <tr>\n",
       "      <th>2277</th>\n",
       "      <td>MinxIsBetterThanPotatoes</td>\n",
       "      <td>371</td>\n",
       "      <td>76561198004744620</td>\n",
       "      <td>http://steamcommunity.com/id/MinxIsBetterThanP...</td>\n",
       "      <td>730</td>\n",
       "      <td>Counter-Strike: Global Offensive</td>\n",
       "      <td>1234.600000</td>\n",
       "      <td>118</td>\n",
       "      <td>101-500</td>\n",
       "    </tr>\n",
       "    <tr>\n",
       "      <th>2696</th>\n",
       "      <td>NitemarePK</td>\n",
       "      <td>304</td>\n",
       "      <td>76561197990951820</td>\n",
       "      <td>http://steamcommunity.com/id/NitemarePK</td>\n",
       "      <td>730</td>\n",
       "      <td>Counter-Strike: Global Offensive</td>\n",
       "      <td>539.533333</td>\n",
       "      <td>95</td>\n",
       "      <td>101-500</td>\n",
       "    </tr>\n",
       "    <tr>\n",
       "      <th>2823</th>\n",
       "      <td>NitemarePK</td>\n",
       "      <td>304</td>\n",
       "      <td>76561197990951820</td>\n",
       "      <td>http://steamcommunity.com/id/NitemarePK</td>\n",
       "      <td>346900</td>\n",
       "      <td>AdVenture Capitalist</td>\n",
       "      <td>750.966667</td>\n",
       "      <td>0</td>\n",
       "      <td>101-500</td>\n",
       "    </tr>\n",
       "    <tr>\n",
       "      <th>...</th>\n",
       "      <td>...</td>\n",
       "      <td>...</td>\n",
       "      <td>...</td>\n",
       "      <td>...</td>\n",
       "      <td>...</td>\n",
       "      <td>...</td>\n",
       "      <td>...</td>\n",
       "      <td>...</td>\n",
       "      <td>...</td>\n",
       "    </tr>\n",
       "    <tr>\n",
       "      <th>5090676</th>\n",
       "      <td>SenpaiDemon</td>\n",
       "      <td>291</td>\n",
       "      <td>76561198261557855</td>\n",
       "      <td>http://steamcommunity.com/id/SenpaiDemon</td>\n",
       "      <td>730</td>\n",
       "      <td>Counter-Strike: Global Offensive</td>\n",
       "      <td>613.633333</td>\n",
       "      <td>949</td>\n",
       "      <td>101-500</td>\n",
       "    </tr>\n",
       "    <tr>\n",
       "      <th>5090934</th>\n",
       "      <td>3214213216</td>\n",
       "      <td>107</td>\n",
       "      <td>76561198264329809</td>\n",
       "      <td>http://steamcommunity.com/id/3214213216</td>\n",
       "      <td>730</td>\n",
       "      <td>Counter-Strike: Global Offensive</td>\n",
       "      <td>770.800000</td>\n",
       "      <td>0</td>\n",
       "      <td>101-500</td>\n",
       "    </tr>\n",
       "    <tr>\n",
       "      <th>5091127</th>\n",
       "      <td>nathanahtan</td>\n",
       "      <td>2</td>\n",
       "      <td>76561198269064541</td>\n",
       "      <td>http://steamcommunity.com/id/nathanahtan</td>\n",
       "      <td>304930</td>\n",
       "      <td>Unturned</td>\n",
       "      <td>472.983333</td>\n",
       "      <td>1297</td>\n",
       "      <td>0-100</td>\n",
       "    </tr>\n",
       "    <tr>\n",
       "      <th>5091465</th>\n",
       "      <td>Haldirr</td>\n",
       "      <td>26</td>\n",
       "      <td>76561198279480860</td>\n",
       "      <td>http://steamcommunity.com/id/Haldirr</td>\n",
       "      <td>730</td>\n",
       "      <td>Counter-Strike: Global Offensive</td>\n",
       "      <td>579.216667</td>\n",
       "      <td>0</td>\n",
       "      <td>0-100</td>\n",
       "    </tr>\n",
       "    <tr>\n",
       "      <th>5091864</th>\n",
       "      <td>sexyawp</td>\n",
       "      <td>9</td>\n",
       "      <td>76561198293486792</td>\n",
       "      <td>http://steamcommunity.com/id/sexyawp</td>\n",
       "      <td>730</td>\n",
       "      <td>Counter-Strike: Global Offensive</td>\n",
       "      <td>496.483333</td>\n",
       "      <td>0</td>\n",
       "      <td>0-100</td>\n",
       "    </tr>\n",
       "  </tbody>\n",
       "</table>\n",
       "<p>28862 rows × 9 columns</p>\n",
       "</div>"
      ],
      "text/plain": [
       "                          user_id  items_count           steam_id  \\\n",
       "1301                    evcentric          137  76561198007712555   \n",
       "1354                   Riot-Punch          328  76561197963445855   \n",
       "2277     MinxIsBetterThanPotatoes          371  76561198004744620   \n",
       "2696                   NitemarePK          304  76561197990951820   \n",
       "2823                   NitemarePK          304  76561197990951820   \n",
       "...                           ...          ...                ...   \n",
       "5090676               SenpaiDemon          291  76561198261557855   \n",
       "5090934                3214213216          107  76561198264329809   \n",
       "5091127               nathanahtan            2  76561198269064541   \n",
       "5091465                   Haldirr           26  76561198279480860   \n",
       "5091864                   sexyawp            9  76561198293486792   \n",
       "\n",
       "                                                  user_url  item_id  \\\n",
       "1301                http://steamcommunity.com/id/evcentric   466170   \n",
       "1354               http://steamcommunity.com/id/Riot-Punch    12210   \n",
       "2277     http://steamcommunity.com/id/MinxIsBetterThanP...      730   \n",
       "2696               http://steamcommunity.com/id/NitemarePK      730   \n",
       "2823               http://steamcommunity.com/id/NitemarePK   346900   \n",
       "...                                                    ...      ...   \n",
       "5090676           http://steamcommunity.com/id/SenpaiDemon      730   \n",
       "5090934            http://steamcommunity.com/id/3214213216      730   \n",
       "5091127           http://steamcommunity.com/id/nathanahtan   304930   \n",
       "5091465               http://steamcommunity.com/id/Haldirr      730   \n",
       "5091864               http://steamcommunity.com/id/sexyawp      730   \n",
       "\n",
       "                                item_name  playtime_forever  playtime_2weeks  \\\n",
       "1301              Idling to Rule the Gods        475.750000             1554   \n",
       "1354                  Grand Theft Auto IV        867.700000                0   \n",
       "2277     Counter-Strike: Global Offensive       1234.600000              118   \n",
       "2696     Counter-Strike: Global Offensive        539.533333               95   \n",
       "2823                 AdVenture Capitalist        750.966667                0   \n",
       "...                                   ...               ...              ...   \n",
       "5090676  Counter-Strike: Global Offensive        613.633333              949   \n",
       "5090934  Counter-Strike: Global Offensive        770.800000                0   \n",
       "5091127                          Unturned        472.983333             1297   \n",
       "5091465  Counter-Strike: Global Offensive        579.216667                0   \n",
       "5091864  Counter-Strike: Global Offensive        496.483333                0   \n",
       "\n",
       "        consumption_range  \n",
       "1301              101-500  \n",
       "1354              101-500  \n",
       "2277              101-500  \n",
       "2696              101-500  \n",
       "2823              101-500  \n",
       "...                   ...  \n",
       "5090676           101-500  \n",
       "5090934           101-500  \n",
       "5091127             0-100  \n",
       "5091465             0-100  \n",
       "5091864             0-100  \n",
       "\n",
       "[28862 rows x 9 columns]"
      ]
     },
     "execution_count": 72,
     "metadata": {},
     "output_type": "execute_result"
    }
   ],
   "source": [
    "valores_atipicos_zscore"
   ]
  },
  {
   "cell_type": "markdown",
   "id": "7988cef3",
   "metadata": {},
   "source": [
    "Después de realizar un análisis exhaustivo de los datos, seguimos sin identificar valores atípicos significativos en la variable 'playtime_forever'. Además, al utilizar tanto el método IQR como el método Z-score para buscar valores atípicos, encontramos que no tenemos suficiente información para justificar la eliminación de posibles outliers, ya que su diferencia con otros valores no necesariamente los convierte en datos de baja calidad. En lugar de eliminarlos, consideramos que estos valores pueden ser valiosos y aportar diversidad a nuestros datos. Siguiendo con nuestro análisis, estamos avanzando hacia la fusión de datos a través de la operación 'merge', utilizando los años de 'data_reviews' y el genero de 'data_games'. Esto nos permitirá calcular la suma total de las horas jugadas, con el objetivo de obtener una visión más completa de la actividad de los usuarios a lo largo del tiempo."
   ]
  },
  {
   "cell_type": "code",
   "execution_count": 73,
   "id": "73c84645",
   "metadata": {},
   "outputs": [],
   "source": [
    "# Extraer las columnas de data_reviews\n",
    "data_reviews_subset = data_reviews[['reviews_item_id','user_id','reviews_year']]\n",
    "data_reviews_subset = data_reviews_subset.rename(columns={'reviews_item_id': 'item_id'})\n",
    "\n",
    "\n",
    "# Extrae las columnas necesarias de data_items\n",
    "data_items_subset = data_items[['user_id', 'item_id', 'playtime_forever']]"
   ]
  },
  {
   "cell_type": "code",
   "execution_count": 74,
   "id": "ec5116c0",
   "metadata": {},
   "outputs": [],
   "source": [
    "# Unir data_items_subset y data_reviews_subset utilizando 'user_id', 'item_id' y 'reviews_item_id' como claves\n",
    "merged_data = data_items_subset.merge(data_reviews_subset, on=[\"user_id\", \"item_id\"], how=\"inner\")"
   ]
  },
  {
   "cell_type": "code",
   "execution_count": 75,
   "id": "3db34527",
   "metadata": {},
   "outputs": [
    {
     "data": {
      "text/html": [
       "<div>\n",
       "<style scoped>\n",
       "    .dataframe tbody tr th:only-of-type {\n",
       "        vertical-align: middle;\n",
       "    }\n",
       "\n",
       "    .dataframe tbody tr th {\n",
       "        vertical-align: top;\n",
       "    }\n",
       "\n",
       "    .dataframe thead th {\n",
       "        text-align: right;\n",
       "    }\n",
       "</style>\n",
       "<table border=\"1\" class=\"dataframe\">\n",
       "  <thead>\n",
       "    <tr style=\"text-align: right;\">\n",
       "      <th></th>\n",
       "      <th>user_id</th>\n",
       "      <th>item_id</th>\n",
       "      <th>playtime_forever</th>\n",
       "      <th>reviews_year</th>\n",
       "    </tr>\n",
       "  </thead>\n",
       "  <tbody>\n",
       "    <tr>\n",
       "      <th>0</th>\n",
       "      <td>76561197970982479</td>\n",
       "      <td>22200</td>\n",
       "      <td>4.516667</td>\n",
       "      <td>2011</td>\n",
       "    </tr>\n",
       "    <tr>\n",
       "      <th>1</th>\n",
       "      <td>76561197970982479</td>\n",
       "      <td>1250</td>\n",
       "      <td>166.766667</td>\n",
       "      <td>2011</td>\n",
       "    </tr>\n",
       "    <tr>\n",
       "      <th>2</th>\n",
       "      <td>76561197970982479</td>\n",
       "      <td>43110</td>\n",
       "      <td>13.900000</td>\n",
       "      <td>2011</td>\n",
       "    </tr>\n",
       "    <tr>\n",
       "      <th>3</th>\n",
       "      <td>js41637</td>\n",
       "      <td>227300</td>\n",
       "      <td>9.183333</td>\n",
       "      <td>2013</td>\n",
       "    </tr>\n",
       "    <tr>\n",
       "      <th>4</th>\n",
       "      <td>js41637</td>\n",
       "      <td>239030</td>\n",
       "      <td>5.816667</td>\n",
       "      <td>2013</td>\n",
       "    </tr>\n",
       "  </tbody>\n",
       "</table>\n",
       "</div>"
      ],
      "text/plain": [
       "             user_id  item_id  playtime_forever  reviews_year\n",
       "0  76561197970982479    22200          4.516667          2011\n",
       "1  76561197970982479     1250        166.766667          2011\n",
       "2  76561197970982479    43110         13.900000          2011\n",
       "3            js41637   227300          9.183333          2013\n",
       "4            js41637   239030          5.816667          2013"
      ]
     },
     "execution_count": 75,
     "metadata": {},
     "output_type": "execute_result"
    }
   ],
   "source": [
    "merged_data.head()"
   ]
  },
  {
   "cell_type": "markdown",
   "id": "379fc207",
   "metadata": {},
   "source": [
    "Agruparemos nuestros datos fusionados utilizando la operación 'merge' por usuario y año. Posteriormente, sumaremos las horas jugadas por usuario para obtener una visión más completa de la actividad a lo largo del tiempo. Finalmente, ordenaremos los datos de mayor a menor con el objetivo de identificar a los usuarios más activos en función de las horas jugadas en cada año o detectar cualquier valor que exceda los límites típicos de horas de juego por año."
   ]
  },
  {
   "cell_type": "code",
   "execution_count": 76,
   "id": "55598a2e",
   "metadata": {},
   "outputs": [],
   "source": [
    "# Agrupar por usuario (user_id) y año (reviews_year), sumar las horas jugadas\n",
    "aggregated_data = merged_data.groupby(['user_id', 'reviews_year'])['playtime_forever'].sum().reset_index()\n",
    "\n",
    "# Ordenar de mayor a menor por horas jugadas\n",
    "sorted_data = aggregated_data.sort_values(by='playtime_forever', ascending=False)\n"
   ]
  },
  {
   "cell_type": "code",
   "execution_count": 77,
   "id": "c155f823",
   "metadata": {},
   "outputs": [
    {
     "data": {
      "text/html": [
       "<div>\n",
       "<style scoped>\n",
       "    .dataframe tbody tr th:only-of-type {\n",
       "        vertical-align: middle;\n",
       "    }\n",
       "\n",
       "    .dataframe tbody tr th {\n",
       "        vertical-align: top;\n",
       "    }\n",
       "\n",
       "    .dataframe thead th {\n",
       "        text-align: right;\n",
       "    }\n",
       "</style>\n",
       "<table border=\"1\" class=\"dataframe\">\n",
       "  <thead>\n",
       "    <tr style=\"text-align: right;\">\n",
       "      <th></th>\n",
       "      <th>user_id</th>\n",
       "      <th>reviews_year</th>\n",
       "      <th>playtime_forever</th>\n",
       "    </tr>\n",
       "  </thead>\n",
       "  <tbody>\n",
       "    <tr>\n",
       "      <th>21663</th>\n",
       "      <td>shinomegami</td>\n",
       "      <td>2015</td>\n",
       "      <td>11243.716667</td>\n",
       "    </tr>\n",
       "    <tr>\n",
       "      <th>22963</th>\n",
       "      <td>wolop</td>\n",
       "      <td>2011</td>\n",
       "      <td>10712.883333</td>\n",
       "    </tr>\n",
       "    <tr>\n",
       "      <th>2117</th>\n",
       "      <td>76561198039832932</td>\n",
       "      <td>2015</td>\n",
       "      <td>10563.433333</td>\n",
       "    </tr>\n",
       "    <tr>\n",
       "      <th>22621</th>\n",
       "      <td>tsunamitad</td>\n",
       "      <td>2015</td>\n",
       "      <td>10001.133333</td>\n",
       "    </tr>\n",
       "    <tr>\n",
       "      <th>15378</th>\n",
       "      <td>ThisIsWhereIGetOff</td>\n",
       "      <td>2014</td>\n",
       "      <td>8250.966667</td>\n",
       "    </tr>\n",
       "    <tr>\n",
       "      <th>...</th>\n",
       "      <td>...</td>\n",
       "      <td>...</td>\n",
       "      <td>...</td>\n",
       "    </tr>\n",
       "    <tr>\n",
       "      <th>1777</th>\n",
       "      <td>76561198032586095</td>\n",
       "      <td>2015</td>\n",
       "      <td>0.000000</td>\n",
       "    </tr>\n",
       "    <tr>\n",
       "      <th>13606</th>\n",
       "      <td>NotJustAnyOrange</td>\n",
       "      <td>2015</td>\n",
       "      <td>0.000000</td>\n",
       "    </tr>\n",
       "    <tr>\n",
       "      <th>1152</th>\n",
       "      <td>76561198013490617</td>\n",
       "      <td>2015</td>\n",
       "      <td>0.000000</td>\n",
       "    </tr>\n",
       "    <tr>\n",
       "      <th>17705</th>\n",
       "      <td>dugec01</td>\n",
       "      <td>2011</td>\n",
       "      <td>0.000000</td>\n",
       "    </tr>\n",
       "    <tr>\n",
       "      <th>22260</th>\n",
       "      <td>the_mad_doctor123</td>\n",
       "      <td>2015</td>\n",
       "      <td>0.000000</td>\n",
       "    </tr>\n",
       "  </tbody>\n",
       "</table>\n",
       "<p>23261 rows × 3 columns</p>\n",
       "</div>"
      ],
      "text/plain": [
       "                  user_id  reviews_year  playtime_forever\n",
       "21663         shinomegami          2015      11243.716667\n",
       "22963               wolop          2011      10712.883333\n",
       "2117    76561198039832932          2015      10563.433333\n",
       "22621          tsunamitad          2015      10001.133333\n",
       "15378  ThisIsWhereIGetOff          2014       8250.966667\n",
       "...                   ...           ...               ...\n",
       "1777    76561198032586095          2015          0.000000\n",
       "13606    NotJustAnyOrange          2015          0.000000\n",
       "1152    76561198013490617          2015          0.000000\n",
       "17705             dugec01          2011          0.000000\n",
       "22260   the_mad_doctor123          2015          0.000000\n",
       "\n",
       "[23261 rows x 3 columns]"
      ]
     },
     "execution_count": 77,
     "metadata": {},
     "output_type": "execute_result"
    }
   ],
   "source": [
    "sorted_data"
   ]
  },
  {
   "cell_type": "markdown",
   "id": "90be667c",
   "metadata": {},
   "source": [
    "hemos identificado un registro que muestra una acumulación de horas de juego que supera las 8760 horas en un año, lo cual es un valor que excede ampliamente el rango de posibilidad real. Con el objetivo de mantener la integridad de nuestros datos y garantizar que las observaciones se mantengan dentro de límites realistas, hemos tomado la decisión de eliminar este registro excepcional. Esta acción nos permitirá centrarnos en datos más coherentes y representativos de la actividad de los usuarios, asegurando que nuestra análisis se base en información sólida y relevante."
   ]
  },
  {
   "cell_type": "code",
   "execution_count": 78,
   "id": "d9956529",
   "metadata": {},
   "outputs": [],
   "source": [
    "# Eliminar filas donde 'playtime_forever' es mayor a 8760\n",
    "sorted_data = sorted_data[sorted_data['playtime_forever'] <= 8760]"
   ]
  },
  {
   "cell_type": "code",
   "execution_count": 79,
   "id": "c96019a2",
   "metadata": {},
   "outputs": [
    {
     "data": {
      "text/html": [
       "<div>\n",
       "<style scoped>\n",
       "    .dataframe tbody tr th:only-of-type {\n",
       "        vertical-align: middle;\n",
       "    }\n",
       "\n",
       "    .dataframe tbody tr th {\n",
       "        vertical-align: top;\n",
       "    }\n",
       "\n",
       "    .dataframe thead th {\n",
       "        text-align: right;\n",
       "    }\n",
       "</style>\n",
       "<table border=\"1\" class=\"dataframe\">\n",
       "  <thead>\n",
       "    <tr style=\"text-align: right;\">\n",
       "      <th></th>\n",
       "      <th>user_id</th>\n",
       "      <th>reviews_year</th>\n",
       "      <th>playtime_forever</th>\n",
       "    </tr>\n",
       "  </thead>\n",
       "  <tbody>\n",
       "    <tr>\n",
       "      <th>15378</th>\n",
       "      <td>ThisIsWhereIGetOff</td>\n",
       "      <td>2014</td>\n",
       "      <td>8250.966667</td>\n",
       "    </tr>\n",
       "    <tr>\n",
       "      <th>13621</th>\n",
       "      <td>Nuclueus</td>\n",
       "      <td>2014</td>\n",
       "      <td>8216.850000</td>\n",
       "    </tr>\n",
       "    <tr>\n",
       "      <th>22432</th>\n",
       "      <td>thiefofrosesinlalaland</td>\n",
       "      <td>2014</td>\n",
       "      <td>7107.583333</td>\n",
       "    </tr>\n",
       "  </tbody>\n",
       "</table>\n",
       "</div>"
      ],
      "text/plain": [
       "                      user_id  reviews_year  playtime_forever\n",
       "15378      ThisIsWhereIGetOff          2014       8250.966667\n",
       "13621                Nuclueus          2014       8216.850000\n",
       "22432  thiefofrosesinlalaland          2014       7107.583333"
      ]
     },
     "execution_count": 79,
     "metadata": {},
     "output_type": "execute_result"
    }
   ],
   "source": [
    "sorted_data.head(3)"
   ]
  },
  {
   "cell_type": "markdown",
   "id": "08759aea",
   "metadata": {},
   "source": [
    "# Selección de Variables Clave para el Modelo de Recomendación\n",
    "\n",
    "En la etapa de preparación para la creación de un modelo de recomendación que genere una lista de 5 juegos, se exploran dos enfoques diferentes: el primero se basa en un juego de referencia, y el segundo utiliza el identificador de un usuario. Un aspecto crítico en este proceso es definir la metodología para calcular el puntaje que servirá como guía en estas recomendaciones. Para abordar esta tarea fundamental, realizaremos un análisis detallado de los conjuntos de datos previamente examinados, data_reviews y data_items."
   ]
  },
  {
   "cell_type": "code",
   "execution_count": 80,
   "id": "7a5417f3",
   "metadata": {},
   "outputs": [
    {
     "data": {
      "text/html": [
       "<div>\n",
       "<style scoped>\n",
       "    .dataframe tbody tr th:only-of-type {\n",
       "        vertical-align: middle;\n",
       "    }\n",
       "\n",
       "    .dataframe tbody tr th {\n",
       "        vertical-align: top;\n",
       "    }\n",
       "\n",
       "    .dataframe thead th {\n",
       "        text-align: right;\n",
       "    }\n",
       "</style>\n",
       "<table border=\"1\" class=\"dataframe\">\n",
       "  <thead>\n",
       "    <tr style=\"text-align: right;\">\n",
       "      <th></th>\n",
       "      <th>user_id</th>\n",
       "      <th>user_url</th>\n",
       "      <th>reviews_posted</th>\n",
       "      <th>reviews_item_id</th>\n",
       "      <th>reviews_helpful</th>\n",
       "      <th>reviews_recommend</th>\n",
       "      <th>reviews_year</th>\n",
       "      <th>sentiment_analysis</th>\n",
       "    </tr>\n",
       "  </thead>\n",
       "  <tbody>\n",
       "    <tr>\n",
       "      <th>0</th>\n",
       "      <td>76561197970982479</td>\n",
       "      <td>http://steamcommunity.com/profiles/76561197970...</td>\n",
       "      <td>2011-11-05</td>\n",
       "      <td>1250</td>\n",
       "      <td>No ratings yet</td>\n",
       "      <td>True</td>\n",
       "      <td>2011</td>\n",
       "      <td>2</td>\n",
       "    </tr>\n",
       "    <tr>\n",
       "      <th>1</th>\n",
       "      <td>js41637</td>\n",
       "      <td>http://steamcommunity.com/id/js41637</td>\n",
       "      <td>2014-06-24</td>\n",
       "      <td>251610</td>\n",
       "      <td>15 of 20 people (75%) found this review helpful</td>\n",
       "      <td>True</td>\n",
       "      <td>2014</td>\n",
       "      <td>2</td>\n",
       "    </tr>\n",
       "    <tr>\n",
       "      <th>3</th>\n",
       "      <td>doctr</td>\n",
       "      <td>http://steamcommunity.com/id/doctr</td>\n",
       "      <td>2013-10-14</td>\n",
       "      <td>250320</td>\n",
       "      <td>2 of 2 people (100%) found this review helpful</td>\n",
       "      <td>True</td>\n",
       "      <td>2013</td>\n",
       "      <td>2</td>\n",
       "    </tr>\n",
       "  </tbody>\n",
       "</table>\n",
       "</div>"
      ],
      "text/plain": [
       "             user_id                                           user_url  \\\n",
       "0  76561197970982479  http://steamcommunity.com/profiles/76561197970...   \n",
       "1            js41637               http://steamcommunity.com/id/js41637   \n",
       "3              doctr                 http://steamcommunity.com/id/doctr   \n",
       "\n",
       "  reviews_posted  reviews_item_id  \\\n",
       "0     2011-11-05             1250   \n",
       "1     2014-06-24           251610   \n",
       "3     2013-10-14           250320   \n",
       "\n",
       "                                   reviews_helpful  reviews_recommend  \\\n",
       "0                                   No ratings yet               True   \n",
       "1  15 of 20 people (75%) found this review helpful               True   \n",
       "3   2 of 2 people (100%) found this review helpful               True   \n",
       "\n",
       "   reviews_year  sentiment_analysis  \n",
       "0          2011                   2  \n",
       "1          2014                   2  \n",
       "3          2013                   2  "
      ]
     },
     "execution_count": 80,
     "metadata": {},
     "output_type": "execute_result"
    }
   ],
   "source": [
    "data_reviews.head(3)"
   ]
  },
  {
   "cell_type": "code",
   "execution_count": 81,
   "id": "e956d1fa",
   "metadata": {},
   "outputs": [
    {
     "data": {
      "text/html": [
       "<div>\n",
       "<style scoped>\n",
       "    .dataframe tbody tr th:only-of-type {\n",
       "        vertical-align: middle;\n",
       "    }\n",
       "\n",
       "    .dataframe tbody tr th {\n",
       "        vertical-align: top;\n",
       "    }\n",
       "\n",
       "    .dataframe thead th {\n",
       "        text-align: right;\n",
       "    }\n",
       "</style>\n",
       "<table border=\"1\" class=\"dataframe\">\n",
       "  <thead>\n",
       "    <tr style=\"text-align: right;\">\n",
       "      <th></th>\n",
       "      <th>user_id</th>\n",
       "      <th>items_count</th>\n",
       "      <th>steam_id</th>\n",
       "      <th>user_url</th>\n",
       "      <th>item_id</th>\n",
       "      <th>item_name</th>\n",
       "      <th>playtime_forever</th>\n",
       "      <th>playtime_2weeks</th>\n",
       "      <th>consumption_range</th>\n",
       "    </tr>\n",
       "  </thead>\n",
       "  <tbody>\n",
       "    <tr>\n",
       "      <th>0</th>\n",
       "      <td>76561197970982479</td>\n",
       "      <td>277</td>\n",
       "      <td>76561197970982479</td>\n",
       "      <td>http://steamcommunity.com/profiles/76561197970...</td>\n",
       "      <td>10</td>\n",
       "      <td>Counter-Strike</td>\n",
       "      <td>0.100000</td>\n",
       "      <td>0</td>\n",
       "      <td>101-500</td>\n",
       "    </tr>\n",
       "    <tr>\n",
       "      <th>1</th>\n",
       "      <td>76561197970982479</td>\n",
       "      <td>277</td>\n",
       "      <td>76561197970982479</td>\n",
       "      <td>http://steamcommunity.com/profiles/76561197970...</td>\n",
       "      <td>20</td>\n",
       "      <td>Team Fortress Classic</td>\n",
       "      <td>0.000000</td>\n",
       "      <td>0</td>\n",
       "      <td>101-500</td>\n",
       "    </tr>\n",
       "    <tr>\n",
       "      <th>2</th>\n",
       "      <td>76561197970982479</td>\n",
       "      <td>277</td>\n",
       "      <td>76561197970982479</td>\n",
       "      <td>http://steamcommunity.com/profiles/76561197970...</td>\n",
       "      <td>30</td>\n",
       "      <td>Day of Defeat</td>\n",
       "      <td>0.116667</td>\n",
       "      <td>0</td>\n",
       "      <td>101-500</td>\n",
       "    </tr>\n",
       "  </tbody>\n",
       "</table>\n",
       "</div>"
      ],
      "text/plain": [
       "             user_id  items_count           steam_id  \\\n",
       "0  76561197970982479          277  76561197970982479   \n",
       "1  76561197970982479          277  76561197970982479   \n",
       "2  76561197970982479          277  76561197970982479   \n",
       "\n",
       "                                            user_url  item_id  \\\n",
       "0  http://steamcommunity.com/profiles/76561197970...       10   \n",
       "1  http://steamcommunity.com/profiles/76561197970...       20   \n",
       "2  http://steamcommunity.com/profiles/76561197970...       30   \n",
       "\n",
       "               item_name  playtime_forever  playtime_2weeks consumption_range  \n",
       "0         Counter-Strike          0.100000                0           101-500  \n",
       "1  Team Fortress Classic          0.000000                0           101-500  \n",
       "2          Day of Defeat          0.116667                0           101-500  "
      ]
     },
     "execution_count": 81,
     "metadata": {},
     "output_type": "execute_result"
    }
   ],
   "source": [
    "data_items.head(3)"
   ]
  },
  {
   "cell_type": "markdown",
   "id": "58de84f7",
   "metadata": {},
   "source": [
    "En nuestro proyecto de desarrollo de un modelo de recomendación de juegos, hemos optado por utilizar un enfoque preciso para calcular un puntaje de recomendación. Este puntaje, que denominamos 'Recommendation', se sitúa en una escala del 1 al 5 y tiene en cuenta tanto el análisis de sentimiento de las reviews como las recomendaciones de los usuarios. Cada valor en esta escala refleja una combinación única de estos dos factores, lo que nos permite ofrecer recomendaciones más personalizadas y precisas a nuestros usuarios. En este proceso, asignamos un puntaje de 1 a los juegos con análisis de `sentimiento negativo`, independientemente de si son recomendados o no. Los juegos con análisis de `sentimiento neutral y no recomendados` obtienen un puntaje de 2, mientras que aquellos con análisis de `sentimiento neutral y recomendaciones positivas` reciben un puntaje de 3. Los juegos con análisis de `sentimiento positivo pero no recomendados` se califican con un 4, y finalmente, los juegos con análisis de `sentimiento positivo y recomendaciones positivas` alcanzan el puntaje máximo de 5. Este enfoque integral y detallado nos permite brindar recomendaciones de juegos que se adaptan a las preferencias y experiencias de cada usuario, enriqueciendo así su interacción con nuestra plataforma.\n",
    "\n",
    "La función que desarrollaremos desempeña un papel fundamental en nuestro sistema de recomendación de juegos. A través de un análisis de sentimientos y las recomendaciones de los usuarios, esta función asigna una calificación en una escala del 1 al 5 a cada juego. En pocas palabras, su tarea es transformar datos en recomendaciones personalizadas y precisas para nuestros usuarios, teniendo en cuenta tanto la calidad percibida de un juego según las reseñas como las preferencias de la comunidad."
   ]
  },
  {
   "cell_type": "code",
   "execution_count": 82,
   "id": "0954c6c3",
   "metadata": {},
   "outputs": [],
   "source": [
    "def recomendation(row):\n",
    "    '''\n",
    "    Calcula una calificación teniendo en cuenta el análisis de sentimientos de las reseñas de los juegos \n",
    "    y si los usuarios recomiendan o no dichos juegos.\n",
    "\n",
    "    Parámetros:\n",
    "    row (dict): Un diccionario que contiene las siguientes claves:\n",
    "       - \"sentiment_analysis\" (int):La valoración numérica del análisis de sentimientos (0, 1 o 2).\n",
    "       - \"reviews_recommend\" (bool): Un valor booleano que refleja si las reseñas recomiendan el juego o no.\n",
    "\n",
    "    Devuelve:\n",
    "       int o None: Un número entero entre 1 y 5 que representa la calificación calculada, \n",
    "       o None en caso de que las entradas no sean válidas.\n",
    "    '''\n",
    "    # Se inicia el proceso de asignación de calificaciones \n",
    "    if row[\"sentiment_analysis\"] == 0 and not row[\"reviews_recommend\"]:\n",
    "        return 1  # Calificación 1: Sentimiento negativo y no recomendado\n",
    "    elif row[\"sentiment_analysis\"] == 0 and row[\"reviews_recommend\"]:\n",
    "        return 1  # Calificación 1: Sentimiento negativo y recomendado (coherencia)\n",
    "    elif row[\"sentiment_analysis\"] == 1 and not row[\"reviews_recommend\"]:\n",
    "        return 2  # Calificación 2: Sentimiento neutral y no recomendado\n",
    "    elif row[\"sentiment_analysis\"] == 1 and row[\"reviews_recommend\"]:\n",
    "        return 3  # Calificación 3: Sentimiento neutral pero recomendado\n",
    "    elif row[\"sentiment_analysis\"] == 2 and not row[\"reviews_recommend\"]:\n",
    "        return 4  # Calificación 4: Sentimiento positivo pero no recomendado\n",
    "    elif row[\"sentiment_analysis\"] == 2 and row[\"reviews_recommend\"]:\n",
    "        return 5  # Calificación 5: Sentimiento positivo y recomendado\n",
    "    else:\n",
    "        return None  # Entradas inválidas, no se puede calcular una calificación\n"
   ]
  },
  {
   "cell_type": "markdown",
   "id": "7abdb8c8",
   "metadata": {},
   "source": [
    "Generamos una columna adicional en el DataFrame llamada \"recomendation\" y procedemos a aplicar la función \"Recomendation\" a los datos en dicha columna. "
   ]
  },
  {
   "cell_type": "code",
   "execution_count": 83,
   "id": "f5a10b50",
   "metadata": {},
   "outputs": [],
   "source": [
    "data_reviews['recommendation'] = data_reviews.apply(recomendation, axis=1)"
   ]
  },
  {
   "cell_type": "code",
   "execution_count": 84,
   "id": "2bd65c5f",
   "metadata": {},
   "outputs": [
    {
     "data": {
      "text/html": [
       "<div>\n",
       "<style scoped>\n",
       "    .dataframe tbody tr th:only-of-type {\n",
       "        vertical-align: middle;\n",
       "    }\n",
       "\n",
       "    .dataframe tbody tr th {\n",
       "        vertical-align: top;\n",
       "    }\n",
       "\n",
       "    .dataframe thead th {\n",
       "        text-align: right;\n",
       "    }\n",
       "</style>\n",
       "<table border=\"1\" class=\"dataframe\">\n",
       "  <thead>\n",
       "    <tr style=\"text-align: right;\">\n",
       "      <th></th>\n",
       "      <th>user_id</th>\n",
       "      <th>user_url</th>\n",
       "      <th>reviews_posted</th>\n",
       "      <th>reviews_item_id</th>\n",
       "      <th>reviews_helpful</th>\n",
       "      <th>reviews_recommend</th>\n",
       "      <th>reviews_year</th>\n",
       "      <th>sentiment_analysis</th>\n",
       "      <th>recommendation</th>\n",
       "    </tr>\n",
       "  </thead>\n",
       "  <tbody>\n",
       "    <tr>\n",
       "      <th>0</th>\n",
       "      <td>76561197970982479</td>\n",
       "      <td>http://steamcommunity.com/profiles/76561197970...</td>\n",
       "      <td>2011-11-05</td>\n",
       "      <td>1250</td>\n",
       "      <td>No ratings yet</td>\n",
       "      <td>True</td>\n",
       "      <td>2011</td>\n",
       "      <td>2</td>\n",
       "      <td>5</td>\n",
       "    </tr>\n",
       "    <tr>\n",
       "      <th>1</th>\n",
       "      <td>js41637</td>\n",
       "      <td>http://steamcommunity.com/id/js41637</td>\n",
       "      <td>2014-06-24</td>\n",
       "      <td>251610</td>\n",
       "      <td>15 of 20 people (75%) found this review helpful</td>\n",
       "      <td>True</td>\n",
       "      <td>2014</td>\n",
       "      <td>2</td>\n",
       "      <td>5</td>\n",
       "    </tr>\n",
       "    <tr>\n",
       "      <th>3</th>\n",
       "      <td>doctr</td>\n",
       "      <td>http://steamcommunity.com/id/doctr</td>\n",
       "      <td>2013-10-14</td>\n",
       "      <td>250320</td>\n",
       "      <td>2 of 2 people (100%) found this review helpful</td>\n",
       "      <td>True</td>\n",
       "      <td>2013</td>\n",
       "      <td>2</td>\n",
       "      <td>5</td>\n",
       "    </tr>\n",
       "    <tr>\n",
       "      <th>4</th>\n",
       "      <td>maplemage</td>\n",
       "      <td>http://steamcommunity.com/id/maplemage</td>\n",
       "      <td>2014-04-15</td>\n",
       "      <td>211420</td>\n",
       "      <td>35 of 43 people (81%) found this review helpful</td>\n",
       "      <td>True</td>\n",
       "      <td>2014</td>\n",
       "      <td>1</td>\n",
       "      <td>3</td>\n",
       "    </tr>\n",
       "    <tr>\n",
       "      <th>5</th>\n",
       "      <td>Wackky</td>\n",
       "      <td>http://steamcommunity.com/id/Wackky</td>\n",
       "      <td>2014-05-05</td>\n",
       "      <td>249130</td>\n",
       "      <td>7 of 8 people (88%) found this review helpful</td>\n",
       "      <td>True</td>\n",
       "      <td>2014</td>\n",
       "      <td>1</td>\n",
       "      <td>3</td>\n",
       "    </tr>\n",
       "    <tr>\n",
       "      <th>8</th>\n",
       "      <td>76561198089393905</td>\n",
       "      <td>http://steamcommunity.com/profiles/76561198089...</td>\n",
       "      <td>2015-02-01</td>\n",
       "      <td>72850</td>\n",
       "      <td>3 of 3 people (100%) found this review helpful</td>\n",
       "      <td>True</td>\n",
       "      <td>2015</td>\n",
       "      <td>0</td>\n",
       "      <td>1</td>\n",
       "    </tr>\n",
       "    <tr>\n",
       "      <th>11</th>\n",
       "      <td>WeiEDKrSat</td>\n",
       "      <td>http://steamcommunity.com/id/WeiEDKrSat</td>\n",
       "      <td>2013-12-25</td>\n",
       "      <td>4000</td>\n",
       "      <td>0 of 1 people (0%) found this review helpful</td>\n",
       "      <td>True</td>\n",
       "      <td>2013</td>\n",
       "      <td>1</td>\n",
       "      <td>3</td>\n",
       "    </tr>\n",
       "    <tr>\n",
       "      <th>12</th>\n",
       "      <td>thequeenpanda</td>\n",
       "      <td>http://steamcommunity.com/id/thequeenpanda</td>\n",
       "      <td>2012-06-23</td>\n",
       "      <td>42910</td>\n",
       "      <td>0 of 2 people (0%) found this review helpful</td>\n",
       "      <td>True</td>\n",
       "      <td>2012</td>\n",
       "      <td>1</td>\n",
       "      <td>3</td>\n",
       "    </tr>\n",
       "    <tr>\n",
       "      <th>13</th>\n",
       "      <td>death-hunter</td>\n",
       "      <td>http://steamcommunity.com/id/death-hunter</td>\n",
       "      <td>2015-09-05</td>\n",
       "      <td>232090</td>\n",
       "      <td>0 of 1 people (0%) found this review helpful</td>\n",
       "      <td>True</td>\n",
       "      <td>2015</td>\n",
       "      <td>2</td>\n",
       "      <td>5</td>\n",
       "    </tr>\n",
       "    <tr>\n",
       "      <th>14</th>\n",
       "      <td>DJKamBer</td>\n",
       "      <td>http://steamcommunity.com/id/DJKamBer</td>\n",
       "      <td>2014-07-14</td>\n",
       "      <td>304930</td>\n",
       "      <td>2 of 4 people (50%) found this review helpful</td>\n",
       "      <td>True</td>\n",
       "      <td>2014</td>\n",
       "      <td>2</td>\n",
       "      <td>5</td>\n",
       "    </tr>\n",
       "  </tbody>\n",
       "</table>\n",
       "</div>"
      ],
      "text/plain": [
       "              user_id                                           user_url  \\\n",
       "0   76561197970982479  http://steamcommunity.com/profiles/76561197970...   \n",
       "1             js41637               http://steamcommunity.com/id/js41637   \n",
       "3               doctr                 http://steamcommunity.com/id/doctr   \n",
       "4           maplemage             http://steamcommunity.com/id/maplemage   \n",
       "5              Wackky                http://steamcommunity.com/id/Wackky   \n",
       "8   76561198089393905  http://steamcommunity.com/profiles/76561198089...   \n",
       "11         WeiEDKrSat            http://steamcommunity.com/id/WeiEDKrSat   \n",
       "12      thequeenpanda         http://steamcommunity.com/id/thequeenpanda   \n",
       "13       death-hunter          http://steamcommunity.com/id/death-hunter   \n",
       "14           DJKamBer              http://steamcommunity.com/id/DJKamBer   \n",
       "\n",
       "   reviews_posted  reviews_item_id  \\\n",
       "0      2011-11-05             1250   \n",
       "1      2014-06-24           251610   \n",
       "3      2013-10-14           250320   \n",
       "4      2014-04-15           211420   \n",
       "5      2014-05-05           249130   \n",
       "8      2015-02-01            72850   \n",
       "11     2013-12-25             4000   \n",
       "12     2012-06-23            42910   \n",
       "13     2015-09-05           232090   \n",
       "14     2014-07-14           304930   \n",
       "\n",
       "                                    reviews_helpful  reviews_recommend  \\\n",
       "0                                    No ratings yet               True   \n",
       "1   15 of 20 people (75%) found this review helpful               True   \n",
       "3    2 of 2 people (100%) found this review helpful               True   \n",
       "4   35 of 43 people (81%) found this review helpful               True   \n",
       "5     7 of 8 people (88%) found this review helpful               True   \n",
       "8    3 of 3 people (100%) found this review helpful               True   \n",
       "11     0 of 1 people (0%) found this review helpful               True   \n",
       "12     0 of 2 people (0%) found this review helpful               True   \n",
       "13     0 of 1 people (0%) found this review helpful               True   \n",
       "14    2 of 4 people (50%) found this review helpful               True   \n",
       "\n",
       "    reviews_year  sentiment_analysis  recommendation  \n",
       "0           2011                   2               5  \n",
       "1           2014                   2               5  \n",
       "3           2013                   2               5  \n",
       "4           2014                   1               3  \n",
       "5           2014                   1               3  \n",
       "8           2015                   0               1  \n",
       "11          2013                   1               3  \n",
       "12          2012                   1               3  \n",
       "13          2015                   2               5  \n",
       "14          2014                   2               5  "
      ]
     },
     "execution_count": 84,
     "metadata": {},
     "output_type": "execute_result"
    }
   ],
   "source": [
    "data_reviews.head(10)"
   ]
  },
  {
   "cell_type": "markdown",
   "id": "26b830fc",
   "metadata": {},
   "source": [
    "Nos enfocaremos en simplificar y refinar nuestros datos, extrayendo únicamente la información relevante para nuestro modelo de recomendación. seleccionaremos las columnas `'user_id`, `'reviews_item_id`' y `'recomendation'` del DataFrame `data_reviews`\n",
    "\n"
   ]
  },
  {
   "cell_type": "code",
   "execution_count": 85,
   "id": "68f3b218",
   "metadata": {},
   "outputs": [],
   "source": [
    "data_reviews_filtered = data_reviews[['user_id', 'reviews_item_id', 'recommendation']]\n",
    "# Renombrar la columna \"reviews_item_id\" a \"item_id\" en el DataFrame df1\n",
    "data_reviews_filtered.rename(columns={'reviews_item_id': 'item_id'}, inplace=True)"
   ]
  },
  {
   "cell_type": "code",
   "execution_count": 86,
   "id": "0282a5a9",
   "metadata": {},
   "outputs": [
    {
     "data": {
      "text/html": [
       "<div>\n",
       "<style scoped>\n",
       "    .dataframe tbody tr th:only-of-type {\n",
       "        vertical-align: middle;\n",
       "    }\n",
       "\n",
       "    .dataframe tbody tr th {\n",
       "        vertical-align: top;\n",
       "    }\n",
       "\n",
       "    .dataframe thead th {\n",
       "        text-align: right;\n",
       "    }\n",
       "</style>\n",
       "<table border=\"1\" class=\"dataframe\">\n",
       "  <thead>\n",
       "    <tr style=\"text-align: right;\">\n",
       "      <th></th>\n",
       "      <th>user_id</th>\n",
       "      <th>item_id</th>\n",
       "      <th>recommendation</th>\n",
       "    </tr>\n",
       "  </thead>\n",
       "  <tbody>\n",
       "    <tr>\n",
       "      <th>0</th>\n",
       "      <td>76561197970982479</td>\n",
       "      <td>1250</td>\n",
       "      <td>5</td>\n",
       "    </tr>\n",
       "    <tr>\n",
       "      <th>1</th>\n",
       "      <td>js41637</td>\n",
       "      <td>251610</td>\n",
       "      <td>5</td>\n",
       "    </tr>\n",
       "    <tr>\n",
       "      <th>3</th>\n",
       "      <td>doctr</td>\n",
       "      <td>250320</td>\n",
       "      <td>5</td>\n",
       "    </tr>\n",
       "  </tbody>\n",
       "</table>\n",
       "</div>"
      ],
      "text/plain": [
       "             user_id  item_id  recommendation\n",
       "0  76561197970982479     1250               5\n",
       "1            js41637   251610               5\n",
       "3              doctr   250320               5"
      ]
     },
     "execution_count": 86,
     "metadata": {},
     "output_type": "execute_result"
    }
   ],
   "source": [
    "data_reviews_filtered.head(3)"
   ]
  },
  {
   "cell_type": "markdown",
   "id": "7099920a",
   "metadata": {},
   "source": [
    "Es necesario tambien algunas columnas del dataframe `data_items`, realizaremos dos pasos clave: en primer lugar, extraeremos los valores únicos de los nombres de los juegos (`'item_name'`). Luego, con esta lista de juegos únicos, crearemos un nuevo DataFrame que contendrá información sobre el identificador del juego (`'item_id'`) y su nombre único."
   ]
  },
  {
   "cell_type": "code",
   "execution_count": 87,
   "id": "273e84ce",
   "metadata": {},
   "outputs": [],
   "source": [
    "# Crea un nuevo DataFrame con 'item_id' y 'item_name' (valores únicos)\n",
    "unique_items_df = data_items[['item_id', 'item_name']].drop_duplicates()"
   ]
  },
  {
   "cell_type": "code",
   "execution_count": 88,
   "id": "d31ba400",
   "metadata": {},
   "outputs": [
    {
     "data": {
      "text/html": [
       "<div>\n",
       "<style scoped>\n",
       "    .dataframe tbody tr th:only-of-type {\n",
       "        vertical-align: middle;\n",
       "    }\n",
       "\n",
       "    .dataframe tbody tr th {\n",
       "        vertical-align: top;\n",
       "    }\n",
       "\n",
       "    .dataframe thead th {\n",
       "        text-align: right;\n",
       "    }\n",
       "</style>\n",
       "<table border=\"1\" class=\"dataframe\">\n",
       "  <thead>\n",
       "    <tr style=\"text-align: right;\">\n",
       "      <th></th>\n",
       "      <th>item_id</th>\n",
       "      <th>item_name</th>\n",
       "    </tr>\n",
       "  </thead>\n",
       "  <tbody>\n",
       "    <tr>\n",
       "      <th>0</th>\n",
       "      <td>10</td>\n",
       "      <td>Counter-Strike</td>\n",
       "    </tr>\n",
       "    <tr>\n",
       "      <th>1</th>\n",
       "      <td>20</td>\n",
       "      <td>Team Fortress Classic</td>\n",
       "    </tr>\n",
       "    <tr>\n",
       "      <th>2</th>\n",
       "      <td>30</td>\n",
       "      <td>Day of Defeat</td>\n",
       "    </tr>\n",
       "  </tbody>\n",
       "</table>\n",
       "</div>"
      ],
      "text/plain": [
       "   item_id              item_name\n",
       "0       10         Counter-Strike\n",
       "1       20  Team Fortress Classic\n",
       "2       30          Day of Defeat"
      ]
     },
     "execution_count": 88,
     "metadata": {},
     "output_type": "execute_result"
    }
   ],
   "source": [
    "unique_items_df.head(3)"
   ]
  },
  {
   "cell_type": "markdown",
   "id": "b6f5f9e2",
   "metadata": {},
   "source": [
    "Uniremos el DataFrame que contiene los juegos únicos y el DataFrame filtrado de reseñas de usuarios. Esta fusión se basará en la columna \"item_id\" y nos permitirá combinar la información de ambos conjuntos para lograr un análisis más completo."
   ]
  },
  {
   "cell_type": "code",
   "execution_count": 89,
   "id": "0f7fb761",
   "metadata": {},
   "outputs": [],
   "source": [
    "# Realiza la fusión (merge) de unique_items_df y data_reviews_filtered usando 'item_id'\n",
    "merged_data = data_reviews_filtered.merge(unique_items_df, on='item_id')"
   ]
  },
  {
   "cell_type": "code",
   "execution_count": 90,
   "id": "ffc607c8",
   "metadata": {},
   "outputs": [
    {
     "data": {
      "text/html": [
       "<div>\n",
       "<style scoped>\n",
       "    .dataframe tbody tr th:only-of-type {\n",
       "        vertical-align: middle;\n",
       "    }\n",
       "\n",
       "    .dataframe tbody tr th {\n",
       "        vertical-align: top;\n",
       "    }\n",
       "\n",
       "    .dataframe thead th {\n",
       "        text-align: right;\n",
       "    }\n",
       "</style>\n",
       "<table border=\"1\" class=\"dataframe\">\n",
       "  <thead>\n",
       "    <tr style=\"text-align: right;\">\n",
       "      <th></th>\n",
       "      <th>user_id</th>\n",
       "      <th>item_id</th>\n",
       "      <th>recommendation</th>\n",
       "      <th>item_name</th>\n",
       "    </tr>\n",
       "  </thead>\n",
       "  <tbody>\n",
       "    <tr>\n",
       "      <th>0</th>\n",
       "      <td>76561197970982479</td>\n",
       "      <td>1250</td>\n",
       "      <td>5</td>\n",
       "      <td>Killing Floor</td>\n",
       "    </tr>\n",
       "    <tr>\n",
       "      <th>1</th>\n",
       "      <td>EndAtHallow</td>\n",
       "      <td>1250</td>\n",
       "      <td>1</td>\n",
       "      <td>Killing Floor</td>\n",
       "    </tr>\n",
       "    <tr>\n",
       "      <th>2</th>\n",
       "      <td>76561198107847795</td>\n",
       "      <td>1250</td>\n",
       "      <td>5</td>\n",
       "      <td>Killing Floor</td>\n",
       "    </tr>\n",
       "    <tr>\n",
       "      <th>3</th>\n",
       "      <td>usaidwotnow</td>\n",
       "      <td>1250</td>\n",
       "      <td>5</td>\n",
       "      <td>Killing Floor</td>\n",
       "    </tr>\n",
       "    <tr>\n",
       "      <th>4</th>\n",
       "      <td>76561198081529182</td>\n",
       "      <td>1250</td>\n",
       "      <td>5</td>\n",
       "      <td>Killing Floor</td>\n",
       "    </tr>\n",
       "    <tr>\n",
       "      <th>...</th>\n",
       "      <td>...</td>\n",
       "      <td>...</td>\n",
       "      <td>...</td>\n",
       "      <td>...</td>\n",
       "    </tr>\n",
       "    <tr>\n",
       "      <th>42556</th>\n",
       "      <td>Hobgoblin101</td>\n",
       "      <td>288370</td>\n",
       "      <td>5</td>\n",
       "      <td>Strike Suit Zero: Director's Cut</td>\n",
       "    </tr>\n",
       "    <tr>\n",
       "      <th>42557</th>\n",
       "      <td>julez225</td>\n",
       "      <td>73010</td>\n",
       "      <td>5</td>\n",
       "      <td>Cities in Motion</td>\n",
       "    </tr>\n",
       "    <tr>\n",
       "      <th>42558</th>\n",
       "      <td>76561198029064257</td>\n",
       "      <td>16600</td>\n",
       "      <td>5</td>\n",
       "      <td>Trials 2: Second Edition</td>\n",
       "    </tr>\n",
       "    <tr>\n",
       "      <th>42559</th>\n",
       "      <td>Darkjet15</td>\n",
       "      <td>232950</td>\n",
       "      <td>3</td>\n",
       "      <td>Bridge Project</td>\n",
       "    </tr>\n",
       "    <tr>\n",
       "      <th>42560</th>\n",
       "      <td>themajesticlemon</td>\n",
       "      <td>205080</td>\n",
       "      <td>1</td>\n",
       "      <td>BIT.TRIP FATE</td>\n",
       "    </tr>\n",
       "  </tbody>\n",
       "</table>\n",
       "<p>42561 rows × 4 columns</p>\n",
       "</div>"
      ],
      "text/plain": [
       "                 user_id  item_id  recommendation  \\\n",
       "0      76561197970982479     1250               5   \n",
       "1            EndAtHallow     1250               1   \n",
       "2      76561198107847795     1250               5   \n",
       "3            usaidwotnow     1250               5   \n",
       "4      76561198081529182     1250               5   \n",
       "...                  ...      ...             ...   \n",
       "42556       Hobgoblin101   288370               5   \n",
       "42557           julez225    73010               5   \n",
       "42558  76561198029064257    16600               5   \n",
       "42559          Darkjet15   232950               3   \n",
       "42560   themajesticlemon   205080               1   \n",
       "\n",
       "                              item_name  \n",
       "0                         Killing Floor  \n",
       "1                         Killing Floor  \n",
       "2                         Killing Floor  \n",
       "3                         Killing Floor  \n",
       "4                         Killing Floor  \n",
       "...                                 ...  \n",
       "42556  Strike Suit Zero: Director's Cut  \n",
       "42557                  Cities in Motion  \n",
       "42558          Trials 2: Second Edition  \n",
       "42559                    Bridge Project  \n",
       "42560                     BIT.TRIP FATE  \n",
       "\n",
       "[42561 rows x 4 columns]"
      ]
     },
     "execution_count": 90,
     "metadata": {},
     "output_type": "execute_result"
    }
   ],
   "source": [
    "merged_data"
   ]
  },
  {
   "cell_type": "code",
   "execution_count": 91,
   "id": "56df6b31",
   "metadata": {},
   "outputs": [
    {
     "data": {
      "text/plain": [
       "user_id           0\n",
       "item_id           0\n",
       "recommendation    0\n",
       "item_name         0\n",
       "dtype: int64"
      ]
     },
     "execution_count": 91,
     "metadata": {},
     "output_type": "execute_result"
    }
   ],
   "source": [
    "merged_data.isnull().sum()"
   ]
  },
  {
   "cell_type": "markdown",
   "id": "89e4b0fb",
   "metadata": {},
   "source": [
    "Al realizar un conteo de valores nulos en el DataFrame \"merged_data,\" se ha confirmado que no existen valores nulos en ninguna de las columnas. Este resultado indica que la fusión de los datos se ha ejecutado con éxito, y que no se ha perdido información en las columnas clave. Con esta validación, estamos listos para avanzar en el análisis y visualización de los datos, lo que nos proporcionará una mejor comprensión de la información contenida en el DataFrame."
   ]
  },
  {
   "cell_type": "markdown",
   "id": "7f69f07e",
   "metadata": {},
   "source": [
    "Exploraremos la distribución de las reviews en función del puntaje de recomendación asignado. Para lograrlo, generaremos un histograma que nos permitirá visualizar con claridad la cantidad de reviews en cada categoría de puntaje de recomendación"
   ]
  },
  {
   "cell_type": "code",
   "execution_count": 92,
   "id": "03fa5d1d",
   "metadata": {},
   "outputs": [
    {
     "data": {
      "image/png": "[encoded data removed]",
      "text/plain": [
       "<Figure size 1000x600 with 1 Axes>"
      ]
     },
     "metadata": {},
     "output_type": "display_data"
    }
   ],
   "source": [
    "# Crear un histograma de la cantidad de reviews por puntaje de recomendación\n",
    "plt.figure(figsize=(10, 6))\n",
    "n, bins, patches = plt.hist(data_reviews_filtered['recommendation'], bins=[1, 2, 3, 4, 5, 6], align='left', rwidth=0.8, edgecolor='black')\n",
    "\n",
    "# Configurar etiquetas y título\n",
    "plt.xlabel('Puntaje de Recomendación')\n",
    "plt.ylabel('Cantidad de Reviews')\n",
    "plt.title('Distribución de Reviews por Puntaje de Recomendación')\n",
    "\n",
    "# Agregar la cantidad de reviews en la parte superior de cada barra\n",
    "for i, rect in enumerate(patches):\n",
    "    height = rect.get_height()\n",
    "    plt.text(rect.get_x() + rect.get_width() / 2, height + 10, f'{int(n[i])}', ha='center')\n",
    "\n",
    "# Mostrar el gráfico\n",
    "plt.show()\n"
   ]
  },
  {
   "cell_type": "markdown",
   "id": "86548894",
   "metadata": {},
   "source": [
    "Al observar el histograma que representa la distribución de reseñas por puntaje de recomendación, podemos extraer las siguientes conclusiones:\n",
    "\n",
    "La categoría de puntaje \"5\" tiene la mayor cantidad de reseñas, con aproximadamente 31,414 reseñas. Esto sugiere que la mayoría de los usuarios ha calificado los juegos con análisis de sentimiento positivo y recomendaciones positivas.\n",
    "\n",
    "La segunda categoría más grande es la de puntaje \"3\", con alrededor de 14,563 reseñas. Esto indica que existe un número considerable de usuarios con análisis de sentimiento neutral y recomendaciones positivas.\n",
    "\n",
    "El puntaje \"1\" cuenta con aproximadamente 7,058 reseñas, lo que demuestra que un número significativo de usuarios ha calificado los juegos con análisis de sentimiento negativo, independientemente de si son recomendados o no.\n",
    "\n",
    "Los puntajes \"2\" y \"4\" son menos comunes, con alrededor de 2,478 y 1,884 reseñas respectivamente, lo que indica que hay menos usuarios con sentimiento neutral y recomendaciones positivas en el caso del puntaje \"2\" y juegos con análisis de sentimiento positivo pero no recomendados, puntaje \"4\".\n",
    "\n",
    "En resumen, el histograma refleja una tendencia hacia puntajes altos y moderados, lo que sugiere que la mayoría de los juegos en la plataforma ha recibido calificaciones positivas. No obstante, también existen calificaciones intermedias y negativas, aunque son menos comunes."
   ]
  },
  {
   "cell_type": "markdown",
   "id": "bf3e3820",
   "metadata": {},
   "source": [
    "# Carga del Conjunto de Datos Transformado\n",
    "En esta etapa, cargaremos el conjunto de datos transformado y depurado, que hemos denominado \"recommendation_model.csv.\" Este archivo refleja nuestro conjunto de datos preparado y optimizado para el modelado del sistema de recomendación."
   ]
  },
  {
   "cell_type": "code",
   "execution_count": 93,
   "id": "7b8098f2",
   "metadata": {},
   "outputs": [
    {
     "name": "stdout",
     "output_type": "stream",
     "text": [
      "Se ha guardado el archivo recommendation_model.csv. en la misma carpeta.\n"
     ]
    }
   ],
   "source": [
    "# Especifica el nombre del archivo\n",
    "nombre_del_archivo = 'recommendation_model.csv.'\n",
    "\n",
    "# Guarda el DataFrame en el archivo CSV\n",
    "merged_data.to_csv(\"recommendation_model.csv\", index=False, encoding='utf-8')\n",
    "print(f'Se ha guardado el archivo {nombre_del_archivo} en la misma carpeta.')"
   ]
  },
  {
   "cell_type": "code",
   "execution_count": null,
   "id": "43189b6c",
   "metadata": {},
   "outputs": [],
   "source": []
  }
 ],
 "metadata": {
  "kernelspec": {
   "display_name": "Python 3 (ipykernel)",
   "language": "python",
   "name": "python3"
  },
  "language_info": {
   "codemirror_mode": {
    "name": "ipython",
    "version": 3
   },
   "file_extension": ".py",
   "mimetype": "text/x-python",
   "name": "python",
   "nbconvert_exporter": "python",
   "pygments_lexer": "ipython3",
   "version": "3.11.4"
  }
 },
 "nbformat": 4,
 "nbformat_minor": 5
}
