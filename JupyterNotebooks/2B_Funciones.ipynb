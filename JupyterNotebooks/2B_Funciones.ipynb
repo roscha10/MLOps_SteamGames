{
 "cells": [
  {
   "cell_type": "markdown",
   "id": "83607004",
   "metadata": {},
   "source": [
    "# Creación de Funciones con Conjuntos de Datos Personalizados:\n",
    "\n",
    "   procederemos a la creación y prueba de las funciones esenciales requeridas para el funcionamiento de nuestra API. Utilizaremos los conjuntos de datos que creamos en la etapa anterior para facilitar y agilizar el proceso. Es importante destacar que, si bien las funciones están diseñadas y optimizadas en este entorno, es posible que necesitemos realizar ajustes adicionales al hacer el despliegue final, teniendo en cuenta las condiciones específicas de renderización y FastAPI. "
   ]
  },
  {
   "cell_type": "code",
   "execution_count": 3,
   "id": "9ba14712",
   "metadata": {},
   "outputs": [],
   "source": [
    "import warnings\n",
    "warnings.filterwarnings(\"ignore\")"
   ]
  },
  {
   "cell_type": "markdown",
   "id": "de35d61b",
   "metadata": {},
   "source": [
    "# Inicialización\n",
    "Importamos las librerías que nos servirán para poder procesar, visualizar y explorar nuestros datos de manera efectiva, la librería `pandas`"
   ]
  },
  {
   "cell_type": "code",
   "execution_count": 2,
   "id": "6fc86797",
   "metadata": {},
   "outputs": [],
   "source": [
    "import pandas as pd\n",
    "\n",
    "%load_ext autoreload\n",
    "%autoreload 2"
   ]
  },
  {
   "cell_type": "markdown",
   "id": "a0c52ab1",
   "metadata": {},
   "source": [
    "# Extracción de los datos\n",
    "\n",
    "procederemos a la extracción de datos a partir de los conjuntos previamente preparados y optimizados. Cada uno de estos conjuntos desempeña un papel en el desarrollo de las funciones requeridas para nuestra API. A continuación, presentamos una breve descripción de los conjuntos de datos que se utilizarán en este proceso:\n",
    "\n",
    "1. **df_most_played_year**\n",
    "Este conjunto de datos nos proporciona información sobre los géneros de videojuegos junto con el año en que se jugaron más horas. A través de esta fuente, obtendremos una visión de los géneros más populares a lo largo del tiempo.\n",
    "\n",
    "2. **df_maxuser_genre_cleaned**\n",
    "En este conjunto, encontramos información relacionada con el usuario que acumula la mayor cantidad de horas jugadas para un género de videojuegos específico. Esto nos permitirá identificar a los usuarios más destacados en cada género y comprender sus preferencias de juego.\n",
    "\n",
    "3. **df_top_positive_games_by_year**\n",
    "Este conjunto de datos muestra los juegos más recomendados por año, junto con el número de recomendaciones y su posición en el ranking. Al acceder a esta información, podremos brindar a los usuarios recomendaciones basadas en las calificaciones y popularidad de los juegos en diferentes momentos.\n",
    "\n",
    "4. **df_top_negative_games_by_year**\n",
    "Similar al conjunto anterior, este proporciona una lista de juegos no recomendados por año, junto con su clasificación en el ranking y el número de recomendaciones negativas. Esta fuente nos permitirá advertir a los usuarios sobre juegos que quizás deseen evitar.\n",
    "\n",
    "5. **df_sentiment_counts**\n",
    "Finalmente, contamos con un archivo que ofrece un recuento detallado de reseñas de usuarios categorizadas por año y sentimiento. Esta información es esencial para comprender la percepción y el sentimiento de la comunidad de usuarios en relación con los juegos a lo largo del tiempo.\n",
    "\n"
   ]
  },
  {
   "cell_type": "code",
   "execution_count": 6,
   "id": "3ec119e4",
   "metadata": {},
   "outputs": [
    {
     "ename": "FileNotFoundError",
     "evalue": "[Errno 2] No such file or directory: './Data_API/df_most_played_year.csv'",
     "output_type": "error",
     "traceback": [
      "\u001b[1;31m---------------------------------------------------------------------------\u001b[0m",
      "\u001b[1;31mFileNotFoundError\u001b[0m                         Traceback (most recent call last)",
      "\u001b[1;32mc:\\Users\\Ismalia Gonzalez\\Desktop\\Proyecto ML_SteamGames\\JupyterNotebooks\\Funciones.ipynb Celda 6\u001b[0m line \u001b[0;36m2\n\u001b[0;32m      <a href='vscode-notebook-cell:/c%3A/Users/Ismalia%20Gonzalez/Desktop/Proyecto%20ML_SteamGames/JupyterNotebooks/Funciones.ipynb#W5sZmlsZQ%3D%3D?line=0'>1</a>\u001b[0m \u001b[39m# extraccion de los datos de df_most_played_year\u001b[39;00m\n\u001b[1;32m----> <a href='vscode-notebook-cell:/c%3A/Users/Ismalia%20Gonzalez/Desktop/Proyecto%20ML_SteamGames/JupyterNotebooks/Funciones.ipynb#W5sZmlsZQ%3D%3D?line=1'>2</a>\u001b[0m df_most_played_year \u001b[39m=\u001b[39m pd\u001b[39m.\u001b[39;49mread_csv(\u001b[39m\"\u001b[39;49m\u001b[39m./Data_API/df_most_played_year.csv\u001b[39;49m\u001b[39m\"\u001b[39;49m)\n",
      "File \u001b[1;32mc:\\Users\\Ismalia Gonzalez\\AppData\\Local\\Programs\\Python\\Python311\\Lib\\site-packages\\pandas\\util\\_decorators.py:211\u001b[0m, in \u001b[0;36mdeprecate_kwarg.<locals>._deprecate_kwarg.<locals>.wrapper\u001b[1;34m(*args, **kwargs)\u001b[0m\n\u001b[0;32m    209\u001b[0m     \u001b[39melse\u001b[39;00m:\n\u001b[0;32m    210\u001b[0m         kwargs[new_arg_name] \u001b[39m=\u001b[39m new_arg_value\n\u001b[1;32m--> 211\u001b[0m \u001b[39mreturn\u001b[39;00m func(\u001b[39m*\u001b[39;49margs, \u001b[39m*\u001b[39;49m\u001b[39m*\u001b[39;49mkwargs)\n",
      "File \u001b[1;32mc:\\Users\\Ismalia Gonzalez\\AppData\\Local\\Programs\\Python\\Python311\\Lib\\site-packages\\pandas\\util\\_decorators.py:331\u001b[0m, in \u001b[0;36mdeprecate_nonkeyword_arguments.<locals>.decorate.<locals>.wrapper\u001b[1;34m(*args, **kwargs)\u001b[0m\n\u001b[0;32m    325\u001b[0m \u001b[39mif\u001b[39;00m \u001b[39mlen\u001b[39m(args) \u001b[39m>\u001b[39m num_allow_args:\n\u001b[0;32m    326\u001b[0m     warnings\u001b[39m.\u001b[39mwarn(\n\u001b[0;32m    327\u001b[0m         msg\u001b[39m.\u001b[39mformat(arguments\u001b[39m=\u001b[39m_format_argument_list(allow_args)),\n\u001b[0;32m    328\u001b[0m         \u001b[39mFutureWarning\u001b[39;00m,\n\u001b[0;32m    329\u001b[0m         stacklevel\u001b[39m=\u001b[39mfind_stack_level(),\n\u001b[0;32m    330\u001b[0m     )\n\u001b[1;32m--> 331\u001b[0m \u001b[39mreturn\u001b[39;00m func(\u001b[39m*\u001b[39;49margs, \u001b[39m*\u001b[39;49m\u001b[39m*\u001b[39;49mkwargs)\n",
      "File \u001b[1;32mc:\\Users\\Ismalia Gonzalez\\AppData\\Local\\Programs\\Python\\Python311\\Lib\\site-packages\\pandas\\io\\parsers\\readers.py:950\u001b[0m, in \u001b[0;36mread_csv\u001b[1;34m(filepath_or_buffer, sep, delimiter, header, names, index_col, usecols, squeeze, prefix, mangle_dupe_cols, dtype, engine, converters, true_values, false_values, skipinitialspace, skiprows, skipfooter, nrows, na_values, keep_default_na, na_filter, verbose, skip_blank_lines, parse_dates, infer_datetime_format, keep_date_col, date_parser, dayfirst, cache_dates, iterator, chunksize, compression, thousands, decimal, lineterminator, quotechar, quoting, doublequote, escapechar, comment, encoding, encoding_errors, dialect, error_bad_lines, warn_bad_lines, on_bad_lines, delim_whitespace, low_memory, memory_map, float_precision, storage_options)\u001b[0m\n\u001b[0;32m    935\u001b[0m kwds_defaults \u001b[39m=\u001b[39m _refine_defaults_read(\n\u001b[0;32m    936\u001b[0m     dialect,\n\u001b[0;32m    937\u001b[0m     delimiter,\n\u001b[1;32m   (...)\u001b[0m\n\u001b[0;32m    946\u001b[0m     defaults\u001b[39m=\u001b[39m{\u001b[39m\"\u001b[39m\u001b[39mdelimiter\u001b[39m\u001b[39m\"\u001b[39m: \u001b[39m\"\u001b[39m\u001b[39m,\u001b[39m\u001b[39m\"\u001b[39m},\n\u001b[0;32m    947\u001b[0m )\n\u001b[0;32m    948\u001b[0m kwds\u001b[39m.\u001b[39mupdate(kwds_defaults)\n\u001b[1;32m--> 950\u001b[0m \u001b[39mreturn\u001b[39;00m _read(filepath_or_buffer, kwds)\n",
      "File \u001b[1;32mc:\\Users\\Ismalia Gonzalez\\AppData\\Local\\Programs\\Python\\Python311\\Lib\\site-packages\\pandas\\io\\parsers\\readers.py:605\u001b[0m, in \u001b[0;36m_read\u001b[1;34m(filepath_or_buffer, kwds)\u001b[0m\n\u001b[0;32m    602\u001b[0m _validate_names(kwds\u001b[39m.\u001b[39mget(\u001b[39m\"\u001b[39m\u001b[39mnames\u001b[39m\u001b[39m\"\u001b[39m, \u001b[39mNone\u001b[39;00m))\n\u001b[0;32m    604\u001b[0m \u001b[39m# Create the parser.\u001b[39;00m\n\u001b[1;32m--> 605\u001b[0m parser \u001b[39m=\u001b[39m TextFileReader(filepath_or_buffer, \u001b[39m*\u001b[39;49m\u001b[39m*\u001b[39;49mkwds)\n\u001b[0;32m    607\u001b[0m \u001b[39mif\u001b[39;00m chunksize \u001b[39mor\u001b[39;00m iterator:\n\u001b[0;32m    608\u001b[0m     \u001b[39mreturn\u001b[39;00m parser\n",
      "File \u001b[1;32mc:\\Users\\Ismalia Gonzalez\\AppData\\Local\\Programs\\Python\\Python311\\Lib\\site-packages\\pandas\\io\\parsers\\readers.py:1442\u001b[0m, in \u001b[0;36mTextFileReader.__init__\u001b[1;34m(self, f, engine, **kwds)\u001b[0m\n\u001b[0;32m   1439\u001b[0m     \u001b[39mself\u001b[39m\u001b[39m.\u001b[39moptions[\u001b[39m\"\u001b[39m\u001b[39mhas_index_names\u001b[39m\u001b[39m\"\u001b[39m] \u001b[39m=\u001b[39m kwds[\u001b[39m\"\u001b[39m\u001b[39mhas_index_names\u001b[39m\u001b[39m\"\u001b[39m]\n\u001b[0;32m   1441\u001b[0m \u001b[39mself\u001b[39m\u001b[39m.\u001b[39mhandles: IOHandles \u001b[39m|\u001b[39m \u001b[39mNone\u001b[39;00m \u001b[39m=\u001b[39m \u001b[39mNone\u001b[39;00m\n\u001b[1;32m-> 1442\u001b[0m \u001b[39mself\u001b[39m\u001b[39m.\u001b[39m_engine \u001b[39m=\u001b[39m \u001b[39mself\u001b[39;49m\u001b[39m.\u001b[39;49m_make_engine(f, \u001b[39mself\u001b[39;49m\u001b[39m.\u001b[39;49mengine)\n",
      "File \u001b[1;32mc:\\Users\\Ismalia Gonzalez\\AppData\\Local\\Programs\\Python\\Python311\\Lib\\site-packages\\pandas\\io\\parsers\\readers.py:1735\u001b[0m, in \u001b[0;36mTextFileReader._make_engine\u001b[1;34m(self, f, engine)\u001b[0m\n\u001b[0;32m   1733\u001b[0m     \u001b[39mif\u001b[39;00m \u001b[39m\"\u001b[39m\u001b[39mb\u001b[39m\u001b[39m\"\u001b[39m \u001b[39mnot\u001b[39;00m \u001b[39min\u001b[39;00m mode:\n\u001b[0;32m   1734\u001b[0m         mode \u001b[39m+\u001b[39m\u001b[39m=\u001b[39m \u001b[39m\"\u001b[39m\u001b[39mb\u001b[39m\u001b[39m\"\u001b[39m\n\u001b[1;32m-> 1735\u001b[0m \u001b[39mself\u001b[39m\u001b[39m.\u001b[39mhandles \u001b[39m=\u001b[39m get_handle(\n\u001b[0;32m   1736\u001b[0m     f,\n\u001b[0;32m   1737\u001b[0m     mode,\n\u001b[0;32m   1738\u001b[0m     encoding\u001b[39m=\u001b[39;49m\u001b[39mself\u001b[39;49m\u001b[39m.\u001b[39;49moptions\u001b[39m.\u001b[39;49mget(\u001b[39m\"\u001b[39;49m\u001b[39mencoding\u001b[39;49m\u001b[39m\"\u001b[39;49m, \u001b[39mNone\u001b[39;49;00m),\n\u001b[0;32m   1739\u001b[0m     compression\u001b[39m=\u001b[39;49m\u001b[39mself\u001b[39;49m\u001b[39m.\u001b[39;49moptions\u001b[39m.\u001b[39;49mget(\u001b[39m\"\u001b[39;49m\u001b[39mcompression\u001b[39;49m\u001b[39m\"\u001b[39;49m, \u001b[39mNone\u001b[39;49;00m),\n\u001b[0;32m   1740\u001b[0m     memory_map\u001b[39m=\u001b[39;49m\u001b[39mself\u001b[39;49m\u001b[39m.\u001b[39;49moptions\u001b[39m.\u001b[39;49mget(\u001b[39m\"\u001b[39;49m\u001b[39mmemory_map\u001b[39;49m\u001b[39m\"\u001b[39;49m, \u001b[39mFalse\u001b[39;49;00m),\n\u001b[0;32m   1741\u001b[0m     is_text\u001b[39m=\u001b[39;49mis_text,\n\u001b[0;32m   1742\u001b[0m     errors\u001b[39m=\u001b[39;49m\u001b[39mself\u001b[39;49m\u001b[39m.\u001b[39;49moptions\u001b[39m.\u001b[39;49mget(\u001b[39m\"\u001b[39;49m\u001b[39mencoding_errors\u001b[39;49m\u001b[39m\"\u001b[39;49m, \u001b[39m\"\u001b[39;49m\u001b[39mstrict\u001b[39;49m\u001b[39m\"\u001b[39;49m),\n\u001b[0;32m   1743\u001b[0m     storage_options\u001b[39m=\u001b[39;49m\u001b[39mself\u001b[39;49m\u001b[39m.\u001b[39;49moptions\u001b[39m.\u001b[39;49mget(\u001b[39m\"\u001b[39;49m\u001b[39mstorage_options\u001b[39;49m\u001b[39m\"\u001b[39;49m, \u001b[39mNone\u001b[39;49;00m),\n\u001b[0;32m   1744\u001b[0m )\n\u001b[0;32m   1745\u001b[0m \u001b[39massert\u001b[39;00m \u001b[39mself\u001b[39m\u001b[39m.\u001b[39mhandles \u001b[39mis\u001b[39;00m \u001b[39mnot\u001b[39;00m \u001b[39mNone\u001b[39;00m\n\u001b[0;32m   1746\u001b[0m f \u001b[39m=\u001b[39m \u001b[39mself\u001b[39m\u001b[39m.\u001b[39mhandles\u001b[39m.\u001b[39mhandle\n",
      "File \u001b[1;32mc:\\Users\\Ismalia Gonzalez\\AppData\\Local\\Programs\\Python\\Python311\\Lib\\site-packages\\pandas\\io\\common.py:856\u001b[0m, in \u001b[0;36mget_handle\u001b[1;34m(path_or_buf, mode, encoding, compression, memory_map, is_text, errors, storage_options)\u001b[0m\n\u001b[0;32m    851\u001b[0m \u001b[39melif\u001b[39;00m \u001b[39misinstance\u001b[39m(handle, \u001b[39mstr\u001b[39m):\n\u001b[0;32m    852\u001b[0m     \u001b[39m# Check whether the filename is to be opened in binary mode.\u001b[39;00m\n\u001b[0;32m    853\u001b[0m     \u001b[39m# Binary mode does not support 'encoding' and 'newline'.\u001b[39;00m\n\u001b[0;32m    854\u001b[0m     \u001b[39mif\u001b[39;00m ioargs\u001b[39m.\u001b[39mencoding \u001b[39mand\u001b[39;00m \u001b[39m\"\u001b[39m\u001b[39mb\u001b[39m\u001b[39m\"\u001b[39m \u001b[39mnot\u001b[39;00m \u001b[39min\u001b[39;00m ioargs\u001b[39m.\u001b[39mmode:\n\u001b[0;32m    855\u001b[0m         \u001b[39m# Encoding\u001b[39;00m\n\u001b[1;32m--> 856\u001b[0m         handle \u001b[39m=\u001b[39m \u001b[39mopen\u001b[39;49m(\n\u001b[0;32m    857\u001b[0m             handle,\n\u001b[0;32m    858\u001b[0m             ioargs\u001b[39m.\u001b[39;49mmode,\n\u001b[0;32m    859\u001b[0m             encoding\u001b[39m=\u001b[39;49mioargs\u001b[39m.\u001b[39;49mencoding,\n\u001b[0;32m    860\u001b[0m             errors\u001b[39m=\u001b[39;49merrors,\n\u001b[0;32m    861\u001b[0m             newline\u001b[39m=\u001b[39;49m\u001b[39m\"\u001b[39;49m\u001b[39m\"\u001b[39;49m,\n\u001b[0;32m    862\u001b[0m         )\n\u001b[0;32m    863\u001b[0m     \u001b[39melse\u001b[39;00m:\n\u001b[0;32m    864\u001b[0m         \u001b[39m# Binary mode\u001b[39;00m\n\u001b[0;32m    865\u001b[0m         handle \u001b[39m=\u001b[39m \u001b[39mopen\u001b[39m(handle, ioargs\u001b[39m.\u001b[39mmode)\n",
      "\u001b[1;31mFileNotFoundError\u001b[0m: [Errno 2] No such file or directory: './Data_API/df_most_played_year.csv'"
     ]
    }
   ],
   "source": [
    "# extraccion de los datos de df_most_played_year\n",
    "df_most_played_year = pd.read_csv(\"df_most_played_year.csv\")"
   ]
  },
  {
   "cell_type": "code",
   "execution_count": 4,
   "id": "c39eacc3",
   "metadata": {},
   "outputs": [
    {
     "data": {
      "text/html": [
       "<div>\n",
       "<style scoped>\n",
       "    .dataframe tbody tr th:only-of-type {\n",
       "        vertical-align: middle;\n",
       "    }\n",
       "\n",
       "    .dataframe tbody tr th {\n",
       "        vertical-align: top;\n",
       "    }\n",
       "\n",
       "    .dataframe thead th {\n",
       "        text-align: right;\n",
       "    }\n",
       "</style>\n",
       "<table border=\"1\" class=\"dataframe\">\n",
       "  <thead>\n",
       "    <tr style=\"text-align: right;\">\n",
       "      <th></th>\n",
       "      <th>genres</th>\n",
       "      <th>release_year</th>\n",
       "      <th>playtime_forever</th>\n",
       "    </tr>\n",
       "  </thead>\n",
       "  <tbody>\n",
       "    <tr>\n",
       "      <th>18</th>\n",
       "      <td>Software Training</td>\n",
       "      <td>2014</td>\n",
       "      <td>412697</td>\n",
       "    </tr>\n",
       "    <tr>\n",
       "      <th>19</th>\n",
       "      <td>Education</td>\n",
       "      <td>2013</td>\n",
       "      <td>340567</td>\n",
       "    </tr>\n",
       "    <tr>\n",
       "      <th>20</th>\n",
       "      <td>Photo Editing</td>\n",
       "      <td>2014</td>\n",
       "      <td>61659</td>\n",
       "    </tr>\n",
       "  </tbody>\n",
       "</table>\n",
       "</div>"
      ],
      "text/plain": [
       "               genres  release_year  playtime_forever\n",
       "18  Software Training          2014            412697\n",
       "19          Education          2013            340567\n",
       "20      Photo Editing          2014             61659"
      ]
     },
     "execution_count": 4,
     "metadata": {},
     "output_type": "execute_result"
    }
   ],
   "source": [
    "df_most_played_year.tail(3)"
   ]
  },
  {
   "cell_type": "code",
   "execution_count": 5,
   "id": "2c53c18a",
   "metadata": {},
   "outputs": [],
   "source": [
    "# extraccion de los datos de df_maxuser_genre_cleaned\n",
    "df_maxuser_genre_cleaned = pd.read_csv('df_maxuser_genre_cleaned.csv')"
   ]
  },
  {
   "cell_type": "code",
   "execution_count": 6,
   "id": "30708a85",
   "metadata": {},
   "outputs": [
    {
     "data": {
      "text/html": [
       "<div>\n",
       "<style scoped>\n",
       "    .dataframe tbody tr th:only-of-type {\n",
       "        vertical-align: middle;\n",
       "    }\n",
       "\n",
       "    .dataframe tbody tr th {\n",
       "        vertical-align: top;\n",
       "    }\n",
       "\n",
       "    .dataframe thead th {\n",
       "        text-align: right;\n",
       "    }\n",
       "</style>\n",
       "<table border=\"1\" class=\"dataframe\">\n",
       "  <thead>\n",
       "    <tr style=\"text-align: right;\">\n",
       "      <th></th>\n",
       "      <th>genres</th>\n",
       "      <th>user_id</th>\n",
       "      <th>playtime_forever</th>\n",
       "      <th>2010</th>\n",
       "      <th>2011</th>\n",
       "      <th>2012</th>\n",
       "      <th>2013</th>\n",
       "      <th>2014</th>\n",
       "      <th>2015</th>\n",
       "    </tr>\n",
       "  </thead>\n",
       "  <tbody>\n",
       "    <tr>\n",
       "      <th>0</th>\n",
       "      <td>Action</td>\n",
       "      <td>thiefofrosesinlalaland</td>\n",
       "      <td>7438.700000</td>\n",
       "      <td>0.0</td>\n",
       "      <td>0.0</td>\n",
       "      <td>0.0</td>\n",
       "      <td>0.0</td>\n",
       "      <td>7107.58</td>\n",
       "      <td>331.12</td>\n",
       "    </tr>\n",
       "    <tr>\n",
       "      <th>1</th>\n",
       "      <td>Adventure</td>\n",
       "      <td>thiefofrosesinlalaland</td>\n",
       "      <td>6776.366667</td>\n",
       "      <td>0.0</td>\n",
       "      <td>0.0</td>\n",
       "      <td>0.0</td>\n",
       "      <td>0.0</td>\n",
       "      <td>6445.25</td>\n",
       "      <td>331.12</td>\n",
       "    </tr>\n",
       "    <tr>\n",
       "      <th>2</th>\n",
       "      <td>Animation &amp;amp; Modeling</td>\n",
       "      <td>76561198059330972</td>\n",
       "      <td>1090.450000</td>\n",
       "      <td>0.0</td>\n",
       "      <td>0.0</td>\n",
       "      <td>0.0</td>\n",
       "      <td>0.0</td>\n",
       "      <td>0.00</td>\n",
       "      <td>1090.45</td>\n",
       "    </tr>\n",
       "  </tbody>\n",
       "</table>\n",
       "</div>"
      ],
      "text/plain": [
       "                     genres                 user_id  playtime_forever  2010  \\\n",
       "0                    Action  thiefofrosesinlalaland       7438.700000   0.0   \n",
       "1                 Adventure  thiefofrosesinlalaland       6776.366667   0.0   \n",
       "2  Animation &amp; Modeling       76561198059330972       1090.450000   0.0   \n",
       "\n",
       "   2011  2012  2013     2014     2015  \n",
       "0   0.0   0.0   0.0  7107.58   331.12  \n",
       "1   0.0   0.0   0.0  6445.25   331.12  \n",
       "2   0.0   0.0   0.0     0.00  1090.45  "
      ]
     },
     "execution_count": 6,
     "metadata": {},
     "output_type": "execute_result"
    }
   ],
   "source": [
    "df_maxuser_genre_cleaned.head(3)"
   ]
  },
  {
   "cell_type": "code",
   "execution_count": 7,
   "id": "edc9ede9",
   "metadata": {},
   "outputs": [],
   "source": [
    "# extraccion de los datos de df_top_positive_games_by_year\n",
    "df_top_positive_games_by_year = pd.read_csv('df_top_positive_games_by_year.csv')"
   ]
  },
  {
   "cell_type": "code",
   "execution_count": 8,
   "id": "b7bc1bcc",
   "metadata": {},
   "outputs": [
    {
     "data": {
      "text/html": [
       "<div>\n",
       "<style scoped>\n",
       "    .dataframe tbody tr th:only-of-type {\n",
       "        vertical-align: middle;\n",
       "    }\n",
       "\n",
       "    .dataframe tbody tr th {\n",
       "        vertical-align: top;\n",
       "    }\n",
       "\n",
       "    .dataframe thead th {\n",
       "        text-align: right;\n",
       "    }\n",
       "</style>\n",
       "<table border=\"1\" class=\"dataframe\">\n",
       "  <thead>\n",
       "    <tr style=\"text-align: right;\">\n",
       "      <th></th>\n",
       "      <th>reviews_year</th>\n",
       "      <th>Rank 1</th>\n",
       "      <th>Rank 2</th>\n",
       "      <th>Rank 3</th>\n",
       "    </tr>\n",
       "  </thead>\n",
       "  <tbody>\n",
       "    <tr>\n",
       "      <th>0</th>\n",
       "      <td>2010</td>\n",
       "      <td>Team Fortress 2</td>\n",
       "      <td>Killing Floor</td>\n",
       "      <td>Alien Swarm</td>\n",
       "    </tr>\n",
       "    <tr>\n",
       "      <th>1</th>\n",
       "      <td>2011</td>\n",
       "      <td>Team Fortress 2</td>\n",
       "      <td>Portal 2</td>\n",
       "      <td>Terraria</td>\n",
       "    </tr>\n",
       "    <tr>\n",
       "      <th>2</th>\n",
       "      <td>2012</td>\n",
       "      <td>Team Fortress 2</td>\n",
       "      <td>Terraria</td>\n",
       "      <td>Garry's Mod</td>\n",
       "    </tr>\n",
       "  </tbody>\n",
       "</table>\n",
       "</div>"
      ],
      "text/plain": [
       "  reviews_year           Rank 1         Rank 2       Rank 3\n",
       "0         2010  Team Fortress 2  Killing Floor  Alien Swarm\n",
       "1         2011  Team Fortress 2       Portal 2     Terraria\n",
       "2         2012  Team Fortress 2       Terraria  Garry's Mod"
      ]
     },
     "execution_count": 8,
     "metadata": {},
     "output_type": "execute_result"
    }
   ],
   "source": [
    "df_top_positive_games_by_year.head(3)"
   ]
  },
  {
   "cell_type": "code",
   "execution_count": 9,
   "id": "b92c5b3b",
   "metadata": {},
   "outputs": [],
   "source": [
    "# extraccion de los datos de df_top_negative_games_by_year\n",
    "df_top_negative_games_by_year = pd.read_csv('df_top_negative_games_by_year.csv')"
   ]
  },
  {
   "cell_type": "code",
   "execution_count": 10,
   "id": "5d3bf63c",
   "metadata": {},
   "outputs": [
    {
     "data": {
      "text/html": [
       "<div>\n",
       "<style scoped>\n",
       "    .dataframe tbody tr th:only-of-type {\n",
       "        vertical-align: middle;\n",
       "    }\n",
       "\n",
       "    .dataframe tbody tr th {\n",
       "        vertical-align: top;\n",
       "    }\n",
       "\n",
       "    .dataframe thead th {\n",
       "        text-align: right;\n",
       "    }\n",
       "</style>\n",
       "<table border=\"1\" class=\"dataframe\">\n",
       "  <thead>\n",
       "    <tr style=\"text-align: right;\">\n",
       "      <th></th>\n",
       "      <th>reviews_year</th>\n",
       "      <th>Rank 1</th>\n",
       "      <th>Rank 2</th>\n",
       "      <th>Rank 3</th>\n",
       "    </tr>\n",
       "  </thead>\n",
       "  <tbody>\n",
       "    <tr>\n",
       "      <th>0</th>\n",
       "      <td>2010</td>\n",
       "      <td>Team Fortress 2</td>\n",
       "      <td>Sin Reviews Negativos</td>\n",
       "      <td>Sin Reviews Negativos</td>\n",
       "    </tr>\n",
       "    <tr>\n",
       "      <th>1</th>\n",
       "      <td>2011</td>\n",
       "      <td>And Yet It Moves</td>\n",
       "      <td>Team Fortress 2</td>\n",
       "      <td>Counter-Strike: Source</td>\n",
       "    </tr>\n",
       "    <tr>\n",
       "      <th>2</th>\n",
       "      <td>2012</td>\n",
       "      <td>Aliens vs. Predator™</td>\n",
       "      <td>Blacklight: Retribution</td>\n",
       "      <td>Call of Duty®: Black Ops II</td>\n",
       "    </tr>\n",
       "  </tbody>\n",
       "</table>\n",
       "</div>"
      ],
      "text/plain": [
       "  reviews_year                Rank 1                   Rank 2  \\\n",
       "0         2010       Team Fortress 2    Sin Reviews Negativos   \n",
       "1         2011      And Yet It Moves          Team Fortress 2   \n",
       "2         2012  Aliens vs. Predator™  Blacklight: Retribution   \n",
       "\n",
       "                        Rank 3  \n",
       "0        Sin Reviews Negativos  \n",
       "1       Counter-Strike: Source  \n",
       "2  Call of Duty®: Black Ops II  "
      ]
     },
     "execution_count": 10,
     "metadata": {},
     "output_type": "execute_result"
    }
   ],
   "source": [
    "df_top_negative_games_by_year.head(3)"
   ]
  },
  {
   "cell_type": "code",
   "execution_count": 11,
   "id": "b08aac5f",
   "metadata": {},
   "outputs": [],
   "source": [
    "# extraccion de los datos de df_sentiment_count\n",
    "df_sentiment_count = pd.read_csv('df_sentiment_counts.csv')"
   ]
  },
  {
   "cell_type": "code",
   "execution_count": 12,
   "id": "eb86e54b",
   "metadata": {},
   "outputs": [
    {
     "data": {
      "text/html": [
       "<div>\n",
       "<style scoped>\n",
       "    .dataframe tbody tr th:only-of-type {\n",
       "        vertical-align: middle;\n",
       "    }\n",
       "\n",
       "    .dataframe tbody tr th {\n",
       "        vertical-align: top;\n",
       "    }\n",
       "\n",
       "    .dataframe thead th {\n",
       "        text-align: right;\n",
       "    }\n",
       "</style>\n",
       "<table border=\"1\" class=\"dataframe\">\n",
       "  <thead>\n",
       "    <tr style=\"text-align: right;\">\n",
       "      <th></th>\n",
       "      <th>release_year</th>\n",
       "      <th>0</th>\n",
       "      <th>1</th>\n",
       "      <th>2</th>\n",
       "    </tr>\n",
       "  </thead>\n",
       "  <tbody>\n",
       "    <tr>\n",
       "      <th>0</th>\n",
       "      <td>1989</td>\n",
       "      <td>0</td>\n",
       "      <td>0</td>\n",
       "      <td>1</td>\n",
       "    </tr>\n",
       "    <tr>\n",
       "      <th>1</th>\n",
       "      <td>1990</td>\n",
       "      <td>1</td>\n",
       "      <td>0</td>\n",
       "      <td>4</td>\n",
       "    </tr>\n",
       "    <tr>\n",
       "      <th>2</th>\n",
       "      <td>1991</td>\n",
       "      <td>0</td>\n",
       "      <td>0</td>\n",
       "      <td>1</td>\n",
       "    </tr>\n",
       "  </tbody>\n",
       "</table>\n",
       "</div>"
      ],
      "text/plain": [
       "  release_year  0  1  2\n",
       "0         1989  0  0  1\n",
       "1         1990  1  0  4\n",
       "2         1991  0  0  1"
      ]
     },
     "execution_count": 12,
     "metadata": {},
     "output_type": "execute_result"
    }
   ],
   "source": [
    "df_sentiment_count.head(3)"
   ]
  },
  {
   "cell_type": "markdown",
   "id": "8a25e98e",
   "metadata": {},
   "source": [
    "# Desarrollo de la Funciones requeridas\n",
    "\n",
    "### PlayTimeGenre\n",
    "\n",
    "La función \"PlayTimeGenre\"  recibe un género de tipo 'str'como parámetro, la función devolverá el año de lanzamiento en el que ese género acumuló la mayor cantidad de horas jugadas."
   ]
  },
  {
   "cell_type": "code",
   "execution_count": 13,
   "id": "6aeb3e21",
   "metadata": {},
   "outputs": [],
   "source": [
    "def PlayTimeGenre(genre):\n",
    "    # Filtra el DataFrame por el género especificado\n",
    "    genre_data = df_most_played_year[df_most_played_year['genres'] == genre]\n",
    "    \n",
    "    if genre_data.empty:\n",
    "        return f'El género {genre} no se encuentra en el conjunto de datos.'\n",
    "    \n",
    "    # Obtiene el año directamente\n",
    "    max_playtime_year = genre_data.iloc[0]['release_year']\n",
    "    \n",
    "    # Devuelve el resultado en el formato deseado\n",
    "    result = f\"Año de lanzamiento con más horas jugadas para el género {genre}: {max_playtime_year}\"\n",
    "    \n",
    "    return result\n"
   ]
  },
  {
   "cell_type": "code",
   "execution_count": 14,
   "id": "4b354f4f",
   "metadata": {},
   "outputs": [
    {
     "data": {
      "text/plain": [
       "'Año de lanzamiento con más horas jugadas para el género Indie: 2006'"
      ]
     },
     "execution_count": 14,
     "metadata": {},
     "output_type": "execute_result"
    }
   ],
   "source": [
    "PlayTimeGenre('Indie')"
   ]
  },
  {
   "cell_type": "markdown",
   "id": "a90bb22a",
   "metadata": {},
   "source": [
    "### UserForGenre\n",
    "\n",
    "\n",
    "La función \"UserForGenre\" recibe un género de tipo 'str' como parámetro y tiene como objetivo devolver el usuario que acumula más horas jugadas para el género dado y una lista de la acumulación de horas jugadas por año."
   ]
  },
  {
   "cell_type": "code",
   "execution_count": 40,
   "id": "e91b83fc",
   "metadata": {},
   "outputs": [],
   "source": [
    "def UserForGenre(genre):\n",
    "    # Filtra el DataFrame por el género especificado\n",
    "    genre_data = df_maxuser_genre_cleaned[df_maxuser_genre_cleaned['genres'] == genre]\n",
    "    \n",
    "    if genre_data.empty:\n",
    "        return f'El género {genre} no se encuentra en el conjunto de datos.'\n",
    "    \n",
    "    # Encuentra el usuario con más horas jugadas para el género\n",
    "    max_playtime_user = genre_data['user_id'].values[0]\n",
    "    \n",
    "    # Crea una lista de acumulación de horas jugadas por año\n",
    "    playtime_by_year = []\n",
    "    for column in genre_data.columns[3:]:  # Ignora las primeras tres columnas\n",
    "        year = int(column)\n",
    "        playtime = round(genre_data[column].sum() , 2)  # Convierte minutos a horas y redondea a 2 decimales\n",
    "        if playtime > 0:\n",
    "            playtime_by_year.append({'Año': year, 'Horas': playtime})\n",
    "    \n",
    "    # Devuelve el resultado en el formato deseado\n",
    "    result = {\n",
    "        f\"Usuario con más horas jugadas para Género {genre}\": max_playtime_user,\n",
    "        \"Horas jugadas\": playtime_by_year\n",
    "    }\n",
    "\n",
    "    return result\n"
   ]
  },
  {
   "cell_type": "code",
   "execution_count": 46,
   "id": "4e0c1c92",
   "metadata": {},
   "outputs": [
    {
     "data": {
      "text/plain": [
       "{'Usuario con más horas jugadas para Género Action': 'thiefofrosesinlalaland',\n",
       " 'Horas jugadas': [{'Año': 2014, 'Horas': 7107.58},\n",
       "  {'Año': 2015, 'Horas': 331.12}]}"
      ]
     },
     "execution_count": 46,
     "metadata": {},
     "output_type": "execute_result"
    }
   ],
   "source": [
    "UserForGenre('Action')"
   ]
  },
  {
   "cell_type": "markdown",
   "id": "9a76cc2c",
   "metadata": {},
   "source": [
    "### UsersRecommend\n",
    "La función \"UserForGenre\" recibe el año de tipo 'str' como parámetro y devuelve el top 3 de juegos MÁS recomendados por usuarios para el año dado. "
   ]
  },
  {
   "cell_type": "code",
   "execution_count": 111,
   "id": "c8c7db62",
   "metadata": {},
   "outputs": [
    {
     "data": {
      "text/html": [
       "<div>\n",
       "<style scoped>\n",
       "    .dataframe tbody tr th:only-of-type {\n",
       "        vertical-align: middle;\n",
       "    }\n",
       "\n",
       "    .dataframe tbody tr th {\n",
       "        vertical-align: top;\n",
       "    }\n",
       "\n",
       "    .dataframe thead th {\n",
       "        text-align: right;\n",
       "    }\n",
       "</style>\n",
       "<table border=\"1\" class=\"dataframe\">\n",
       "  <thead>\n",
       "    <tr style=\"text-align: right;\">\n",
       "      <th></th>\n",
       "      <th>reviews_year</th>\n",
       "      <th>Rank 1</th>\n",
       "      <th>Rank 2</th>\n",
       "      <th>Rank 3</th>\n",
       "    </tr>\n",
       "  </thead>\n",
       "  <tbody>\n",
       "    <tr>\n",
       "      <th>0</th>\n",
       "      <td>2010</td>\n",
       "      <td>Team Fortress 2</td>\n",
       "      <td>Killing Floor</td>\n",
       "      <td>Alien Swarm</td>\n",
       "    </tr>\n",
       "    <tr>\n",
       "      <th>1</th>\n",
       "      <td>2011</td>\n",
       "      <td>Team Fortress 2</td>\n",
       "      <td>Portal 2</td>\n",
       "      <td>Terraria</td>\n",
       "    </tr>\n",
       "    <tr>\n",
       "      <th>2</th>\n",
       "      <td>2012</td>\n",
       "      <td>Team Fortress 2</td>\n",
       "      <td>Terraria</td>\n",
       "      <td>Garry's Mod</td>\n",
       "    </tr>\n",
       "  </tbody>\n",
       "</table>\n",
       "</div>"
      ],
      "text/plain": [
       "  reviews_year           Rank 1         Rank 2       Rank 3\n",
       "0         2010  Team Fortress 2  Killing Floor  Alien Swarm\n",
       "1         2011  Team Fortress 2       Portal 2     Terraria\n",
       "2         2012  Team Fortress 2       Terraria  Garry's Mod"
      ]
     },
     "execution_count": 111,
     "metadata": {},
     "output_type": "execute_result"
    }
   ],
   "source": [
    "df_top_positive_games_by_year.head(3)"
   ]
  },
  {
   "cell_type": "code",
   "execution_count": 126,
   "id": "e3675f1c",
   "metadata": {},
   "outputs": [],
   "source": [
    "def UsersRecommend(year):\n",
    "    # Filtrar el DataFrame por el año dado\n",
    "    filtered_df = df_top_positive_games_by_year[df_top_positive_games_by_year['reviews_year'] == year]\n",
    "    \n",
    "    # Verificar si se encontraron revisiones para el año dado\n",
    "    if filtered_df.empty:\n",
    "        return \"Año ingresado inválido o sin revisiones.\"\n",
    "    \n",
    "    top_games_list = [\n",
    "        {\"Puesto 1\": filtered_df.iloc[0]['Rank 1']},\n",
    "        {\"Puesto 2\": filtered_df.iloc[0]['Rank 2']},\n",
    "        {\"Puesto 3\": filtered_df.iloc[0]['Rank 3']}\n",
    "    ]\n",
    "    return top_games_list\n"
   ]
  },
  {
   "cell_type": "code",
   "execution_count": 128,
   "id": "22fff423",
   "metadata": {},
   "outputs": [
    {
     "data": {
      "text/plain": [
       "'Año ingresado inválido o sin revisiones.'"
      ]
     },
     "execution_count": 128,
     "metadata": {},
     "output_type": "execute_result"
    }
   ],
   "source": [
    "UsersRecommend('201')"
   ]
  },
  {
   "cell_type": "markdown",
   "id": "1875e2fb",
   "metadata": {},
   "source": [
    "### UsersNotRecommend\n",
    "\n",
    "La función \"UserForGenre\" recibe el año de tipo 'str' como parámetro y devuelve el top 3 de juegos MENOS recomendados por usuarios para el año dado."
   ]
  },
  {
   "cell_type": "code",
   "execution_count": 109,
   "id": "107af931",
   "metadata": {},
   "outputs": [
    {
     "data": {
      "text/html": [
       "<div>\n",
       "<style scoped>\n",
       "    .dataframe tbody tr th:only-of-type {\n",
       "        vertical-align: middle;\n",
       "    }\n",
       "\n",
       "    .dataframe tbody tr th {\n",
       "        vertical-align: top;\n",
       "    }\n",
       "\n",
       "    .dataframe thead th {\n",
       "        text-align: right;\n",
       "    }\n",
       "</style>\n",
       "<table border=\"1\" class=\"dataframe\">\n",
       "  <thead>\n",
       "    <tr style=\"text-align: right;\">\n",
       "      <th></th>\n",
       "      <th>reviews_year</th>\n",
       "      <th>Rank 1</th>\n",
       "      <th>Rank 2</th>\n",
       "      <th>Rank 3</th>\n",
       "    </tr>\n",
       "  </thead>\n",
       "  <tbody>\n",
       "    <tr>\n",
       "      <th>0</th>\n",
       "      <td>2010</td>\n",
       "      <td>Team Fortress 2</td>\n",
       "      <td>Sin Reviews Negativos</td>\n",
       "      <td>Sin Reviews Negativos</td>\n",
       "    </tr>\n",
       "    <tr>\n",
       "      <th>1</th>\n",
       "      <td>2011</td>\n",
       "      <td>And Yet It Moves</td>\n",
       "      <td>Team Fortress 2</td>\n",
       "      <td>Counter-Strike: Source</td>\n",
       "    </tr>\n",
       "    <tr>\n",
       "      <th>2</th>\n",
       "      <td>2012</td>\n",
       "      <td>Aliens vs. Predator™</td>\n",
       "      <td>Blacklight: Retribution</td>\n",
       "      <td>Call of Duty®: Black Ops II</td>\n",
       "    </tr>\n",
       "  </tbody>\n",
       "</table>\n",
       "</div>"
      ],
      "text/plain": [
       "  reviews_year                Rank 1                   Rank 2  \\\n",
       "0         2010       Team Fortress 2    Sin Reviews Negativos   \n",
       "1         2011      And Yet It Moves          Team Fortress 2   \n",
       "2         2012  Aliens vs. Predator™  Blacklight: Retribution   \n",
       "\n",
       "                        Rank 3  \n",
       "0        Sin Reviews Negativos  \n",
       "1       Counter-Strike: Source  \n",
       "2  Call of Duty®: Black Ops II  "
      ]
     },
     "execution_count": 109,
     "metadata": {},
     "output_type": "execute_result"
    }
   ],
   "source": [
    "df_top_negative_games_by_year.head(3)"
   ]
  },
  {
   "cell_type": "code",
   "execution_count": 129,
   "id": "82e382bd",
   "metadata": {},
   "outputs": [],
   "source": [
    "def UsersNotRecommend(year):\n",
    "    # Filtrar el DataFrame por el año dado\n",
    "    filtered_df = df_top_negative_games_by_year[df_top_negative_games_by_year['reviews_year'] == year]\n",
    "    \n",
    "    # Verificar si se encontraron revisiones para el año dado\n",
    "    if filtered_df.empty:\n",
    "        return \"Año ingresado inválido o sin revisiones.\"\n",
    "    \n",
    "    top_games_list = [\n",
    "        {\"Puesto 1\": filtered_df.iloc[0]['Rank 1']},\n",
    "        {\"Puesto 2\": filtered_df.iloc[0]['Rank 2']},\n",
    "        {\"Puesto 3\": filtered_df.iloc[0]['Rank 3']}\n",
    "    ]\n",
    "    return top_games_list\n"
   ]
  },
  {
   "cell_type": "code",
   "execution_count": 133,
   "id": "750b2a68",
   "metadata": {},
   "outputs": [
    {
     "data": {
      "text/plain": [
       "[{'Puesto 1': 'Call of Duty®: Ghosts'},\n",
       " {'Puesto 2': 'Team Fortress 2'},\n",
       " {'Puesto 3': 'Ace of Spades: Battle Builder'}]"
      ]
     },
     "execution_count": 133,
     "metadata": {},
     "output_type": "execute_result"
    }
   ],
   "source": [
    "UsersNotRecommend('2013')"
   ]
  },
  {
   "cell_type": "markdown",
   "id": "02ee63c3",
   "metadata": {},
   "source": [
    "### sentiment_analysis\n",
    "\n",
    "la funcion \"sentiment_analysis\" recibe el año de lanzamiento y devuelve una lista con la cantidad de registros de reseñas de usuarios que se encuentren categorizados con un análisis de sentimiento."
   ]
  },
  {
   "cell_type": "code",
   "execution_count": 1,
   "id": "9e1ccec5",
   "metadata": {},
   "outputs": [
    {
     "ename": "NameError",
     "evalue": "name 'df_sentiment_count' is not defined",
     "output_type": "error",
     "traceback": [
      "\u001b[1;31m---------------------------------------------------------------------------\u001b[0m",
      "\u001b[1;31mNameError\u001b[0m                                 Traceback (most recent call last)",
      "Cell \u001b[1;32mIn[1], line 1\u001b[0m\n\u001b[1;32m----> 1\u001b[0m \u001b[43mdf_sentiment_count\u001b[49m\n",
      "\u001b[1;31mNameError\u001b[0m: name 'df_sentiment_count' is not defined"
     ]
    }
   ],
   "source": [
    "df_sentiment_count\n"
   ]
  },
  {
   "cell_type": "code",
   "execution_count": 134,
   "id": "9cc47f5d",
   "metadata": {},
   "outputs": [],
   "source": [
    "def sentiment_analysis(year):\n",
    "    # Filtrar el DataFrame por el año dado\n",
    "    filtered_df =df_sentiment_count[df_sentiment_count['release_year'] == year]\n",
    "    \n",
    "    # Verificar si se encontraron revisiones para el año dado\n",
    "    if filtered_df.empty:\n",
    "        return \"Año ingresado inválido o sin revisiones.\"\n",
    "    \n",
    "    sentiment_list = [\n",
    "        {\"Negativo\": filtered_df.iloc[0]['0']},\n",
    "        {\"Neutral\": filtered_df.iloc[0]['1']},\n",
    "        {\"Positivo\": filtered_df.iloc[0]['2']}\n",
    "    ]\n",
    "    return sentiment_list"
   ]
  },
  {
   "cell_type": "code",
   "execution_count": 138,
   "id": "a5bd0ce3",
   "metadata": {},
   "outputs": [
    {
     "data": {
      "text/plain": [
       "[{'Negativo': 401}, {'Neutral': 753}, {'Positivo': 1740}]"
      ]
     },
     "execution_count": 138,
     "metadata": {},
     "output_type": "execute_result"
    }
   ],
   "source": [
    "sentiment_analysis('2016')"
   ]
  },
  {
   "cell_type": "code",
   "execution_count": null,
   "id": "e92a0388",
   "metadata": {},
   "outputs": [],
   "source": []
  }
 ],
 "metadata": {
  "kernelspec": {
   "display_name": "Python 3 (ipykernel)",
   "language": "python",
   "name": "python3"
  },
  "language_info": {
   "codemirror_mode": {
    "name": "ipython",
    "version": 3
   },
   "file_extension": ".py",
   "mimetype": "text/x-python",
   "name": "python",
   "nbconvert_exporter": "python",
   "pygments_lexer": "ipython3",
   "version": "3.11.4"
  }
 },
 "nbformat": 4,
 "nbformat_minor": 5
}
